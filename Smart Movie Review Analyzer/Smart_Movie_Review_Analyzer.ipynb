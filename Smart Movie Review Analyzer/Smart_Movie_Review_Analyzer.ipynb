{
  "nbformat": 4,
  "nbformat_minor": 0,
  "metadata": {
    "colab": {
      "provenance": [],
      "collapsed_sections": [
        "Z4P7xVFybSOW",
        "ms7iHTFHmE8a",
        "SB0dfWLOZVwS",
        "7TprPpyscY6V",
        "LVgjnak7l7LQ",
        "cZ3DsBYCmsJq",
        "Lxh4aQ_loPRb",
        "iBX6oXF4tPj5"
      ],
      "toc_visible": true,
      "gpuType": "T4"
    },
    "kernelspec": {
      "name": "python3",
      "display_name": "Python 3"
    },
    "language_info": {
      "name": "python"
    },
    "accelerator": "GPU"
  },
  "cells": [
    {
      "cell_type": "markdown",
      "source": [
        "# **Importing Necccesary libraries and packages**"
      ],
      "metadata": {
        "id": "Z4P7xVFybSOW"
      }
    },
    {
      "cell_type": "code",
      "execution_count": 4,
      "metadata": {
        "colab": {
          "base_uri": "https://localhost:8080/"
        },
        "id": "zdhfv6_lNjMi",
        "outputId": "2156a931-f272-4469-ffaa-c5fb665544da"
      },
      "outputs": [
        {
          "output_type": "stream",
          "name": "stderr",
          "text": [
            "[nltk_data] Downloading package stopwords to /root/nltk_data...\n",
            "[nltk_data]   Package stopwords is already up-to-date!\n"
          ]
        }
      ],
      "source": [
        "# This cell imports necessary libraries for data manipulation,\n",
        "# visualization, text processing, and building a neural network model.\n",
        "\n",
        "# Data handling and manipulation\n",
        "import os # Provides a way to interact with the operating system, useful for file operations.\n",
        "import numpy as np # Fundamental package for scientific computing with Python, especially for numerical operations.\n",
        "import pandas as pd # Provides data structures and analysis tools, essential for working with tabular data.\n",
        "\n",
        "# Data visualization\n",
        "import matplotlib.pyplot as plt # A plotting library for creating static, interactive, and animated visualizations.\n",
        "import seaborn as sns # A statistical data visualization library based on matplotlib, providing a high-level interface for drawing attractive and informative statistical graphics.\n",
        "\n",
        "# Text processing and natural language processing (NLP)\n",
        "import re # Provides regular expression operations for pattern matching in text.\n",
        "import nltk # Natural Language Toolkit, a platform for working with human language data.\n",
        "from nltk.corpus import stopwords # A corpus of words that are generally filtered out in NLP tasks.\n",
        "nltk.download('stopwords') # Downloads the stopwords corpus.\n",
        "import string # Provides a collection of string constants, useful for tasks like punctuation removal.\n",
        "\n",
        "# Machine learning - model building and preparation\n",
        "from sklearn.model_selection import train_test_split # Splits arrays or matrices into random train and test subsets.\n",
        "from sklearn.feature_extraction.text import CountVectorizer, TfidfVectorizer # Tools to convert text data into numerical feature vectors.\n",
        "from keras.models import Model # Used for building functional models in Keras.\n",
        "from keras.layers import LSTM, Activation, Dense, Dropout, Input, Embedding # Layers for building neural networks, specifically an LSTM for sequential data.\n",
        "from keras.optimizers import RMSprop # An optimizer for training neural networks.\n",
        "from tensorflow.keras.preprocessing.text import Tokenizer # Tool to convert text into sequences of integers.\n",
        "from tensorflow.keras.preprocessing.sequence import pad_sequences # Provides padding sequences for consistent input length.\n",
        "from tensorflow.keras.utils import to_categorical # Utilities for handling categorical data\n",
        "from keras.callbacks import EarlyStopping, ModelCheckpoint # Callbacks to monitor training and stop early or save the best model.\n",
        "from sklearn.preprocessing import LabelBinarizer # Converts categorical labels into a one-hot encoding format.\n",
        "from sklearn.metrics import confusion_matrix # Computes a confusion matrix to evaluate the accuracy of a classification.\n",
        "\n",
        "# Potentially for building a sequential model, though 'Model' from keras.models is also imported\n",
        "# from sklearn.models import Sequential # Note: This might be a typo, Sequential is typically from keras.models\n",
        "\n",
        "# Pandas display options\n",
        "pd.set_option('display.max_rows',None) # Displays all rows of a pandas DataFrame.\n",
        "pd.set_option('display.max_columns',None) # Displays all columns of a pandas DataFrame.\n",
        "pd.set_option('display.max_colwidth',255) # Sets the maximum width of a column when displaying."
      ]
    },
    {
      "cell_type": "code",
      "source": [
        "!pip install --upgrade gensim --user"
      ],
      "metadata": {
        "colab": {
          "base_uri": "https://localhost:8080/",
          "height": 532
        },
        "collapsed": true,
        "id": "rLbTlVugRvSl",
        "outputId": "d224ba77-434c-41ad-9201-6fb7631b9082"
      },
      "execution_count": 1,
      "outputs": [
        {
          "output_type": "stream",
          "name": "stdout",
          "text": [
            "Collecting gensim\n",
            "  Downloading gensim-4.3.3-cp311-cp311-manylinux_2_17_x86_64.manylinux2014_x86_64.whl.metadata (8.1 kB)\n",
            "Collecting numpy<2.0,>=1.18.5 (from gensim)\n",
            "  Downloading numpy-1.26.4-cp311-cp311-manylinux_2_17_x86_64.manylinux2014_x86_64.whl.metadata (61 kB)\n",
            "\u001b[2K     \u001b[90m━━━━━━━━━━━━━━━━━━━━━━━━━━━━━━━━━━━━━━━━\u001b[0m \u001b[32m61.0/61.0 kB\u001b[0m \u001b[31m4.3 MB/s\u001b[0m eta \u001b[36m0:00:00\u001b[0m\n",
            "\u001b[?25hCollecting scipy<1.14.0,>=1.7.0 (from gensim)\n",
            "  Downloading scipy-1.13.1-cp311-cp311-manylinux_2_17_x86_64.manylinux2014_x86_64.whl.metadata (60 kB)\n",
            "\u001b[2K     \u001b[90m━━━━━━━━━━━━━━━━━━━━━━━━━━━━━━━━━━━━━━━━\u001b[0m \u001b[32m60.6/60.6 kB\u001b[0m \u001b[31m5.4 MB/s\u001b[0m eta \u001b[36m0:00:00\u001b[0m\n",
            "\u001b[?25hRequirement already satisfied: smart-open>=1.8.1 in /usr/local/lib/python3.11/dist-packages (from gensim) (7.3.0)\n",
            "Requirement already satisfied: wrapt in /usr/local/lib/python3.11/dist-packages (from smart-open>=1.8.1->gensim) (1.17.2)\n",
            "Downloading gensim-4.3.3-cp311-cp311-manylinux_2_17_x86_64.manylinux2014_x86_64.whl (26.7 MB)\n",
            "\u001b[2K   \u001b[90m━━━━━━━━━━━━━━━━━━━━━━━━━━━━━━━━━━━━━━━━\u001b[0m \u001b[32m26.7/26.7 MB\u001b[0m \u001b[31m56.1 MB/s\u001b[0m eta \u001b[36m0:00:00\u001b[0m\n",
            "\u001b[?25hDownloading numpy-1.26.4-cp311-cp311-manylinux_2_17_x86_64.manylinux2014_x86_64.whl (18.3 MB)\n",
            "\u001b[2K   \u001b[90m━━━━━━━━━━━━━━━━━━━━━━━━━━━━━━━━━━━━━━━━\u001b[0m \u001b[32m18.3/18.3 MB\u001b[0m \u001b[31m40.9 MB/s\u001b[0m eta \u001b[36m0:00:00\u001b[0m\n",
            "\u001b[?25hDownloading scipy-1.13.1-cp311-cp311-manylinux_2_17_x86_64.manylinux2014_x86_64.whl (38.6 MB)\n",
            "\u001b[2K   \u001b[90m━━━━━━━━━━━━━━━━━━━━━━━━━━━━━━━━━━━━━━━━\u001b[0m \u001b[32m38.6/38.6 MB\u001b[0m \u001b[31m11.7 MB/s\u001b[0m eta \u001b[36m0:00:00\u001b[0m\n",
            "\u001b[?25hInstalling collected packages: numpy, scipy, gensim\n",
            "\u001b[33m  WARNING: The script f2py is installed in '/root/.local/bin' which is not on PATH.\n",
            "  Consider adding this directory to PATH or, if you prefer to suppress this warning, use --no-warn-script-location.\u001b[0m\u001b[33m\n",
            "\u001b[0m\u001b[31mERROR: pip's dependency resolver does not currently take into account all the packages that are installed. This behaviour is the source of the following dependency conflicts.\n",
            "tsfresh 0.21.0 requires scipy>=1.14.0; python_version >= \"3.10\", but you have scipy 1.13.1 which is incompatible.\n",
            "thinc 8.3.6 requires numpy<3.0.0,>=2.0.0, but you have numpy 1.26.4 which is incompatible.\u001b[0m\u001b[31m\n",
            "\u001b[0mSuccessfully installed gensim-4.3.3 numpy-1.26.4 scipy-1.13.1\n"
          ]
        },
        {
          "output_type": "display_data",
          "data": {
            "application/vnd.colab-display-data+json": {
              "pip_warning": {
                "packages": [
                  "numpy"
                ]
              },
              "id": "3210a89dd2bc4bd58dbfb9fd76ee9b15"
            }
          },
          "metadata": {}
        }
      ]
    },
    {
      "cell_type": "markdown",
      "source": [
        "# **Part A: Text Classification & Word Embeddings**"
      ],
      "metadata": {
        "id": "ms7iHTFHmE8a"
      }
    },
    {
      "cell_type": "markdown",
      "source": [
        "## **Importing dataset**"
      ],
      "metadata": {
        "id": "xsw_G-cibhka"
      }
    },
    {
      "cell_type": "code",
      "source": [
        "import kagglehub\n",
        "\n",
        "# Download latest version\n",
        "path = kagglehub.dataset_download(\"lakshmi25npathi/imdb-dataset-of-50k-movie-reviews\")\n",
        "\n",
        "print(\"Path to dataset files:\", path)"
      ],
      "metadata": {
        "colab": {
          "base_uri": "https://localhost:8080/"
        },
        "id": "PTPc-XwwYWAu",
        "outputId": "71cb6d59-c6c2-4b7a-a07c-8e59a4986580"
      },
      "execution_count": 6,
      "outputs": [
        {
          "output_type": "stream",
          "name": "stdout",
          "text": [
            "Path to dataset files: /kaggle/input/imdb-dataset-of-50k-movie-reviews\n"
          ]
        }
      ]
    },
    {
      "cell_type": "code",
      "source": [
        "data_path = \"/content/IMDB Dataset 2.csv\""
      ],
      "metadata": {
        "id": "fHeqTbPNX3H6"
      },
      "execution_count": 7,
      "outputs": []
    },
    {
      "cell_type": "code",
      "source": [
        "path = '/kaggle/input/imdb-dataset-of-50k-movie-reviews/IMDB Dataset.csv'\n",
        "df = pd.read_csv(path)\n",
        "\n",
        "# Show the first 5 rows\n",
        "df.head()"
      ],
      "metadata": {
        "colab": {
          "base_uri": "https://localhost:8080/",
          "height": 293
        },
        "collapsed": true,
        "id": "GYZVNDUOXpop",
        "outputId": "e99b708c-bedd-4583-d6c5-8d7124f2bd80"
      },
      "execution_count": 8,
      "outputs": [
        {
          "output_type": "execute_result",
          "data": {
            "text/plain": [
              "                                                                                                                                                                                                                                                           review  \\\n",
              "0  One of the other reviewers has mentioned that after watching just 1 Oz episode you'll be hooked. They are right, as this is exactly what happened with me.<br /><br />The first thing that struck me about Oz was its brutality and unflinching scenes of v...   \n",
              "1  A wonderful little production. <br /><br />The filming technique is very unassuming- very old-time-BBC fashion and gives a comforting, and sometimes discomforting, sense of realism to the entire piece. <br /><br />The actors are extremely well chosen-...   \n",
              "2  I thought this was a wonderful way to spend time on a too hot summer weekend, sitting in the air conditioned theater and watching a light-hearted comedy. The plot is simplistic, but the dialogue is witty and the characters are likable (even the well b...   \n",
              "3  Basically there's a family where a little boy (Jake) thinks there's a zombie in his closet & his parents are fighting all the time.<br /><br />This movie is slower than a soap opera... and suddenly, Jake decides to become Rambo and kill the zombie.<br...   \n",
              "4  Petter Mattei's \"Love in the Time of Money\" is a visually stunning film to watch. Mr. Mattei offers us a vivid portrait about human relations. This is a movie that seems to be telling us what money, power and success do to people in the different situ...   \n",
              "\n",
              "  sentiment  \n",
              "0  positive  \n",
              "1  positive  \n",
              "2  positive  \n",
              "3  negative  \n",
              "4  positive  "
            ],
            "text/html": [
              "\n",
              "  <div id=\"df-6045fec7-569b-4cc9-bbfc-e2cc33597d2b\" class=\"colab-df-container\">\n",
              "    <div>\n",
              "<style scoped>\n",
              "    .dataframe tbody tr th:only-of-type {\n",
              "        vertical-align: middle;\n",
              "    }\n",
              "\n",
              "    .dataframe tbody tr th {\n",
              "        vertical-align: top;\n",
              "    }\n",
              "\n",
              "    .dataframe thead th {\n",
              "        text-align: right;\n",
              "    }\n",
              "</style>\n",
              "<table border=\"1\" class=\"dataframe\">\n",
              "  <thead>\n",
              "    <tr style=\"text-align: right;\">\n",
              "      <th></th>\n",
              "      <th>review</th>\n",
              "      <th>sentiment</th>\n",
              "    </tr>\n",
              "  </thead>\n",
              "  <tbody>\n",
              "    <tr>\n",
              "      <th>0</th>\n",
              "      <td>One of the other reviewers has mentioned that after watching just 1 Oz episode you'll be hooked. They are right, as this is exactly what happened with me.&lt;br /&gt;&lt;br /&gt;The first thing that struck me about Oz was its brutality and unflinching scenes of v...</td>\n",
              "      <td>positive</td>\n",
              "    </tr>\n",
              "    <tr>\n",
              "      <th>1</th>\n",
              "      <td>A wonderful little production. &lt;br /&gt;&lt;br /&gt;The filming technique is very unassuming- very old-time-BBC fashion and gives a comforting, and sometimes discomforting, sense of realism to the entire piece. &lt;br /&gt;&lt;br /&gt;The actors are extremely well chosen-...</td>\n",
              "      <td>positive</td>\n",
              "    </tr>\n",
              "    <tr>\n",
              "      <th>2</th>\n",
              "      <td>I thought this was a wonderful way to spend time on a too hot summer weekend, sitting in the air conditioned theater and watching a light-hearted comedy. The plot is simplistic, but the dialogue is witty and the characters are likable (even the well b...</td>\n",
              "      <td>positive</td>\n",
              "    </tr>\n",
              "    <tr>\n",
              "      <th>3</th>\n",
              "      <td>Basically there's a family where a little boy (Jake) thinks there's a zombie in his closet &amp; his parents are fighting all the time.&lt;br /&gt;&lt;br /&gt;This movie is slower than a soap opera... and suddenly, Jake decides to become Rambo and kill the zombie.&lt;br...</td>\n",
              "      <td>negative</td>\n",
              "    </tr>\n",
              "    <tr>\n",
              "      <th>4</th>\n",
              "      <td>Petter Mattei's \"Love in the Time of Money\" is a visually stunning film to watch. Mr. Mattei offers us a vivid portrait about human relations. This is a movie that seems to be telling us what money, power and success do to people in the different situ...</td>\n",
              "      <td>positive</td>\n",
              "    </tr>\n",
              "  </tbody>\n",
              "</table>\n",
              "</div>\n",
              "    <div class=\"colab-df-buttons\">\n",
              "\n",
              "  <div class=\"colab-df-container\">\n",
              "    <button class=\"colab-df-convert\" onclick=\"convertToInteractive('df-6045fec7-569b-4cc9-bbfc-e2cc33597d2b')\"\n",
              "            title=\"Convert this dataframe to an interactive table.\"\n",
              "            style=\"display:none;\">\n",
              "\n",
              "  <svg xmlns=\"http://www.w3.org/2000/svg\" height=\"24px\" viewBox=\"0 -960 960 960\">\n",
              "    <path d=\"M120-120v-720h720v720H120Zm60-500h600v-160H180v160Zm220 220h160v-160H400v160Zm0 220h160v-160H400v160ZM180-400h160v-160H180v160Zm440 0h160v-160H620v160ZM180-180h160v-160H180v160Zm440 0h160v-160H620v160Z\"/>\n",
              "  </svg>\n",
              "    </button>\n",
              "\n",
              "  <style>\n",
              "    .colab-df-container {\n",
              "      display:flex;\n",
              "      gap: 12px;\n",
              "    }\n",
              "\n",
              "    .colab-df-convert {\n",
              "      background-color: #E8F0FE;\n",
              "      border: none;\n",
              "      border-radius: 50%;\n",
              "      cursor: pointer;\n",
              "      display: none;\n",
              "      fill: #1967D2;\n",
              "      height: 32px;\n",
              "      padding: 0 0 0 0;\n",
              "      width: 32px;\n",
              "    }\n",
              "\n",
              "    .colab-df-convert:hover {\n",
              "      background-color: #E2EBFA;\n",
              "      box-shadow: 0px 1px 2px rgba(60, 64, 67, 0.3), 0px 1px 3px 1px rgba(60, 64, 67, 0.15);\n",
              "      fill: #174EA6;\n",
              "    }\n",
              "\n",
              "    .colab-df-buttons div {\n",
              "      margin-bottom: 4px;\n",
              "    }\n",
              "\n",
              "    [theme=dark] .colab-df-convert {\n",
              "      background-color: #3B4455;\n",
              "      fill: #D2E3FC;\n",
              "    }\n",
              "\n",
              "    [theme=dark] .colab-df-convert:hover {\n",
              "      background-color: #434B5C;\n",
              "      box-shadow: 0px 1px 3px 1px rgba(0, 0, 0, 0.15);\n",
              "      filter: drop-shadow(0px 1px 2px rgba(0, 0, 0, 0.3));\n",
              "      fill: #FFFFFF;\n",
              "    }\n",
              "  </style>\n",
              "\n",
              "    <script>\n",
              "      const buttonEl =\n",
              "        document.querySelector('#df-6045fec7-569b-4cc9-bbfc-e2cc33597d2b button.colab-df-convert');\n",
              "      buttonEl.style.display =\n",
              "        google.colab.kernel.accessAllowed ? 'block' : 'none';\n",
              "\n",
              "      async function convertToInteractive(key) {\n",
              "        const element = document.querySelector('#df-6045fec7-569b-4cc9-bbfc-e2cc33597d2b');\n",
              "        const dataTable =\n",
              "          await google.colab.kernel.invokeFunction('convertToInteractive',\n",
              "                                                    [key], {});\n",
              "        if (!dataTable) return;\n",
              "\n",
              "        const docLinkHtml = 'Like what you see? Visit the ' +\n",
              "          '<a target=\"_blank\" href=https://colab.research.google.com/notebooks/data_table.ipynb>data table notebook</a>'\n",
              "          + ' to learn more about interactive tables.';\n",
              "        element.innerHTML = '';\n",
              "        dataTable['output_type'] = 'display_data';\n",
              "        await google.colab.output.renderOutput(dataTable, element);\n",
              "        const docLink = document.createElement('div');\n",
              "        docLink.innerHTML = docLinkHtml;\n",
              "        element.appendChild(docLink);\n",
              "      }\n",
              "    </script>\n",
              "  </div>\n",
              "\n",
              "\n",
              "    <div id=\"df-49e028bc-43f3-4100-8a31-1528f677ca9e\">\n",
              "      <button class=\"colab-df-quickchart\" onclick=\"quickchart('df-49e028bc-43f3-4100-8a31-1528f677ca9e')\"\n",
              "                title=\"Suggest charts\"\n",
              "                style=\"display:none;\">\n",
              "\n",
              "<svg xmlns=\"http://www.w3.org/2000/svg\" height=\"24px\"viewBox=\"0 0 24 24\"\n",
              "     width=\"24px\">\n",
              "    <g>\n",
              "        <path d=\"M19 3H5c-1.1 0-2 .9-2 2v14c0 1.1.9 2 2 2h14c1.1 0 2-.9 2-2V5c0-1.1-.9-2-2-2zM9 17H7v-7h2v7zm4 0h-2V7h2v10zm4 0h-2v-4h2v4z\"/>\n",
              "    </g>\n",
              "</svg>\n",
              "      </button>\n",
              "\n",
              "<style>\n",
              "  .colab-df-quickchart {\n",
              "      --bg-color: #E8F0FE;\n",
              "      --fill-color: #1967D2;\n",
              "      --hover-bg-color: #E2EBFA;\n",
              "      --hover-fill-color: #174EA6;\n",
              "      --disabled-fill-color: #AAA;\n",
              "      --disabled-bg-color: #DDD;\n",
              "  }\n",
              "\n",
              "  [theme=dark] .colab-df-quickchart {\n",
              "      --bg-color: #3B4455;\n",
              "      --fill-color: #D2E3FC;\n",
              "      --hover-bg-color: #434B5C;\n",
              "      --hover-fill-color: #FFFFFF;\n",
              "      --disabled-bg-color: #3B4455;\n",
              "      --disabled-fill-color: #666;\n",
              "  }\n",
              "\n",
              "  .colab-df-quickchart {\n",
              "    background-color: var(--bg-color);\n",
              "    border: none;\n",
              "    border-radius: 50%;\n",
              "    cursor: pointer;\n",
              "    display: none;\n",
              "    fill: var(--fill-color);\n",
              "    height: 32px;\n",
              "    padding: 0;\n",
              "    width: 32px;\n",
              "  }\n",
              "\n",
              "  .colab-df-quickchart:hover {\n",
              "    background-color: var(--hover-bg-color);\n",
              "    box-shadow: 0 1px 2px rgba(60, 64, 67, 0.3), 0 1px 3px 1px rgba(60, 64, 67, 0.15);\n",
              "    fill: var(--button-hover-fill-color);\n",
              "  }\n",
              "\n",
              "  .colab-df-quickchart-complete:disabled,\n",
              "  .colab-df-quickchart-complete:disabled:hover {\n",
              "    background-color: var(--disabled-bg-color);\n",
              "    fill: var(--disabled-fill-color);\n",
              "    box-shadow: none;\n",
              "  }\n",
              "\n",
              "  .colab-df-spinner {\n",
              "    border: 2px solid var(--fill-color);\n",
              "    border-color: transparent;\n",
              "    border-bottom-color: var(--fill-color);\n",
              "    animation:\n",
              "      spin 1s steps(1) infinite;\n",
              "  }\n",
              "\n",
              "  @keyframes spin {\n",
              "    0% {\n",
              "      border-color: transparent;\n",
              "      border-bottom-color: var(--fill-color);\n",
              "      border-left-color: var(--fill-color);\n",
              "    }\n",
              "    20% {\n",
              "      border-color: transparent;\n",
              "      border-left-color: var(--fill-color);\n",
              "      border-top-color: var(--fill-color);\n",
              "    }\n",
              "    30% {\n",
              "      border-color: transparent;\n",
              "      border-left-color: var(--fill-color);\n",
              "      border-top-color: var(--fill-color);\n",
              "      border-right-color: var(--fill-color);\n",
              "    }\n",
              "    40% {\n",
              "      border-color: transparent;\n",
              "      border-right-color: var(--fill-color);\n",
              "      border-top-color: var(--fill-color);\n",
              "    }\n",
              "    60% {\n",
              "      border-color: transparent;\n",
              "      border-right-color: var(--fill-color);\n",
              "    }\n",
              "    80% {\n",
              "      border-color: transparent;\n",
              "      border-right-color: var(--fill-color);\n",
              "      border-bottom-color: var(--fill-color);\n",
              "    }\n",
              "    90% {\n",
              "      border-color: transparent;\n",
              "      border-bottom-color: var(--fill-color);\n",
              "    }\n",
              "  }\n",
              "</style>\n",
              "\n",
              "      <script>\n",
              "        async function quickchart(key) {\n",
              "          const quickchartButtonEl =\n",
              "            document.querySelector('#' + key + ' button');\n",
              "          quickchartButtonEl.disabled = true;  // To prevent multiple clicks.\n",
              "          quickchartButtonEl.classList.add('colab-df-spinner');\n",
              "          try {\n",
              "            const charts = await google.colab.kernel.invokeFunction(\n",
              "                'suggestCharts', [key], {});\n",
              "          } catch (error) {\n",
              "            console.error('Error during call to suggestCharts:', error);\n",
              "          }\n",
              "          quickchartButtonEl.classList.remove('colab-df-spinner');\n",
              "          quickchartButtonEl.classList.add('colab-df-quickchart-complete');\n",
              "        }\n",
              "        (() => {\n",
              "          let quickchartButtonEl =\n",
              "            document.querySelector('#df-49e028bc-43f3-4100-8a31-1528f677ca9e button');\n",
              "          quickchartButtonEl.style.display =\n",
              "            google.colab.kernel.accessAllowed ? 'block' : 'none';\n",
              "        })();\n",
              "      </script>\n",
              "    </div>\n",
              "\n",
              "    </div>\n",
              "  </div>\n"
            ],
            "application/vnd.google.colaboratory.intrinsic+json": {
              "type": "dataframe",
              "variable_name": "df",
              "summary": "{\n  \"name\": \"df\",\n  \"rows\": 50000,\n  \"fields\": [\n    {\n      \"column\": \"review\",\n      \"properties\": {\n        \"dtype\": \"string\",\n        \"num_unique_values\": 49582,\n        \"samples\": [\n          \"\\\"Soul Plane\\\" is a horrible attempt at comedy that only should appeal people with thick skulls, bloodshot eyes and furry pawns. <br /><br />The plot is not only incoherent but also non-existent, acting is mostly sub sub-par with a gang of highly moronic and dreadful characters thrown in for bad measure, jokes are often spotted miles ahead and almost never even a bit amusing. This movie lacks any structure and is full of racial stereotypes that must have seemed old even in the fifties, the only thing it really has going for it is some pretty ladies, but really, if you want that you can rent something from the \\\"Adult\\\" section. OK?<br /><br />I can hardly see anything here to recommend since you'll probably have a lot a better and productive time chasing rats with a sledgehammer or inventing waterproof teabags or whatever.<br /><br />2/10\",\n          \"Guest from the Future tells a fascinating story of time travel, friendship, battle of good and evil -- all with a small budget, child actors, and few special effects. Something for Spielberg and Lucas to learn from. ;) A sixth-grader Kolya \\\"Nick\\\" Gerasimov finds a time machine in the basement of a decrepit building and travels 100 years into the future. He discovers a near-perfect, utopian society where robots play guitars and write poetry, everyone is kind to each other and people enjoy everything technology has to offer. Alice is the daughter of a prominent scientist who invented a device called Mielophone that allows to read minds of humans and animals. The device can be put to both good and bad use, depending on whose hands it falls into. When two evil space pirates from Saturn who want to rule the universe attempt to steal Mielophone, it falls into the hands of 20th century school boy Nick. With the pirates hot on his tracks, he travels back to his time, followed by the pirates, and Alice. Chaos, confusion and funny situations follow as the luckless pirates try to blend in with the earthlings. Alice enrolls in the same school Nick goes to and demonstrates superhuman abilities in PE class. The catch is, Alice doesn't know what Nick looks like, while the pirates do. Also, the pirates are able to change their appearance and turn literally into anyone. (Hmm, I wonder if this is where James Cameron got the idea for Terminator...) Who gets to Nick -- and Mielophone -- first? Excellent plot, non-stop adventures, and great soundtrack. I wish Hollywood made kid movies like this one...\",\n          \"\\\"National Treasure\\\" (2004) is a thoroughly misguided hodge-podge of plot entanglements that borrow from nearly every cloak and dagger government conspiracy clich\\u00e9 that has ever been written. The film stars Nicholas Cage as Benjamin Franklin Gates (how precious is that, I ask you?); a seemingly normal fellow who, for no other reason than being of a lineage of like-minded misguided fortune hunters, decides to steal a 'national treasure' that has been hidden by the United States founding fathers. After a bit of subtext and background that plays laughably (unintentionally) like Indiana Jones meets The Patriot, the film degenerates into one misguided whimsy after another \\u0096 attempting to create a 'Stanley Goodspeed' regurgitation of Nicholas Cage and launch the whole convoluted mess forward with a series of high octane, but disconnected misadventures.<br /><br />The relevancy and logic to having George Washington and his motley crew of patriots burying a king's ransom someplace on native soil, and then, going through the meticulous plan of leaving clues scattered throughout U.S. currency art work, is something that director Jon Turteltaub never quite gets around to explaining. Couldn't Washington found better usage for such wealth during the start up of the country? Hence, we are left with a mystery built on top of an enigma that is already on shaky ground by the time Ben appoints himself the new custodian of this untold wealth. Ben's intentions are noble \\u0096 if confusing. He's set on protecting the treasure. For who and when?\\u0085your guess is as good as mine.<br /><br />But there are a few problems with Ben's crusade. First up, his friend, Ian Holmes (Sean Bean) decides that he can't wait for Ben to make up his mind about stealing the Declaration of Independence from the National Archives (oh, yeah \\u0096 brilliant idea!). Presumably, the back of that famous document holds the secret answer to the ultimate fortune. So Ian tries to kill Ben. The assassination attempt is, of course, unsuccessful, if overly melodramatic. It also affords Ben the opportunity to pick up, and pick on, the very sultry curator of the archives, Abigail Chase (Diane Kruger). She thinks Ben is clearly a nut \\u0096 at least at the beginning. But true to action/romance form, Abby's resolve melts quicker than you can say, \\\"is that the Hope Diamond?\\\" The film moves into full X-File-ish mode, as the FBI, mistakenly believing that Ben is behind the theft, retaliate in various benign ways that lead to a multi-layering of action sequences reminiscent of Mission Impossible meets The Fugitive. Honestly, don't those guys ever get 'intelligence' information that is correct? In the final analysis, \\\"National Treasure\\\" isn't great film making, so much as it's a patchwork rehash of tired old bits from other movies, woven together from scraps, the likes of which would make IL' Betsy Ross blush.<br /><br />The Buena Vista DVD delivers a far more generous treatment than this film is deserving of. The anamorphic widescreen picture exhibits a very smooth and finely detailed image with very rich colors, natural flesh tones, solid blacks and clean whites. The stylized image is also free of blemishes and digital enhancements. The audio is 5.1 and delivers a nice sonic boom to your side and rear speakers with intensity and realism. Extras include a host of promotional junket material that is rather deep and over the top in its explanation of how and why this film was made. If only, as an audience, we had had more clarification as to why Ben and co. were chasing after an illusive treasure, this might have been one good flick. Extras conclude with the theatrical trailer, audio commentary and deleted scenes. Not for the faint-hearted \\u0096 just the thick-headed.\"\n        ],\n        \"semantic_type\": \"\",\n        \"description\": \"\"\n      }\n    },\n    {\n      \"column\": \"sentiment\",\n      \"properties\": {\n        \"dtype\": \"category\",\n        \"num_unique_values\": 2,\n        \"samples\": [\n          \"negative\",\n          \"positive\"\n        ],\n        \"semantic_type\": \"\",\n        \"description\": \"\"\n      }\n    }\n  ]\n}"
            }
          },
          "metadata": {},
          "execution_count": 8
        }
      ]
    },
    {
      "cell_type": "code",
      "source": [
        "df.shape"
      ],
      "metadata": {
        "colab": {
          "base_uri": "https://localhost:8080/"
        },
        "id": "BN9UmfGYRvGF",
        "outputId": "3572d98f-ef3c-4041-e45d-8a4f08a6d4f0"
      },
      "execution_count": 9,
      "outputs": [
        {
          "output_type": "execute_result",
          "data": {
            "text/plain": [
              "(50000, 2)"
            ]
          },
          "metadata": {},
          "execution_count": 9
        }
      ]
    },
    {
      "cell_type": "code",
      "source": [
        "df['sentiment'].value_counts()"
      ],
      "metadata": {
        "colab": {
          "base_uri": "https://localhost:8080/",
          "height": 178
        },
        "id": "7pp3havQRvD4",
        "outputId": "ef0cee02-4758-4a64-b912-ca2e1e8a2b83"
      },
      "execution_count": 10,
      "outputs": [
        {
          "output_type": "execute_result",
          "data": {
            "text/plain": [
              "sentiment\n",
              "positive    25000\n",
              "negative    25000\n",
              "Name: count, dtype: int64"
            ],
            "text/html": [
              "<div>\n",
              "<style scoped>\n",
              "    .dataframe tbody tr th:only-of-type {\n",
              "        vertical-align: middle;\n",
              "    }\n",
              "\n",
              "    .dataframe tbody tr th {\n",
              "        vertical-align: top;\n",
              "    }\n",
              "\n",
              "    .dataframe thead th {\n",
              "        text-align: right;\n",
              "    }\n",
              "</style>\n",
              "<table border=\"1\" class=\"dataframe\">\n",
              "  <thead>\n",
              "    <tr style=\"text-align: right;\">\n",
              "      <th></th>\n",
              "      <th>count</th>\n",
              "    </tr>\n",
              "    <tr>\n",
              "      <th>sentiment</th>\n",
              "      <th></th>\n",
              "    </tr>\n",
              "  </thead>\n",
              "  <tbody>\n",
              "    <tr>\n",
              "      <th>positive</th>\n",
              "      <td>25000</td>\n",
              "    </tr>\n",
              "    <tr>\n",
              "      <th>negative</th>\n",
              "      <td>25000</td>\n",
              "    </tr>\n",
              "  </tbody>\n",
              "</table>\n",
              "</div><br><label><b>dtype:</b> int64</label>"
            ]
          },
          "metadata": {},
          "execution_count": 10
        }
      ]
    },
    {
      "cell_type": "code",
      "source": [
        "df.isnull().sum()"
      ],
      "metadata": {
        "colab": {
          "base_uri": "https://localhost:8080/",
          "height": 147
        },
        "collapsed": true,
        "id": "eK1w5DVkRvA1",
        "outputId": "0afde762-09ef-427f-c4d9-8e87c75c5320"
      },
      "execution_count": 11,
      "outputs": [
        {
          "output_type": "execute_result",
          "data": {
            "text/plain": [
              "review       0\n",
              "sentiment    0\n",
              "dtype: int64"
            ],
            "text/html": [
              "<div>\n",
              "<style scoped>\n",
              "    .dataframe tbody tr th:only-of-type {\n",
              "        vertical-align: middle;\n",
              "    }\n",
              "\n",
              "    .dataframe tbody tr th {\n",
              "        vertical-align: top;\n",
              "    }\n",
              "\n",
              "    .dataframe thead th {\n",
              "        text-align: right;\n",
              "    }\n",
              "</style>\n",
              "<table border=\"1\" class=\"dataframe\">\n",
              "  <thead>\n",
              "    <tr style=\"text-align: right;\">\n",
              "      <th></th>\n",
              "      <th>0</th>\n",
              "    </tr>\n",
              "  </thead>\n",
              "  <tbody>\n",
              "    <tr>\n",
              "      <th>review</th>\n",
              "      <td>0</td>\n",
              "    </tr>\n",
              "    <tr>\n",
              "      <th>sentiment</th>\n",
              "      <td>0</td>\n",
              "    </tr>\n",
              "  </tbody>\n",
              "</table>\n",
              "</div><br><label><b>dtype:</b> int64</label>"
            ]
          },
          "metadata": {},
          "execution_count": 11
        }
      ]
    },
    {
      "cell_type": "code",
      "source": [
        "df.duplicated().sum()"
      ],
      "metadata": {
        "colab": {
          "base_uri": "https://localhost:8080/"
        },
        "id": "rT1WD1HzRu72",
        "outputId": "a14a4804-9142-4db3-ba3e-a68638b48b0a"
      },
      "execution_count": 12,
      "outputs": [
        {
          "output_type": "execute_result",
          "data": {
            "text/plain": [
              "418"
            ]
          },
          "metadata": {},
          "execution_count": 12
        }
      ]
    },
    {
      "cell_type": "markdown",
      "source": [
        "## **Text cleaning**"
      ],
      "metadata": {
        "id": "SB0dfWLOZVwS"
      }
    },
    {
      "cell_type": "markdown",
      "source": [
        "Removing html tags"
      ],
      "metadata": {
        "id": "nzqzN0v_cBui"
      }
    },
    {
      "cell_type": "code",
      "source": [
        "import re\n",
        "def remove_html(text):\n",
        "  cleaned_text = re.sub(re.compile('<.*?>'),'', text)\n",
        "  return cleaned_text"
      ],
      "metadata": {
        "id": "CGQYZ4OJZVaN"
      },
      "execution_count": 15,
      "outputs": []
    },
    {
      "cell_type": "code",
      "source": [
        "df['review'] = df['review'].apply(remove_html)"
      ],
      "metadata": {
        "id": "ZgN6GBDaXnq3"
      },
      "execution_count": 16,
      "outputs": []
    },
    {
      "cell_type": "code",
      "source": [
        "df.head(1)"
      ],
      "metadata": {
        "colab": {
          "base_uri": "https://localhost:8080/",
          "height": 98
        },
        "id": "ZOr4orToXnmG",
        "outputId": "d4b9a964-f471-4c5e-e9bd-c0ec0fa4d2e6"
      },
      "execution_count": 17,
      "outputs": [
        {
          "output_type": "execute_result",
          "data": {
            "text/plain": [
              "                                                                                                                                                                                                                                                           review  \\\n",
              "0  One of the other reviewers has mentioned that after watching just 1 Oz episode you'll be hooked. They are right, as this is exactly what happened with me.The first thing that struck me about Oz was its brutality and unflinching scenes of violence, whi...   \n",
              "\n",
              "  sentiment  \n",
              "0  positive  "
            ],
            "text/html": [
              "\n",
              "  <div id=\"df-445a0b45-bc96-4dd2-b470-19cefc9fea44\" class=\"colab-df-container\">\n",
              "    <div>\n",
              "<style scoped>\n",
              "    .dataframe tbody tr th:only-of-type {\n",
              "        vertical-align: middle;\n",
              "    }\n",
              "\n",
              "    .dataframe tbody tr th {\n",
              "        vertical-align: top;\n",
              "    }\n",
              "\n",
              "    .dataframe thead th {\n",
              "        text-align: right;\n",
              "    }\n",
              "</style>\n",
              "<table border=\"1\" class=\"dataframe\">\n",
              "  <thead>\n",
              "    <tr style=\"text-align: right;\">\n",
              "      <th></th>\n",
              "      <th>review</th>\n",
              "      <th>sentiment</th>\n",
              "    </tr>\n",
              "  </thead>\n",
              "  <tbody>\n",
              "    <tr>\n",
              "      <th>0</th>\n",
              "      <td>One of the other reviewers has mentioned that after watching just 1 Oz episode you'll be hooked. They are right, as this is exactly what happened with me.The first thing that struck me about Oz was its brutality and unflinching scenes of violence, whi...</td>\n",
              "      <td>positive</td>\n",
              "    </tr>\n",
              "  </tbody>\n",
              "</table>\n",
              "</div>\n",
              "    <div class=\"colab-df-buttons\">\n",
              "\n",
              "  <div class=\"colab-df-container\">\n",
              "    <button class=\"colab-df-convert\" onclick=\"convertToInteractive('df-445a0b45-bc96-4dd2-b470-19cefc9fea44')\"\n",
              "            title=\"Convert this dataframe to an interactive table.\"\n",
              "            style=\"display:none;\">\n",
              "\n",
              "  <svg xmlns=\"http://www.w3.org/2000/svg\" height=\"24px\" viewBox=\"0 -960 960 960\">\n",
              "    <path d=\"M120-120v-720h720v720H120Zm60-500h600v-160H180v160Zm220 220h160v-160H400v160Zm0 220h160v-160H400v160ZM180-400h160v-160H180v160Zm440 0h160v-160H620v160ZM180-180h160v-160H180v160Zm440 0h160v-160H620v160Z\"/>\n",
              "  </svg>\n",
              "    </button>\n",
              "\n",
              "  <style>\n",
              "    .colab-df-container {\n",
              "      display:flex;\n",
              "      gap: 12px;\n",
              "    }\n",
              "\n",
              "    .colab-df-convert {\n",
              "      background-color: #E8F0FE;\n",
              "      border: none;\n",
              "      border-radius: 50%;\n",
              "      cursor: pointer;\n",
              "      display: none;\n",
              "      fill: #1967D2;\n",
              "      height: 32px;\n",
              "      padding: 0 0 0 0;\n",
              "      width: 32px;\n",
              "    }\n",
              "\n",
              "    .colab-df-convert:hover {\n",
              "      background-color: #E2EBFA;\n",
              "      box-shadow: 0px 1px 2px rgba(60, 64, 67, 0.3), 0px 1px 3px 1px rgba(60, 64, 67, 0.15);\n",
              "      fill: #174EA6;\n",
              "    }\n",
              "\n",
              "    .colab-df-buttons div {\n",
              "      margin-bottom: 4px;\n",
              "    }\n",
              "\n",
              "    [theme=dark] .colab-df-convert {\n",
              "      background-color: #3B4455;\n",
              "      fill: #D2E3FC;\n",
              "    }\n",
              "\n",
              "    [theme=dark] .colab-df-convert:hover {\n",
              "      background-color: #434B5C;\n",
              "      box-shadow: 0px 1px 3px 1px rgba(0, 0, 0, 0.15);\n",
              "      filter: drop-shadow(0px 1px 2px rgba(0, 0, 0, 0.3));\n",
              "      fill: #FFFFFF;\n",
              "    }\n",
              "  </style>\n",
              "\n",
              "    <script>\n",
              "      const buttonEl =\n",
              "        document.querySelector('#df-445a0b45-bc96-4dd2-b470-19cefc9fea44 button.colab-df-convert');\n",
              "      buttonEl.style.display =\n",
              "        google.colab.kernel.accessAllowed ? 'block' : 'none';\n",
              "\n",
              "      async function convertToInteractive(key) {\n",
              "        const element = document.querySelector('#df-445a0b45-bc96-4dd2-b470-19cefc9fea44');\n",
              "        const dataTable =\n",
              "          await google.colab.kernel.invokeFunction('convertToInteractive',\n",
              "                                                    [key], {});\n",
              "        if (!dataTable) return;\n",
              "\n",
              "        const docLinkHtml = 'Like what you see? Visit the ' +\n",
              "          '<a target=\"_blank\" href=https://colab.research.google.com/notebooks/data_table.ipynb>data table notebook</a>'\n",
              "          + ' to learn more about interactive tables.';\n",
              "        element.innerHTML = '';\n",
              "        dataTable['output_type'] = 'display_data';\n",
              "        await google.colab.output.renderOutput(dataTable, element);\n",
              "        const docLink = document.createElement('div');\n",
              "        docLink.innerHTML = docLinkHtml;\n",
              "        element.appendChild(docLink);\n",
              "      }\n",
              "    </script>\n",
              "  </div>\n",
              "\n",
              "\n",
              "    </div>\n",
              "  </div>\n"
            ],
            "application/vnd.google.colaboratory.intrinsic+json": {
              "type": "dataframe",
              "variable_name": "df",
              "summary": "{\n  \"name\": \"df\",\n  \"rows\": 50000,\n  \"fields\": [\n    {\n      \"column\": \"review\",\n      \"properties\": {\n        \"dtype\": \"string\",\n        \"num_unique_values\": 49581,\n        \"samples\": [\n          \"Poorly done political actioner. Badly photographed, acted, and directed. Every single scene is underlighted, including those very few that are shot during the daytime. It doesn't matter what the location is. At an important conference in the White House, no lights are on, and the only available lighting is a gloomy blue that is filtered through a few windows. The primier of China conducts an earth-shattering phone conversation under conditions of such intense chiaroscuro that he should be contemplating a bust of Homer in a Rembrandt painting. Honest. It's as if he had a tiny spotlight on his face and was otherwise in total darkness. The slow motion deaths are by now obligatory in any ill-thought-out movie.Roy Scheider and Maria Conchita Alonzo do well by their roles, but Scheider is rarely on screen. The other performances are dismissable. There is a pretty Oriental woman in a short tight skirt who totes a gun and is right out of a Bond movie who's accent suggests a childhood spent in Basset, Nebraska, and who should have remained the model she probably started out as. Whoever plays the surviving Secret Service agent aboard the cruise ship was probably picked for the part because he looked most like Johnny Depp, not because of any display of talent. The Chinese villains, representing both Taiwan and mainland China, hiss and grin as they threaten the heroes. The script is pretty awful, recycled from other, better films. There is a lot of shooting aboard the ship and practically everyone winds up mincemeat. Two thirds of the way through, the ship explodes into the expected series of fireballs. Then the movie splits into two related parts. Part one, another shootout, this time in a waterfront warehouse. Part two, an exchange between the Vice President, now acting president, and the oily Chinese premiere, lifted out of both \\\"Dr. Strangelove\\\" and \\\"Fail Safe.\\\" We unwittingly launch our missiles. They launch theirs in retaliation. We cannot convince them that our launch was accidental, even though we offer to help them destroy our own missiles. There is even the George C. Scott/ Walter Matthau general who argues that their \\\"nucular\\\" armory can't match ours so we should hit them with everything we've got. More fireballs. The end comes none too soon.\",\n          \"In Sri Lanka, a country divided by religion and language, the civil war between the pro-Sinhalese government and the Liberation Tigers of Tamil Eelam (LTTE), a separatist organization, has claimed an estimated 68,000 lives since 1983. Human rights groups have said that, as a result of the war, more than one million people have been displaced, homeless or living in camps. The impact on children and families caught in the conflict is sensitively dramatized by acclaimed Tamil director Mani Ratnam in his 2002 film A Peck on the Cheek, winner of several awards at the National Film Awards in India. While the civil war is merely a backdrop for the story of a young girl's voyage of discovery, the human cost of war is made quite clear and Ratnam gives the fighting a universal context, pointing the finger at global arms traffickers as the source of wrongdoing.Beautifully photographed in Southern India by cinematographer Ravi K Chandran in a setting mirroring the terrain of Sri Lanka, the film tells a moving story about an adopted 9-year old girl who sets out to find her real mother in the middle of the fighting in Sri Lanka. Played with deep feeling and expressiveness by P.S. Keerthana in a memorable performance, Amudha is brought up by a loving middle class family with two younger brothers after her natural parents Shyama (Nandita Das) and Dileepan (J.D. Chakravarthi) were forced to flee when the fighting broke out, leaving her in a Red Cross camp. In a loving flashback, we see Amudha's adoptive parents, father Thiru (Madhavan) a prominent Tamil writer, and mother Indra (Simran) a TV personality, marry to facilitate their adoption of the darker-skinned little girl.Young Amudha has no idea that she is adopted until it is sprung upon her abruptly on her ninth birthday, according to the parents' prior agreement. While she is playing, Thiru tells her almost in a matter of fact tone that \\\"you are not our daughter\\\" and the response is predictable. Distraught, she questions who her father was, what her mother's name was, why she gave her up, and so forth but few answers are forthcoming. Amudha runs away several times until her parents agree to go to Sri Lanka to help her find her true mother, now a fighter for the Tamil separatists. The family's immersion in the reality of the civil war leads to some traumatic moments and difficult decisions, handled mostly with skill by Ratnam, though a sequence where the family was caught in a crossfire felt amateurish.A Peck on the Cheek is of course a Bollywood-style film and that means tons of music and melodrama. The melodrama did not get in the way because of the strong performances by the lead actors; however, I found the musical dramatizations of songs by A. R. Rahman counter to the mood of the film with their slick, high production techniques and fast-paced music video-style editing. Yet the compelling nature of the story and the honesty in which it is told transcend the film's limitations. Tamil cinema has been criticized by many, even within the country as being too clich\\u00e9d and commercial, yet A Peck on the Cheek is both a film of entertainment and one that tackles serious issues. That it successfully straddles the line between art and commerce is not a rejection but a tribute.\",\n          \"FUTZ is the only show preserved from the experimental theatre movement in New York in the 1960s (the origins of Off Off Broadway). Though it's not for everyone, it is a genuinely brilliant, darkly funny, even more often deeply disturbing tale about love, sex, personal liberty, and revenge, a serious morality tale even more relevant now in a time when Congress wants to outlaw gay marriage by trashing our Constitution. The story is not about being gay, though -- it's about love and sex that don't conform to social norms and therefore must be removed through violence and hate. On the surface, it tells the story of a man who falls in love with a pig, but like any great fable, it's not really about animals, it's about something bigger -- stifling conformity in America.The stage version won international acclaim in its original production, it toured the U.S. and Europe, and with others of its kind, influenced almost all theatre that came after it. Luckily, we have preserved here the show pretty much as it was originally conceived, with the original cast and original director, Tom O'Horgan (who also directed HAIR and Jesus Christ Superstar on Broadway).This is not a mainstream, easy-to-take, studio film -- this is an aggressive, unsettling, glorious, deeply emotional, wildly imaginative piece of storytelling that you'll never forget. And it just might change the way you see the world...\"\n        ],\n        \"semantic_type\": \"\",\n        \"description\": \"\"\n      }\n    },\n    {\n      \"column\": \"sentiment\",\n      \"properties\": {\n        \"dtype\": \"category\",\n        \"num_unique_values\": 2,\n        \"samples\": [\n          \"negative\",\n          \"positive\"\n        ],\n        \"semantic_type\": \"\",\n        \"description\": \"\"\n      }\n    }\n  ]\n}"
            }
          },
          "metadata": {},
          "execution_count": 17
        }
      ]
    },
    {
      "cell_type": "markdown",
      "source": [
        "Converting every word to lower case"
      ],
      "metadata": {
        "id": "y0aHaR28adga"
      }
    },
    {
      "cell_type": "code",
      "source": [
        "df['review'] = df['review'].apply(lambda x: x.lower())"
      ],
      "metadata": {
        "id": "FYt9DGp5Zz3x"
      },
      "execution_count": 18,
      "outputs": []
    },
    {
      "cell_type": "code",
      "source": [
        "df['review'][0]"
      ],
      "metadata": {
        "colab": {
          "base_uri": "https://localhost:8080/",
          "height": 140
        },
        "id": "0kb9Uwq3Xnfl",
        "outputId": "17e4e3d6-9865-4f8c-afde-6bdea8c35f75"
      },
      "execution_count": 19,
      "outputs": [
        {
          "output_type": "execute_result",
          "data": {
            "text/plain": [
              "\"one of the other reviewers has mentioned that after watching just 1 oz episode you'll be hooked. they are right, as this is exactly what happened with me.the first thing that struck me about oz was its brutality and unflinching scenes of violence, which set in right from the word go. trust me, this is not a show for the faint hearted or timid. this show pulls no punches with regards to drugs, sex or violence. its is hardcore, in the classic use of the word.it is called oz as that is the nickname given to the oswald maximum security state penitentary. it focuses mainly on emerald city, an experimental section of the prison where all the cells have glass fronts and face inwards, so privacy is not high on the agenda. em city is home to many..aryans, muslims, gangstas, latinos, christians, italians, irish and more....so scuffles, death stares, dodgy dealings and shady agreements are never far away.i would say the main appeal of the show is due to the fact that it goes where other shows wouldn't dare. forget pretty pictures painted for mainstream audiences, forget charm, forget romance...oz doesn't mess around. the first episode i ever saw struck me as so nasty it was surreal, i couldn't say i was ready for it, but as i watched more, i developed a taste for oz, and got accustomed to the high levels of graphic violence. not just violence, but injustice (crooked guards who'll be sold out for a nickel, inmates who'll kill on order and get away with it, well mannered, middle class inmates being turned into prison bitches due to their lack of street skills or prison experience) watching oz, you may become comfortable with what is uncomfortable viewing....thats if you can get in touch with your darker side.\""
            ],
            "application/vnd.google.colaboratory.intrinsic+json": {
              "type": "string"
            }
          },
          "metadata": {},
          "execution_count": 19
        }
      ]
    },
    {
      "cell_type": "code",
      "source": [
        "import re\n",
        "import nltk\n",
        "from nltk.corpus import stopwords\n",
        "nltk.download('stopwords')\n",
        "stop_words = set(stopwords.words('english'))"
      ],
      "metadata": {
        "colab": {
          "base_uri": "https://localhost:8080/"
        },
        "id": "NYV4K7v3cHkC",
        "outputId": "76626cc1-5c43-43b2-fbe1-b11a9114f646"
      },
      "execution_count": 20,
      "outputs": [
        {
          "output_type": "stream",
          "name": "stderr",
          "text": [
            "[nltk_data] Downloading package stopwords to /root/nltk_data...\n",
            "[nltk_data]   Package stopwords is already up-to-date!\n"
          ]
        }
      ]
    },
    {
      "cell_type": "code",
      "source": [
        "def clean_text(text):\n",
        "    text = re.sub(r'[^a-zA-Z]', ' ', text)          # keep only letters\n",
        "    text = text.lower()\n",
        "    words = text.split()\n",
        "    words = [w for w in words if w not in stop_words]\n",
        "    return ' '.join(words)\n",
        "\n",
        "df['input'] = df['review'].apply(clean_text)\n",
        "df['output'] = df['sentiment'].map({'positive': 1, 'negative': 0})\n"
      ],
      "metadata": {
        "id": "FGlJKeIdXndV"
      },
      "execution_count": 21,
      "outputs": []
    },
    {
      "cell_type": "markdown",
      "source": [
        "## **Simple approach: TF-IDF + Logistic Regression**"
      ],
      "metadata": {
        "id": "7TprPpyscY6V"
      }
    },
    {
      "cell_type": "code",
      "source": [
        "from sklearn.model_selection import train_test_split\n",
        "from sklearn.feature_extraction.text import TfidfVectorizer\n",
        "from sklearn.linear_model import LogisticRegression\n",
        "from sklearn.metrics import classification_report"
      ],
      "metadata": {
        "id": "iBr5MRHPak7e"
      },
      "execution_count": 13,
      "outputs": []
    },
    {
      "cell_type": "code",
      "source": [
        "X_train, X_test, y_train, y_test = train_test_split(df['input'], df['output'], test_size=0.2, random_state=42)"
      ],
      "metadata": {
        "id": "WAuW9rYWak4d"
      },
      "execution_count": 22,
      "outputs": []
    },
    {
      "cell_type": "code",
      "source": [
        "tfidf = TfidfVectorizer(max_features=5000)\n",
        "#training matrix\n",
        "tfidf_matrix_train = tfidf.fit_transform(X_train).toarray()\n",
        "#test matrix\n",
        "tfidf_matrix_test = tfidf.transform(X_test).toarray()"
      ],
      "metadata": {
        "id": "Y-JB_pbCakys"
      },
      "execution_count": 26,
      "outputs": []
    },
    {
      "cell_type": "code",
      "source": [
        "print(tfidf.vocabulary_)"
      ],
      "metadata": {
        "colab": {
          "base_uri": "https://localhost:8080/"
        },
        "id": "B6YNMYZfeoKZ",
        "outputId": "5ca89bad-598c-42d5-a385-5c10e60f200d"
      },
      "execution_count": 31,
      "outputs": [
        {
          "output_type": "stream",
          "name": "stdout",
          "text": [
            "{'kept': 2439, 'asking': 255, 'many': 2719, 'fights': 1688, 'screaming': 3859, 'matches': 2754, 'general': 1863, 'mayhem': 2767, 'minutes': 2852, 'also': 138, 'stand': 4178, 'think': 4474, 'one': 3108, 'dimensional': 1227, 'characters': 709, 'little': 2610, 'depth': 1168, 'virtually': 4779, 'impossible': 2228, 'care': 628, 'happens': 2017, 'badly': 321, 'written': 4978, 'director': 1238, 'hang': 2010, 'beliefs': 390, 'topic': 4542, 'done': 1293, 'much': 2927, 'better': 411, 'dramas': 1316, 'tv': 4634, 'cinema': 766, 'must': 2947, 'confess': 903, 'really': 3567, 'bad': 320, 'performances': 3228, 'film': 1695, 'said': 3805, 'heroine': 2075, 'best': 407, 'friend': 1819, 'nasty': 2964, 'brother': 539, 'absolutely': 9, 'terrible': 4443, 'know': 2473, 'acting': 38, 'school': 3846, 'full': 1831, 'post': 3352, 'lead': 2531, 'role': 3746, 'manages': 2711, 'impress': 2229, 'cast': 656, 'called': 595, 'british': 529, 'talent': 4385, 'probably': 3411, 'never': 3002, 'hear': 2049, 'least': 2540, 'hope': 2137, 'next': 3009, 'time': 4515, 'hire': 2097, 'different': 1221, 'another': 188, 'intriguing': 2314, 'thought': 4483, 'soundtrack': 4116, 'featuring': 1657, 'likes': 2588, 'snow': 4079, 'ian': 2192, 'brown': 542, 'bit': 430, 'music': 2942, 'fan': 1624, 'familiar': 1620, 'artists': 248, 'tracks': 4563, 'movie': 2919, 'apart': 202, 'run': 3783, 'sides': 3997, 'anyone': 197, 'get': 1881, 'musical': 2943, 'suppose': 4337, 'feel': 1660, 'accompanied': 23, 'original': 3129, 'images': 2214, 'couples': 988, 'lake': 2495, 'problem': 3412, 'none': 3031, 'songs': 4103, 'convey': 952, 'mood': 2893, 'realise': 3558, 'lacks': 2491, 'ability': 4, 'carry': 645, 'emotional': 1429, 'journey': 2402, 'audience': 286, 'storytelling': 4242, 'dialogue': 1210, 'alone': 133, 'ending': 1442, 'presumably': 3383, 'meant': 2774, 'everybody': 1514, 'gets': 1882, 'big': 418, 'shock': 3969, 'store': 4237, 'remained': 3629, 'script': 3866, 'given': 1894, 'root': 3761, 'enough': 1462, 'hot': 2156, 'button': 583, 'issue': 2342, 'actually': 48, 'give': 1893, 'us': 4716, 'plot': 3310, 'already': 136, 'death': 1119, 'individuals': 2257, 'window': 4907, 'dressing': 1328, 'stands': 4182, 'noble': 3023, 'failure': 1606, 'promising': 3437, 'actress': 44, 'mildly': 2829, 'punch': 3472, 'ups': 4712, 'save': 3826, 'bin': 424, 'try': 4623, 'harder': 2023, 'watch': 4839, 'entire': 1473, 'could': 980, 'stopped': 4235, 'dvd': 1360, 'watching': 4843, 'half': 1995, 'hour': 2158, 'suggest': 4311, 'thinking': 4475, 'stop': 4234, 'taking': 4383, 'disc': 1254, 'case': 652, 'like': 2585, 'mafia': 2686, 'movies': 2920, 'tragic': 4571, 'comic': 850, 'described': 1173, 'attempt': 276, 'comedy': 846, 'simply': 4017, 'tries': 4606, 'hard': 2021, 'laugh': 2515, 'seems': 3896, 'excuse': 1539, 'moving': 2921, 'chris': 755, 'scene': 3842, 'completely': 884, 'subtlety': 4294, 'strange': 4245, 'come': 841, 'across': 35, 'contrived': 945, 'clearly': 791, 'rather': 3538, 'right': 3714, 'story': 4240, 'utterly': 4728, 'predictable': 3368, 'comedic': 844, 'event': 1509, 'occur': 3080, 'set': 3929, 'obvious': 3074, 'soon': 4105, 'introduced': 2316, 'comedies': 845, 'mr': 2922, 'bean': 361, 'caused': 671, 'title': 4524, 'character': 707, 'funny': 1837, 'motivations': 2908, 'initial': 2269, 'situation': 4039, 'ends': 1445, 'however': 2164, 'gives': 1895, 'feeling': 1661, 'deliberately': 1144, 'desperate': 1186, 'draw': 1318, 'played': 3298, 'alien': 123, 'whose': 4891, 'behaviour': 385, 'entirely': 1474, 'except': 1529, 'trying': 4624, 'laughs': 2520, 'scenes': 3844, 'jokes': 2394, 'seemed': 3894, 'far': 1630, 'watchable': 4840, 'touching': 4552, 'love': 2656, 'reminiscent': 3640, 'drawing': 1319, 'heavily': 2057, 'chinese': 745, 'poetry': 3314, 'used': 4719, 'eastern': 1378, 'people': 3220, 'feelings': 1662, 'focuses': 1750, 'wants': 4820, 'model': 2876, 'teacher': 4409, 'well': 4871, 'good': 1917, 'husband': 2187, 'father': 1643, 'student': 4271, 'attracted': 283, 'unfolds': 4679, 'see': 3888, 'emotions': 1431, 'surface': 4342, 'year': 4985, 'marriage': 2730, 'moral': 2897, 'face': 1593, 'beautiful': 369, 'latter': 2514, 'day': 1108, 'fulci': 1830, 'totally': 4548, 'abysmal': 13, 'dealing': 1114, 'decides': 1128, 'style': 4282, 'pay': 3213, 'ever': 1512, 'rising': 3722, 'lay': 2528, 'eyes': 1591, 'happen': 2014, 'wealthy': 4856, 'elements': 1415, 'result': 3680, 'unfunny': 4683, 'business': 577, 'involving': 2330, 'corpse': 970, 'stay': 4201, 'put': 3487, 'opera': 3116, 'singer': 4025, 'victim': 4757, 'singing': 4026, 'etc': 1502, 'mention': 2799, 'theme': 4465, 'straight': 4243, 'although': 141, 'two': 4644, 'via': 4754, 'pre': 3365, 'recorded': 3586, 'radio': 3513, 'messages': 2809, 'end': 1439, 'say': 3831, 'surprised': 4345, 'shows': 3991, 'sign': 4000, 'mario': 2724, 'resembles': 3668, 'several': 3936, 'ways': 4852, 'content': 935, 'merely': 2804, 'pile': 3276, 'gory': 1923, 'convincing': 955, 'effects': 1402, 'faces': 1595, 'alas': 111, 'become': 373, 'associated': 264, 'first': 1717, 'believe': 392, 'getting': 1883, 'tedious': 4423, 'films': 1700, 'place': 3283, 'started': 4192, 'contain': 931, 'humour': 2176, 'imagine': 2217, 'actual': 47, 'made': 2683, 'starting': 4193, 'entertaining': 1470, 'opposed': 3121, 'long': 2632, 'dark': 1094, 'depressing': 1166, 'boring': 484, 'great': 1946, 'new': 3004, 'generation': 1866, 'filmmakers': 1699, 'critics': 1038, 'loads': 2619, 'money': 2883, 'became': 372, 'came': 599, 'united': 4692, 'minor': 2848, 'spoilers': 4158, 'thing': 4472, 'especially': 1495, 'comedians': 843, 'neither': 2994, 'anything': 198, 'humor': 2174, 'show': 3984, 'awkward': 312, 'overacting': 3143, 'ridiculously': 3712, 'unrealistic': 4704, 'football': 1765, 'coach': 819, 'thats': 4460, 'main': 2694, 'namely': 2958, 'fear': 1651, 'since': 4022, 'seen': 3897, 'going': 1912, 'exactly': 1524, 'presented': 3378, 'start': 4191, 'deserve': 1177, 'room': 3759, 'surprises': 4346, 'sat': 3818, 'seeing': 3889, 'realize': 3563, 'need': 2985, 'blood': 453, 'making': 2705, 'rating': 3539, 'received': 3575, 'positive': 3346, 'reviews': 3699, 'site': 4036, 'beyond': 414, 'belief': 389, 'even': 1507, 'poor': 3327, 'casting': 657, 'sean': 3872, 'brilliant': 523, 'around': 236, 'individual': 2256, 'harrison': 2030, 'guy': 1987, 'generic': 1867, 'sub': 4285, 'standard': 4179, 'writing': 4977, 'tripe': 4610, 'barely': 339, 'someone': 4096, 'pointed': 3317, 'cute': 1068, 'line': 2596, 'read': 3552, 'pure': 3479, 'brilliance': 522, 'sadly': 3800, 'intentionally': 2299, 'part': 3186, 'maybe': 2766, 'insane': 2276, 'please': 3305, 'nightmare': 3017, 'weekend': 4866, 'stars': 4190, 'ridiculous': 3711, 'actors': 43, 'less': 2561, 'idea': 2194, 'special': 4130, 'joke': 2393, 'sound': 4112, 'directed': 1233, 'henry': 2071, 'reason': 3568, 'spoiler': 4157, 'alert': 117, 'incident': 2239, 'fighting': 1687, 'helicopter': 2063, 'orders': 3126, 'sent': 3912, 'jail': 2351, 'sort': 4108, 'work': 4948, 'camp': 605, 'escapes': 1494, 'short': 3977, 'caught': 669, 'reality': 3562, 'supposed': 4338, 'bunch': 566, 'tough': 4553, 'guys': 1988, 'themes': 4466, 'eventually': 1511, 'die': 1216, 'wanted': 4818, 'running': 3785, 'man': 2707, 'contains': 933, 'flaws': 1734, 'crap': 1003, 'fight': 1685, 'inside': 2277, 'shocked': 3970, 'showed': 3987, 'summary': 4321, 'complete': 882, 'camera': 602, 'angles': 174, 'means': 2773, 'military': 2833, 'almost': 132, 'cameras': 603, 'filming': 1697, 'crew': 1027, 'members': 2790, 'eye': 1589, 'beats': 368, 'theory': 4467, 'interesting': 2304, 'innovative': 2275, 'works': 4953, 'creates': 1013, 'pool': 3326, 'par': 3177, 'leading': 2533, 'average': 299, 'performance': 3227, 'rest': 3678, 'without': 4924, 'ok': 3101, 'impressive': 2232, 'understand': 4668, 'begin': 380, 'star': 4185, 'neat': 2980, 'may': 2765, 'seem': 3893, 'quirky': 3502, 'stupid': 4280, 'makes': 2703, 'substance': 4291, 'particular': 3187, 'impressed': 2230, 'use': 4718, 'plays': 3302, 'large': 2504, 'students': 4272, 'notice': 3050, 'important': 2226, 'life': 2578, 'background': 318, 'wallace': 4811, 'heard': 2050, 'opening': 3114, 'sequence': 3918, 'lyrics': 2678, 'play': 3297, 'instance': 2284, 'men': 2794, 'duke': 1353, 'earl': 1368, 'sing': 4024, 'something': 4097, 'girl': 1890, 'goes': 1911, 'cleverly': 793, 'showing': 3989, 'tension': 4440, 'brothers': 540, 'sorts': 4109, 'look': 2634, 'flop': 1742, 'outside': 3141, 'real': 3557, 'usual': 4725, 'looking': 2636, 'forward': 1789, 'favourite': 1649, 'subject': 4286, 'mine': 2843, 'nice': 3010, 'change': 698, 'strangely': 4246, 'documentary': 1284, 'history': 2101, 'channel': 702, 'looked': 2635, 'pearl': 3218, 'enemy': 1448, 'brought': 541, 'earth': 1373, 'power': 3359, 'hollywood': 2119, 'spend': 4138, 'absolute': 8, 'fortune': 1787, 'yet': 4991, 'got': 1924, 'excited': 1536, 'rise': 3721, 'evil': 1521, 'involved': 2327, 'enjoyed': 1457, 'books': 477, 'quit': 3503, 'quote': 3505, 'responsible': 3677, 'rubbish': 3775, 'book': 476, 'piece': 3274, 'dry': 1347, 'needed': 2986, 'nuts': 3065, 'hitler': 2105, 'cannot': 615, 'yes': 4989, 'detailed': 1195, 'behind': 386, 'hated': 2038, 'jews': 2378, 'miss': 2859, 'fact': 1598, 'every': 1513, 'effort': 1403, 'whatsoever': 4883, 'explain': 1563, 'views': 4770, 'needless': 2987, 'unlike': 4698, 'generally': 1864, 'excellent': 1528, 'nazis': 2974, 'warning': 4829, 'point': 3316, 'nearly': 2979, 'communist': 865, 'jewish': 2377, 'crucial': 1043, 'aspect': 258, 'understanding': 4670, 'nazi': 2973, 'era': 1486, 'makers': 2702, 'go': 1906, 'stuff': 4276, 'knew': 2468, 'anyway': 199, 'certainly': 685, 'fascinating': 1635, 'briefly': 520, 'immediately': 2221, 'would': 4965, 'course': 990, 'complex': 885, 'handle': 2006, 'might': 2825, 'away': 306, 'figure': 1689, 'public': 3465, 'private': 3408, 'situations': 4040, 'sympathetic': 4372, 'anti': 192, 'alcohol': 115, 'smoking': 4073, 'agree': 96, 'fond': 1758, 'animals': 178, 'hence': 2070, 'dog': 1285, 'absurd': 10, 'brave': 507, 'soldier': 4086, 'whilst': 4887, 'saw': 3830, 'iron': 2334, 'cross': 1040, 'acts': 46, 'insight': 2278, 'fired': 1715, 'war': 4821, 'experiences': 1558, 'owen': 3152, 'others': 3134, 'found': 1793, 'experience': 1556, 'link': 2599, 'always': 144, 'despite': 1189, 'massive': 2746, 'evidence': 1519, 'contrary': 943, 'died': 1217, 'still': 4223, 'drew': 1329, 'wrong': 4979, 'interest': 2302, 'either': 1408, 'often': 3098, 'days': 1109, 'classic': 785, 'example': 1526, 'relevant': 3622, 'present': 3376, 'leaving': 2543, 'facts': 1601, 'fit': 1721, 'lowest': 2665, 'common': 864, 'trust': 4621, 'knowing': 2474, 'correctly': 973, 'dumb': 1355, 'world': 4954, 'past': 3202, 'worse': 4959, 'opportunity': 3120, 'lost': 2648, 'spent': 4141, 'millions': 2837, 'locations': 2622, 'told': 4531, 'nothing': 3049, 'period': 3235, 'human': 2170, 'fast': 1638, 'shots': 3981, 'stewart': 4219, 'michael': 2819, 'walking': 4808, 'doors': 1299, 'street': 4250, 'confused': 906, 'gave': 1857, 'impression': 2231, 'originally': 3131, 'feature': 1654, 'co': 818, 'wrote': 4980, 'screenplay': 3863, 'three': 4490, 'independent': 2251, 'smaller': 4067, 'studio': 4273, 'heart': 2052, 'formulaic': 1784, 'manipulative': 2714, 'nonsense': 3033, 'cheap': 723, 'corny': 968, 'slow': 4064, 'paced': 3156, 'early': 1370, 'horror': 2150, 'rent': 3645, 'make': 2700, 'sense': 3908, 'family': 1622, 'lives': 2614, 'woods': 4943, 'son': 4101, 'wife': 4897, 'daughter': 1100, 'mother': 2905, 'law': 2524, 'along': 134, 'till': 4513, 'form': 1779, 'nightmares': 3018, 'flashbacks': 1729, 'unfortunate': 4681, 'victims': 4758, 'clue': 814, 'looks': 2637, 'bright': 521, 'light': 2581, 'approach': 221, 'interpretation': 2308, 'voices': 4792, 'stolen': 4229, 'various': 4741, 'finally': 1703, 'find': 1705, 'killer': 2453, 'turns': 4633, 'kind': 2459, 'japanese': 2357, 'warrior': 4831, 'apparently': 209, 'back': 316, 'claim': 778, 'front': 1824, 'living': 2615, 'hands': 2008, 'fire': 1714, 'pathetic': 3205, 'avoid': 300, 'worth': 4961, 'renting': 3648, 'miniseries': 2847, 'pieces': 3275, 'civil': 776, 'tells': 4433, 'friendship': 1822, 'costumes': 979, 'lines': 2598, 'jumps': 2414, 'keep': 2431, 'guessing': 1977, 'balance': 324, 'opinion': 3118, 'last': 2508, 'curse': 1064, 'engaged': 1451, 'drama': 1315, 'advise': 75, 'third': 4477, 'series': 3921, 'let': 2565, 'compared': 871, 'return': 3685, 'wish': 4917, 'remember': 3635, 'ended': 1441, 'prefer': 3369, 'live': 2611, 'thoughts': 4485, 'second': 3878, 'happy': 2020, 'mistress': 2867, 'james': 2353, 'morgan': 2900, 'daniel': 1090, 'heads': 2047, 'small': 4066, 'christian': 757, 'town': 4558, 'dead': 1111, 'aunt': 289, 'hoping': 2142, 'bucks': 548, 'open': 3112, 'vegas': 4743, 'unfortunately': 4682, 'creepy': 1026, 'old': 3103, 'house': 2160, 'magic': 2689, 'teenagers': 4427, 'win': 4905, 'burned': 570, 'uncle': 4661, 'planning': 3292, 'ego': 1405, 'successful': 4299, 'woman': 4930, 'plus': 3312, 'hilariously': 2090, 'naive': 2954, 'amazing': 149, 'pair': 3171, 'loved': 2657, 'whole': 4890, 'fish': 1719, 'water': 4844, 'low': 2663, 'cut': 1067, 'black': 435, 'dress': 1326, 'hair': 1992, 'enormous': 1461, 'twins': 4640, 'girls': 1892, 'allowed': 129, 'wear': 4859, 'makeup': 2704, 'bob': 464, 'lot': 2649, 'equally': 1482, 'nemesis': 2996, 'vincent': 4774, 'steal': 4205, 'presence': 3375, 'way': 4850, 'everything': 1517, 'scary': 3840, 'sequel': 3916, 'roger': 3744, 'corman': 966, 'flicks': 1737, 'flick': 1736, 'check': 726, 'haunted': 2041, 'hills': 2092, 'knowledge': 2475, 'author': 296, 'novels': 3055, 'tom': 4532, 'midnight': 2824, 'garden': 1852, 'typical': 4648, 'child': 739, 'interested': 2303, 'unless': 4697, 'soldiers': 4087, 'monsters': 2887, 'high': 2083, 'body': 467, 'count': 981, 'judging': 2406, 'version': 4749, 'guess': 1975, 'writes': 4976, 'lower': 2664, 'middle': 2823, 'class': 783, 'kids': 2450, 'revolves': 3702, 'protagonist': 3446, 'suddenly': 4305, 'finding': 1706, 'doubt': 1302, 'working': 4952, 'political': 3322, 'ridden': 3709, 'somewhere': 4100, 'romance': 3752, 'young': 4993, 'cynical': 1071, 'stories': 4238, 'perhaps': 3234, 'worst': 4960, 'criticism': 1037, 'excitement': 1537, 'adventure': 71, 'within': 4923, 'narrative': 2962, 'dated': 1098, 'source': 4117, 'imdb': 2219, 'wonder': 4932, 'marks': 2729, 'olds': 3105, 'lord': 2640, 'rings': 3717, 'trilogy': 4607, 'attempts': 279, 'capable': 617, 'producing': 3421, 'twists': 4643, 'help': 2066, 'pseudo': 3459, 'intellectual': 2291, 'sleep': 4056, 'walks': 4809, 'quite': 3504, 'silly': 4008, 'tacky': 4377, 'crime': 1029, 'towards': 4557, 'tremendous': 4597, 'tiresome': 4522, 'manage': 2708, 'lazy': 2529, 'lame': 2496, 'considering': 921, 'teen': 4424, 'club': 813, 'pretty': 3387, 'pink': 3278, 'surprising': 4347, 'ignored': 2204, 'sex': 3939, 'including': 2243, 'matter': 2759, 'parents': 3181, 'deals': 1115, 'hero': 2072, 'dangerous': 1089, 'realizing': 3566, 'ahead': 100, 'kid': 2447, 'asks': 256, 'birth': 428, 'control': 946, 'uses': 4723, 'says': 3833, 'rented': 3647, 'bed': 376, 'pain': 3165, 'killers': 2454, 'car': 624, 'crisis': 1034, 'loves': 2661, 'want': 4817, 'spoil': 4155, 'shall': 3949, 'imagination': 2215, 'word': 4945, 'antics': 193, 'follow': 1754, 'awake': 302, 'minute': 2851, 'waste': 4836, 'recent': 3577, 'ghost': 1884, 'east': 1377, 'suffer': 4307, 'fate': 1642, 'copy': 964, 'bay': 358, 'similar': 4010, 'photographed': 3259, 'superb': 4328, 'viewing': 4768, 'screen': 3861, 'system': 4375, 'recommended': 3584, 'obviously': 3075, 'puts': 3488, 'bother': 489, 'dubbing': 1349, 'rarely': 3533, 'genuinely': 1875, 'frightening': 1823, 'western': 4878, 'audiences': 287, 'particularly': 3188, 'single': 4027, 'wanting': 4819, 'offers': 3093, 'moments': 2882, 'release': 3619, 'influence': 2265, 'certain': 684, 'ring': 3716, 'accepted': 19, 'copies': 962, 'peoples': 3221, 'ideas': 2196, 'years': 4986, 'limited': 2592, 'prevent': 3388, 'giving': 1896, 'fans': 1626, 'genre': 1870, 'huge': 2166, 'pleasure': 3307, 'se': 3869, 'watched': 4841, 'trailer': 4573, 'deep': 1133, 'surprise': 4344, 'actions': 40, 'nature': 2971, 'instead': 2287, 'takes': 4382, 'direction': 1235, 'proves': 3452, 'uplifting': 4709, 'disturbing': 1277, 'darker': 1095, 'adults': 67, 'cinematography': 769, 'using': 4724, 'animation': 180, 'digital': 1224, 'create': 1011, 'network': 3001, 'score': 3854, 'solid': 4090, 'comes': 847, 'animated': 179, 'scores': 3855, 'brian': 515, 'adams': 51, 'trek': 4596, 'hidden': 2079, 'internet': 2307, 'production': 3423, 'quality': 3492, 'extremely': 1588, 'sometimes': 4098, 'tell': 4431, 'green': 1953, 'take': 4380, 'overall': 3144, 'cgi': 687, 'ships': 3966, 'fantastic': 1628, 'space': 4121, 'battle': 356, 'negative': 2989, 'side': 3995, 'earlier': 1369, 'episodes': 1480, 'occasionally': 3078, 'ones': 3109, 'actresses': 45, 'comfortable': 849, 'roles': 3747, 'truly': 4620, 'highly': 2088, 'recommend': 3582, 'detective': 1197, 'dave': 1102, 'murder': 2934, 'local': 2620, 'julie': 2410, 'investigation': 2323, 'led': 2544, 'surreal': 4349, 'encounters': 1438, 'awful': 309, 'expected': 1553, 'minimal': 2845, 'skill': 4044, 'actor': 42, 'girlfriend': 1891, 'driving': 1338, 'station': 4199, 'remains': 3631, 'nicely': 3011, 'surrounding': 4351, 'weird': 4869, 'incomprehensible': 2246, 'expect': 1551, 'viewed': 4765, 'night': 3016, 'cable': 587, 'demand': 1152, 'type': 4646, 'starred': 4188, 'late': 2510, 'farce': 1631, 'english': 1454, 'tradition': 4567, 'alfred': 120, 'sweet': 4366, 'sincere': 4023, 'portrayals': 3341, 'acted': 37, 'bits': 432, 'landscape': 2500, 'delightful': 1146, 'premise': 3373, 'indeed': 2250, 'believable': 391, 'enjoyment': 1459, 'mind': 2839, 'fun': 1833, 'walken': 4806, 'wacky': 4799, 'joy': 2403, 'randomly': 3523, 'streets': 4251, 'act': 36, 'plain': 3287, 'term': 4441, 'loosely': 2639, 'producers': 3420, 'sake': 3806, 'cost': 976, 'project': 3431, 'simple': 4014, 'games': 1846, 'legend': 2550, 'disappointing': 1250, 'game': 1845, 'sounds': 4115, 'else': 1419, 'sequences': 3919, 'changed': 699, 'movement': 2916, 'methods': 2815, 'comments': 859, 'elsewhere': 1420, 'mouse': 2912, 'rd': 3544, 'person': 3237, 'mess': 2807, 'oh': 3099, 'loyal': 2666, 'base': 344, 'cash': 654, 'lots': 2650, 'advice': 74, 'serious': 3922, 'buy': 584, 'complain': 878, 'masses': 2745, 'mainly': 2695, 'telling': 4432, 'listen': 2605, 'falling': 1616, 'praise': 3364, 'ugly': 4650, 'adaptation': 52, 'novel': 3054, 'based': 346, 'ham': 1999, 'overly': 3149, 'odyssey': 3087, 'kidding': 2448, 'ms': 2924, 'meet': 2782, 'zero': 4996, 'chemistry': 732, 'north': 3039, 'kiss': 2465, 'photo': 3258, 'left': 2546, 'test': 4452, 'whether': 4886, 'survive': 4353, 'near': 2977, 'cares': 634, 'philip': 3252, 'hoffman': 2109, 'amateurish': 147, 'disgusting': 1263, 'appearance': 213, 'fed': 1658, 'upon': 4710, 'lonely': 2631, 'farm': 1633, 'sheer': 3959, 'couple': 987, 'wears': 4861, 'painfully': 3167, 'thin': 4471, 'released': 3620, 'oscar': 3132, 'golden': 1914, 'dick': 1215, 'clark': 782, 'critical': 1036, 'community': 866, 'awards': 304, 'meaningless': 2772, 'powerful': 3360, 'driven': 1335, 'obscure': 3071, 'cold': 825, 'mountain': 2910, 'concept': 894, 'empty': 1435, 'bitter': 433, 'bold': 468, 'damn': 1079, 'credit': 1024, 'succeed': 4295, 'greed': 1951, 'changes': 700, 'extent': 1583, 'melodramatic': 2788, 'places': 3285, 'wonders': 4937, 'twist': 4641, 'handled': 2007, 'adequate': 61, 'though': 4482, 'times': 4517, 'okay': 3102, 'decent': 1125, 'amongst': 156, 'khan': 2442, 'track': 4561, 'age': 88, 'theater': 4461, 'filled': 1694, 'able': 5, 'write': 4973, 'saying': 3832, 'finest': 1709, 'playing': 3301, 'words': 4946, 'wonderful': 4934, 'shakespeare': 3948, 'exceptional': 1531, 'directors': 1240, 'problems': 3413, 'country': 985, 'born': 486, 'nobody': 3024, 'anymore': 196, 'final': 1701, 'song': 4102, 'younger': 4994, 'move': 2914, 'six': 4041, 'kill': 2451, 'later': 2512, 'spirit': 4146, 'revenge': 3695, 'basically': 349, 'cool': 959, 'spiritual': 4149, 'budget': 551, 'italian': 2344, 'spoke': 4159, 'dubbed': 1348, 'idiotic': 2200, 'popular': 3332, 'seventies': 3935, 'slice': 4058, 'four': 1794, 'officer': 3095, 'estate': 1500, 'agent': 91, 'known': 2476, 'peter': 3247, 'christopher': 761, 'lee': 2545, 'pitt': 3281, 'greatest': 1948, 'segment': 3899, 'titled': 4525, 'method': 2814, 'creation': 1015, 'named': 2957, 'builds': 559, 'suspense': 4360, 'lack': 2487, 'originality': 3130, 'atmosphere': 269, 'incredibly': 2249, 'genuine': 1874, 'tale': 4384, 'follows': 1757, 'discovers': 1258, 'wax': 4849, 'museum': 2941, 'relationship': 3613, 'explained': 1564, 'relies': 3624, 'mystery': 2952, 'build': 556, 'details': 1196, 'joined': 2391, 'rogers': 3745, 'starts': 4194, 'pick': 3267, 'setting': 3931, 'effect': 1399, 'horrors': 2151, 'grand': 1935, 'aforementioned': 82, 'lesser': 2562, 'horrifying': 2149, 'achieved': 32, 'area': 225, 'treat': 4590, 'continues': 940, 'legendary': 2551, 'seemingly': 3895, 'beauty': 371, 'leaves': 2542, 'portrays': 3344, 'degree': 1143, 'regarding': 3604, 'doll': 1287, 'toys': 4560, 'card': 625, 'held': 2061, 'close': 803, 'chest': 733, 'chilling': 743, 'afraid': 83, 'section': 3886, 'superbly': 4329, 'endings': 1443, 'credits': 1025, 'roll': 3748, 'definitely': 1141, 'latest': 2513, 'technical': 4417, 'naturally': 2970, 'vampire': 4737, 'tales': 4388, 'mostly': 2904, 'majority': 2699, 'serves': 3926, 'contrast': 944, 'sinister': 4029, 'humorous': 2175, 'dracula': 1310, 'touch': 4549, 'cant': 616, 'worthy': 4964, 'recently': 3578, 'hilarious': 2089, 'party': 3193, 'favorite': 1647, 'laughed': 2518, 'hurt': 2185, 'american': 153, 'pie': 3273, 'hole': 2114, 'purpose': 3481, 'yeah': 4984, 'nudity': 3060, 'complaint': 880, 'glad': 1897, 'appear': 212, 'cheesy': 731, 'ron': 3757, 'months': 2891, 'dating': 1099, 'everyone': 1516, 'rich': 3705, 'todd': 4528, 'scared': 3837, 'job': 2382, 'sure': 4340, 'trap': 4582, 'picture': 3271, 'fails': 1605, 'deliver': 1147, 'accomplished': 24, 'friends': 1821, 'obnoxious': 3070, 'likable': 2584, 'kinda': 2460, 'wanna': 4815, 'gone': 1915, 'wild': 4898, 'pretend': 3384, 'stick': 4220, 'tears': 4415, 'laughter': 2521, 'technique': 4419, 'bbc': 359, 'fashion': 1636, 'realism': 3560, 'chosen': 754, 'sheen': 3958, 'pat': 3203, 'editing': 1392, 'references': 3596, 'williams': 4901, 'performed': 3229, 'masterful': 2748, 'master': 2747, 'home': 2124, 'things': 4473, 'fantasy': 1629, 'guard': 1973, 'traditional': 4568, 'dream': 1323, 'techniques': 4420, 'disappears': 1247, 'senses': 3910, 'concerning': 897, 'sets': 3930, 'flat': 1730, 'terribly': 4444, 'ten': 4435, 'bottom': 492, 'shelf': 3960, 'werewolf': 4875, 'london': 2628, 'considered': 920, 'th': 4456, 'president': 3380, 'states': 4198, 'overlook': 3147, 'shirley': 3967, 'combined': 840, 'category': 665, 'elizabeth': 1417, 'montgomery': 2889, 'becomes': 374, 'stereotype': 4213, 'today': 4527, 'chick': 735, 'qualities': 3491, 'call': 594, 'seven': 3934, 'shot': 3980, 'hell': 2064, 'parts': 3192, 'wolf': 4929, 'multi': 2929, 'resulting': 3681, 'passion': 3200, 'emotion': 1428, 'somewhat': 4099, 'perfectly': 3225, 'catches': 662, 'accuracy': 27, 'indian': 2253, 'convincingly': 956, 'learn': 2536, 'appalling': 207, 'ed': 1386, 'wood': 4941, 'art': 243, 'props': 3443, 'ordinary': 3127, 'train': 4575, 'zone': 4999, 'bullet': 562, 'video': 4761, 'female': 1669, 'taste': 4402, 'standards': 4180, 'available': 298, 'viewers': 4767, 'entertainment': 1471, 'value': 4735, 'insult': 2288, 'woody': 4944, 'turkey': 4627, 'went': 4874, 'lady': 2493, 'heist': 2060, 'missed': 2860, 'edward': 1397, 'stealing': 4206, 'gold': 1913, 'together': 4529, 'action': 39, 'packed': 3161, 'top': 4541, 'summer': 4322, 'factor': 1599, 'adds': 60, 'created': 1012, 'stole': 4228, 'computer': 890, 'er': 1485, 'happening': 2016, 'biggest': 420, 'eddie': 1387, 'choice': 746, 'facial': 1596, 'thick': 4469, 'porn': 3335, 'reading': 3554, 'expressed': 1579, 'grew': 1955, 'cinematic': 767, 'gem': 1859, 'dan': 1081, 'saturday': 3824, 'afternoon': 86, 'self': 3901, 'theatre': 4463, 'oz': 3154, 'scott': 3856, 'cowboy': 996, 'figured': 1690, 'john': 2387, 'wayne': 4851, 'roy': 3772, 'review': 3696, 'ask': 253, 'context': 937, 'toy': 4559, 'guns': 1985, 'provided': 3454, 'mindless': 2841, 'produced': 3418, 'propaganda': 3439, 'quickly': 3499, 'experienced': 1557, 'sam': 3808, 'decade': 1123, 'red': 3589, 'imitation': 2220, 'realistic': 3561, 'slowly': 4065, 'miserably': 2856, 'gun': 1984, 'affair': 76, 'thanks': 4459, 'guts': 1986, 'plant': 3294, 'glory': 1904, 'ho': 2108, 'suitable': 4316, 'childhood': 740, 'terms': 4442, 'children': 742, 'shallow': 3950, 'tim': 4514, 'mode': 2875, 'drugs': 1344, 'violence': 4775, 'require': 3661, 'evening': 1508, 'seasons': 3876, 'disappoint': 1248, 'plenty': 3308, 'providing': 3456, 'heavy': 2058, 'wing': 4910, 'politics': 3324, 'view': 4764, 'points': 3319, 'throat': 4497, 'conservative': 917, 'horrible': 2145, 'religious': 3626, 'crazy': 1009, 'bush': 576, 'devil': 1205, 'talk': 4389, 'captain': 618, 'fell': 1666, 'sharp': 3955, 'questions': 3497, 'annoyed': 186, 'nevertheless': 3003, 'smart': 4068, 'yesterday': 4990, 'wicked': 4892, 'dvds': 1361, 'instantly': 2286, 'appeared': 215, 'gorgeous': 1922, 'followed': 1755, 'graphics': 1941, 'knocked': 2472, 'confusing': 907, 'subtitles': 4292, 'rude': 3777, 'dragon': 1313, 'storyline': 4241, 'basic': 348, 'genius': 1869, 'doug': 1303, 'mile': 2831, 'jamie': 2354, 'kennedy': 2437, 'scream': 3858, 'foxx': 1797, 'david': 1103, 'edgar': 1388, 'usually': 4726, 'runner': 3784, 'opposite': 3122, 'pictures': 3272, 'trade': 4565, 'center': 679, 'honestly': 2129, 'freeman': 1813, 'kevin': 2440, 'spacey': 4122, 'taken': 4381, 'disappointed': 1249, 'wondering': 4936, 'expecting': 1554, 'justin': 2421, 'belong': 397, 'heck': 2059, 'agreed': 97, 'honest': 2128, 'players': 3300, 'suck': 4301, 'attention': 280, 'core': 965, 'ass': 260, 'journalist': 2401, 'learning': 2538, 'boss': 488, 'justice': 2419, 'beat': 365, 'sick': 3994, 'hello': 2065, 'arthur': 244, 'admit': 63, 'white': 4888, 'hill': 2091, 'mob': 2874, 'tommy': 4533, 'distant': 1272, 'relative': 3615, 'fashioned': 1637, 'fine': 1708, 'creating': 1014, 'mere': 2803, 'stereotypes': 4214, 'hold': 2111, 'shame': 3951, 'shown': 3990, 'sunday': 4324, 'arnold': 235, 'dad': 1073, 'army': 234, 'thank': 4457, 'noir': 3025, 'easily': 1376, 'hit': 2102, 'laura': 2522, 'gene': 1862, 'andrews': 166, 'hate': 2037, 'police': 3320, 'mark': 2726, 'suffering': 4309, 'handed': 2004, 'accidentally': 22, 'suspect': 4358, 'criminal': 1031, 'name': 2956, 'brilliantly': 524, 'worked': 4949, 'underground': 4665, 'captures': 622, 'beating': 367, 'women': 4931, 'shooting': 3974, 'helps': 2069, 'upper': 4711, 'society': 4083, 'career': 630, 'difficult': 1222, 'motives': 2909, 'easy': 1380, 'allows': 131, 'plight': 3309, 'development': 1202, 'throughout': 4498, 'duo': 1356, 'fits': 1722, 'formula': 1783, 'comparison': 873, 'balls': 328, 'cause': 670, 'grant': 1938, 'drunk': 1345, 'witty': 4927, 'martial': 2736, 'arts': 249, 'cartoon': 649, 'removed': 3643, 'picking': 3269, 'lesbian': 2559, 'sexuality': 3941, 'boy': 498, 'growing': 1967, 'discovering': 1257, 'thru': 4503, 'trial': 4599, 'thrown': 4501, 'desires': 1184, 'reveal': 3690, 'ran': 3521, 'remarkable': 3633, 'hours': 2159, 'recall': 3573, 'discover': 1255, 'quiet': 3500, 'sister': 4032, 'alice': 122, 'luckily': 2669, 'raised': 3517, 'liberal': 2574, 'issues': 2343, 'missing': 2862, 'took': 4540, 'tried': 4605, 'coming': 853, 'adult': 66, 'happened': 2015, 'aimed': 103, 'liked': 2586, 'non': 3030, 'shut': 3992, 'bored': 482, 'halfway': 1996, 'nd': 2976, 'disney': 1267, 'amusing': 159, 'appreciated': 219, 'wide': 4893, 'honesty': 2130, 'childish': 741, 'possible': 3350, 'managed': 2709, 'enjoy': 1455, 'sequels': 3917, 'turning': 4632, 'due': 1352, 'boredom': 483, 'risk': 3723, 'zombie': 4997, 'anyways': 200, 'crappy': 1004, 'worthless': 4962, 'dialogues': 1211, 'ground': 1963, 'rules': 3782, 'zombies': 4998, 'blow': 455, 'head': 2044, 'smile': 4069, 'grab': 1929, 'arm': 231, 'bite': 431, 'speak': 4127, 'otherwise': 3135, 'weapons': 4858, 'loose': 2638, 'redeeming': 3590, 'higher': 2084, 'com': 836, 'stinker': 4225, 'group': 1964, 'thankfully': 4458, 'effectively': 1401, 'remake': 3632, 'dean': 1117, 'superman': 4333, 'seriously': 3923, 'abilities': 3, 'boot': 479, 'fx': 1841, 'burning': 571, 'building': 557, 'among': 155, 'orange': 3123, 'embarrassing': 1424, 'advance': 68, 'mentioned': 2800, 'material': 2756, 'tongue': 4536, 'cheek': 729, 'somehow': 4095, 'fair': 1607, 'soap': 4080, 'prison': 3405, 'chair': 690, 'twenty': 4636, 'lane': 2502, 'smith': 4071, 'executed': 1540, 'newly': 3005, 'opened': 3113, 'bloody': 454, 'atmospheric': 270, 'moody': 2894, 'features': 1656, 'gruesome': 1971, 'gore': 1921, 'tiny': 4520, 'kane': 2423, 'mgm': 2818, 'starring': 4189, 'leigh': 2553, 'danny': 1091, 'glover': 1905, 'brings': 527, 'george': 1876, 'luck': 2668, 'baseball': 345, 'manager': 2710, 'adding': 57, 'lloyd': 2616, 'stage': 4174, 'joseph': 2399, 'gordon': 1920, 'rock': 3740, 'sun': 4323, 'charming': 717, 'irish': 2333, 'tony': 4539, 'matthew': 2762, 'exposure': 1577, 'taylor': 4406, 'jay': 2361, 'veteran': 4752, 'ben': 400, 'johnson': 2389, 'hank': 2012, 'murphy': 2939, 'owner': 3153, 'california': 593, 'angels': 171, 'depression': 1167, 'memories': 2792, 'parent': 3180, 'voice': 4790, 'paulie': 3212, 'becoming': 375, 'pro': 3410, 'baby': 315, 'faced': 1594, 'talents': 4387, 'string': 4260, 'indie': 2255, 'comment': 856, 'idiot': 2199, 'city': 775, 'ironically': 2336, 'la': 2485, 'felt': 1668, 'jealous': 2363, 'filmed': 1696, 'famous': 1623, 'choose': 748, 'recognize': 3580, 'proud': 3449, 'benefit': 402, 'executive': 1542, 'reasons': 3571, 'sensitive': 3911, 'francis': 1801, 'ford': 1770, 'san': 3810, 'francisco': 1802, 'godfather': 1909, 'vision': 4782, 'award': 303, 'classics': 787, 'air': 104, 'greater': 1947, 'respect': 3673, 'foot': 1763, 'superior': 4332, 'senseless': 3909, 'claimed': 779, 'york': 4992, 'focused': 1749, 'kicking': 2445, 'week': 4865, 'teenager': 4426, 'beach': 360, 'moved': 2915, 'awesome': 308, 'true': 4619, 'german': 1878, 'spy': 4169, 'falls': 1617, 'pilot': 3277, 'hudson': 2165, 'germany': 1880, 'normally': 3036, 'sings': 4028, 'troops': 4614, 'endearing': 1440, 'supporting': 4336, 'magnificent': 2691, 'obsession': 3073, 'giant': 1887, 'blake': 440, 'ireland': 2332, 'authentic': 295, 'scenery': 3843, 'england': 1453, 'france': 1799, 'willing': 4902, 'sci': 3847, 'fi': 1676, 'landscapes': 2501, 'disjointed': 1264, 'wooden': 4942, 'hand': 2003, 'combat': 837, 'funnier': 1835, 'hong': 2131, 'kong': 2478, 'convoluted': 957, 'narrator': 2963, 'ex': 1522, 'writer': 4974, 'losing': 2646, 'richard': 3706, 'brooks': 537, 'hunt': 2181, 'poster': 3353, 'understandable': 4669, 'westerns': 4879, 'attitude': 281, 'environment': 1477, 'anthony': 191, 'mann': 2716, 'heroes': 2073, 'dragged': 1312, 'redemption': 3591, 'step': 4210, 'hunter': 2182, 'costs': 977, 'poetic': 3313, 'darkness': 1096, 'robert': 3733, 'racist': 3512, 'guilty': 1982, 'conscience': 914, 'indians': 2254, 'fully': 1832, 'aware': 305, 'damage': 1077, 'gradually': 1932, 'fall': 1614, 'sole': 4088, 'band': 331, 'kills': 2457, 'hide': 2080, 'priceless': 3394, 'hunters': 2183, 'showdown': 3986, 'inevitable': 2262, 'outcome': 3137, 'ironic': 2335, 'epic': 1478, 'developed': 1200, 'color': 831, 'convince': 953, 'violent': 4776, 'accent': 15, 'jimmy': 2380, 'chance': 696, 'nolan': 3027, 'ear': 1367, 'stanley': 4183, 'kubrick': 2480, 'borrowed': 487, 'shining': 3964, 'historical': 2099, 'selling': 3904, 'french': 1814, 'extras': 1586, 'free': 1811, 'transfer': 4578, 'awhile': 311, 'jack': 2346, 'literally': 2608, 'plan': 3288, 'knock': 2471, 'everyday': 1515, 'lisa': 2602, 'normal': 3035, 'hates': 2039, 'fly': 1745, 'grandmother': 1937, 'sends': 3907, 'flight': 1739, 'meets': 2784, 'reveals': 3693, 'plans': 3293, 'include': 2240, 'key': 2441, 'succeeds': 4297, 'saving': 3829, 'beaten': 366, 'saved': 3827, 'importance': 2225, 'frankenstein': 1805, 'catching': 663, 'thriller': 4493, 'sexual': 3940, 'slight': 4060, 'hint': 2093, 'bathroom': 354, 'gonna': 1916, 'hey': 2077, 'drivel': 1334, 'designed': 1181, 'ad': 49, 'results': 3682, 'exception': 1530, 'joe': 2384, 'spends': 4140, 'naked': 2955, 'bruce': 543, 'unhappy': 4684, 'thinks': 4476, 'bring': 525, 'happiness': 2019, 'state': 4195, 'god': 1908, 'powers': 3361, 'process': 3416, 'loses': 2645, 'learns': 2539, 'circumstances': 771, 'forces': 1769, 'deeply': 1135, 'anybody': 195, 'humble': 2173, 'addition': 58, 'lose': 2642, 'besides': 406, 'thoughtful': 4484, 'unseen': 4705, 'unknown': 4696, 'splendid': 4152, 'therefore': 4468, 'modern': 2878, 'nonetheless': 3032, 'mean': 2769, 'blown': 457, 'visual': 4786, 'feels': 1663, 'sucked': 4302, 'round': 3767, 'whatever': 4881, 'size': 4043, 'guards': 1974, 'bought': 493, 'meaning': 2770, 'clear': 790, 'humanity': 2171, 'board': 462, 'babies': 314, 'walk': 4804, 'equipment': 1483, 'peak': 3217, 'length': 2555, 'pace': 3155, 'jump': 2411, 'calm': 598, 'cases': 653, 'granted': 1939, 'relax': 3618, 'intended': 2294, 'sit': 4034, 'requires': 3663, 'strikes': 4258, 'message': 2808, 'address': 59, 'sad': 3798, 'bear': 362, 'korean': 2479, 'colour': 834, 'vivid': 4789, 'clothes': 810, 'females': 1670, 'attempting': 278, 'fred': 1809, 'femme': 1671, 'determined': 1198, 'involve': 2326, 'bank': 334, 'robbery': 3731, 'cole': 826, 'morris': 2903, 'skills': 4045, 'frankly': 1807, 'episode': 1479, 'allow': 128, 'horse': 2152, 'shoot': 3973, 'hip': 2095, 'wound': 4966, 'feet': 1664, 'dear': 1118, 'rushed': 3790, 'unbelievable': 4659, 'folk': 1752, 'realized': 3564, 'values': 4736, 'leave': 2541, 'desired': 1183, 'wasting': 4838, 'noticed': 3051, 'earned': 1371, 'road': 3729, 'added': 56, 'satire': 3820, 'current': 1062, 'defined': 1139, 'gangster': 1848, 'hysterical': 2191, 'bet': 408, 'sisters': 4033, 'divine': 1278, 'rob': 3730, 'laughing': 2519, 'driver': 1336, 'laughable': 2516, 'burt': 573, 'reynolds': 3704, 'grave': 1944, 'paul': 3211, 'attraction': 284, 'decided': 1127, 'welcome': 4870, 'comical': 851, 'tribute': 4602, 'frank': 1804, 'sinatra': 4021, 'occurred': 3081, 'terrifying': 4446, 'cars': 647, 'clothing': 811, 'mad': 2682, 'cartoons': 650, 'dawn': 1106, 'talking': 4391, 'future': 1839, 'harold': 2028, 'trained': 4576, 'hall': 1997, 'matched': 2753, 'image': 2212, 'moreover': 2899, 'silent': 4006, 'gags': 1843, 'bell': 396, 'monkey': 2884, 'consistently': 923, 'failed': 1603, 'box': 496, 'office': 3094, 'danger': 1088, 'glass': 1898, 'ambitious': 151, 'likely': 2587, 'throw': 4499, 'outer': 3138, 'returning': 3687, 'cat': 660, 'suffers': 4310, 'revelation': 3694, 'agenda': 90, 'soft': 4084, 'previous': 3390, 'america': 152, 'paying': 3214, 'suffered': 4308, 'treated': 4591, 'ill': 2207, 'events': 1510, 'code': 821, 'ultimately': 4653, 'rule': 3781, 'ideal': 2195, 'leader': 2532, 'classical': 786, 'safety': 3803, 'existence': 1546, 'origin': 3128, 'accept': 17, 'sees': 3898, 'parallel': 3178, 'italy': 2345, 'dr': 1309, 'alternative': 140, 'order': 3124, 'honor': 2132, 'necessary': 2982, 'chaplin': 705, 'persona': 3238, 'inappropriate': 2238, 'distinct': 1273, 'advantage': 70, 'sold': 4085, 'television': 4430, 'reaction': 3550, 'documentaries': 1283, 'refreshing': 3599, 'personal': 3239, 'block': 449, 'opinions': 3119, 'displayed': 1269, 'truth': 4622, 'exploitation': 1569, 'carefully': 633, 'successfully': 4300, 'expectations': 1552, 'five': 1724, 'firm': 1716, 'bill': 421, 'extreme': 1587, 'question': 3495, 'offensive': 3089, 'pretentious': 3386, 'pointless': 3318, 'craft': 1000, 'melodrama': 2787, 'consider': 918, 'fantasies': 1627, 'wet': 4880, 'dreams': 1324, 'mysterious': 2951, 'training': 4577, 'machine': 2679, 'walker': 4807, 'recording': 3587, 'abandoned': 1, 'steel': 4208, 'catherine': 666, 'bath': 353, 'destroy': 1191, 'corruption': 975, 'poverty': 3357, 'vast': 4742, 'explicit': 1568, 'offended': 3088, 'intensity': 2296, 'unlikely': 4699, 'scenario': 3841, 'differences': 1220, 'numerous': 3063, 'filmmaker': 1698, 'explore': 1571, 'meaningful': 2771, 'condition': 901, 'gratuitous': 1943, 'defend': 1137, 'deserves': 1179, 'achievement': 33, 'potential': 3355, 'door': 1298, 'apartment': 203, 'phone': 3256, 'constantly': 927, 'noise': 3026, 'ruins': 3780, 'promise': 3434, 'send': 3906, 'wind': 4906, 'ago': 95, 'supernatural': 4334, 'committed': 863, 'suicide': 4314, 'investigate': 2321, 'somebody': 4094, 'turn': 4629, 'lights': 2583, 'calls': 597, 'argument': 230, 'company': 869, 'closed': 804, 'floor': 1741, 'alive': 126, 'fairly': 1608, 'nude': 3059, 'fake': 1612, 'hundred': 2177, 'videos': 4762, 'motion': 2906, 'continue': 938, 'madness': 2684, 'hitchcock': 2104, 'steps': 4212, 'horrid': 2147, 'inspector': 2279, 'leads': 2534, 'cook': 958, 'experiments': 1561, 'putting': 3489, 'unpleasant': 4702, 'rare': 3532, 'exceptions': 1533, 'lewis': 2572, 'africa': 84, 'st': 4172, 'claire': 781, 'trite': 4611, 'holes': 2115, 'al': 109, 'semi': 3905, 'incompetent': 2245, 'walter': 4813, 'king': 2462, 'comedian': 842, 'brooklyn': 536, 'blade': 437, 'timing': 4518, 'charm': 716, 'spare': 4126, 'spanish': 4125, 'rival': 3726, 'joan': 2381, 'warner': 4828, 'dignity': 1225, 'proceedings': 3414, 'blows': 458, 'deal': 1113, 'stock': 4227, 'footage': 1764, 'stinks': 4226, 'prime': 3399, 'albert': 113, 'super': 4327, 'rate': 3535, 'forget': 1774, 'older': 3104, 'styles': 4283, 'tend': 4436, 'amount': 157, 'grow': 1966, 'discuss': 1260, 'mini': 2844, 'beginning': 381, 'unexpected': 4677, 'speaking': 4128, 'scientists': 3851, 'assume': 265, 'safe': 3802, 'enter': 1465, 'virus': 4780, 'host': 2155, 'poorly': 3328, 'constructed': 928, 'resemble': 3667, 'security': 3887, 'fbi': 1650, 'agents': 92, 'grade': 1931, 'junk': 2418, 'embarrassed': 1423, 'choices': 747, 'college': 829, 'news': 3007, 'major': 2698, 'flaw': 1731, 'washed': 4834, 'believes': 394, 'strike': 4257, 'causing': 673, 'discovery': 1259, 'cave': 674, 'apparent': 208, 'significant': 4003, 'wall': 4810, 'china': 744, 'perfect': 3223, 'destroyed': 1192, 'painting': 3170, 'doctor': 1281, 'aside': 252, 'occasions': 3079, 'forth': 1785, 'caring': 635, 'cliche': 795, 'downright': 1306, 'candy': 612, 'tyler': 4645, 'popcorn': 3330, 'dude': 1351, 'photographer': 3260, 'obsessed': 3072, 'connection': 911, 'photos': 3262, 'following': 1756, 'thrills': 4496, 'psychotic': 3464, 'secret': 3882, 'keeping': 2432, 'creatures': 1021, 'woo': 4940, 'dull': 1354, 'mexico': 2817, 'trailers': 4574, 'trash': 4584, 'mexican': 2816, 'admire': 62, 'produce': 3417, 'utter': 4727, 'el': 1409, 'brain': 502, 'intelligent': 2293, 'wedding': 4864, 'lover': 2659, 'pleased': 3306, 'correct': 972, 'bore': 481, 'alternate': 139, 'worlds': 4955, 'illness': 2209, 'troubled': 4616, 'boys': 500, 'appreciate': 218, 'stretch': 4255, 'blockbuster': 450, 'placed': 3284, 'cover': 993, 'massacre': 2744, 'garbage': 1850, 'note': 3046, 'peace': 3216, 'dare': 1092, 'ann': 182, 'margaret': 2721, 'support': 4335, 'deserved': 1178, 'dying': 1362, 'lighting': 2582, 'porno': 3336, 'record': 3585, 'breaking': 510, 'wasted': 4837, 'solely': 4089, 'comparing': 872, 'begins': 382, 'compare': 870, 'personally': 3242, 'garfield': 1853, 'jon': 2395, 'according': 25, 'bar': 336, 'dance': 1082, 'killed': 2452, 'mouth': 2913, 'prize': 3409, 'date': 1097, 'glimpse': 1901, 'buff': 552, 'pulled': 3467, 'guitar': 1983, 'blues': 460, 'fat': 1640, 'walked': 4805, 'hopeless': 2140, 'fortunately': 1786, 'personality': 3241, 'taught': 4404, 'lessons': 2564, 'checking': 728, 'pretending': 3385, 'foreign': 1771, 'language': 2503, 'talked': 4390, 'married': 2731, 'moves': 2918, 'pulling': 3468, 'rid': 3708, 'ears': 1372, 'learned': 2537, 'cats': 668, 'chicks': 737, 'june': 2415, 'decide': 1126, 'forest': 1772, 'arrive': 239, 'alright': 137, 'deranged': 1169, 'severe': 3937, 'mental': 2797, 'ensues': 1464, 'included': 2241, 'repeat': 3649, 'nonsensical': 3034, 'planet': 3290, 'turned': 4630, 'physically': 3265, 'mike': 2827, 'mitchell': 2868, 'mix': 2869, 'strong': 4262, 'planned': 3291, 'finale': 1702, 'appears': 217, 'level': 2570, 'price': 3393, 'detail': 1194, 'design': 1180, 'creativity': 1017, 'strength': 4253, 'imagined': 2218, 'aspects': 259, 'forced': 1768, 'spot': 4165, 'costume': 978, 'add': 55, 'professional': 3425, 'testament': 4453, 'creative': 1016, 'team': 4413, 'producer': 3419, 'masterpiece': 2749, 'psychological': 3463, 'gripping': 1959, 'wrapped': 4970, 'beautifully': 370, 'package': 3160, 'extraordinary': 1585, 'revealing': 3692, 'satisfying': 3823, 'explaining': 1565, 'flawless': 1733, 'captivating': 619, 'odd': 3084, 'proved': 3451, 'perfection': 3224, 'emotionally': 1430, 'magical': 2690, 'ah': 99, 'kim': 2458, 'broken': 534, 'strongly': 4264, 'collection': 828, 'paid': 3164, 'arrested': 237, 'martha': 2735, 'involvement': 2328, 'flashback': 1728, 'poignant': 3315, 'moment': 2881, 'swear': 4364, 'fellow': 1667, 'headed': 2045, 'search': 3873, 'loser': 2643, 'library': 2575, 'arrived': 240, 'vhs': 4753, 'con': 891, 'vehicle': 4744, 'offered': 3091, 'cult': 1055, 'visiting': 4784, 'romp': 3756, 'navy': 2972, 'holly': 2118, 'attacks': 275, 'presents': 3379, 'disaster': 1252, 'attack': 273, 'countries': 984, 'widely': 4894, 'terrorist': 4449, 'pass': 3194, 'number': 3061, 'grown': 1968, 'weak': 4853, 'fare': 1632, 'spin': 4145, 'intelligence': 2292, 'parody': 3185, 'depicted': 1161, 'false': 1618, 'reporter': 3656, 'crowd': 1042, 'jr': 2404, 'beast': 364, 'rubber': 3774, 'suit': 4315, 'cg': 686, 'changing': 701, 'passable': 3195, 'homeless': 2125, 'yellow': 4988, 'ranger': 3526, 'skin': 4046, 'examples': 1527, 'male': 2706, 'possibly': 3351, 'theatrical': 4464, 'enjoyable': 1456, 'adorable': 65, 'broadway': 532, 'asked': 254, 'interaction': 2301, 'catchy': 664, 'admittedly': 64, 'airplane': 106, 'cop': 961, 'clich': 794, 'cardboard': 626, 'dialog': 1208, 'terrific': 4445, 'slightly': 4062, 'complexity': 886, 'gritty': 1960, 'commercial': 860, 'hbo': 2043, 'notion': 3052, 'relationships': 3614, 'treats': 4593, 'notable': 3043, 'steve': 4216, 'dawson': 1107, 'forgot': 1777, 'tape': 4397, 'trouble': 4615, 'shadow': 3945, 'wave': 4847, 'impact': 2223, 'everywhere': 1518, 'max': 2764, 'lands': 2499, 'sorry': 4107, 'graphic': 1940, 'ruined': 3779, 'rape': 3530, 'paint': 3168, 'understood': 4672, 'raped': 3531, 'tortured': 4546, 'continued': 939, 'aka': 108, 'fictional': 1679, 'research': 3665, 'largely': 2505, 'describe': 1172, 'vaguely': 4732, 'immensely': 2222, 'talented': 4386, 'fail': 1602, 'accurate': 28, 'chase': 718, 'worthwhile': 4963, 'theaters': 4462, 'hearing': 2051, 'blah': 438, 'franchise': 1800, 'waiting': 4802, 'introduces': 2317, 'faithful': 1611, 'traveling': 4587, 'protect': 3448, 'villain': 4772, 'rocket': 3741, 'vicious': 4756, 'capturing': 623, 'bigger': 419, 'et': 1501, 'rights': 3715, 'japan': 2356, 'claims': 780, 'marketing': 2728, 'exciting': 1538, 'seek': 3890, 'onto': 3111, 'william': 4900, 'powell': 3358, 'mrs': 2923, 'jean': 2364, 'eric': 1487, 'tired': 4521, 'served': 3925, 'solve': 4093, 'bringing': 526, 'riding': 3713, 'raise': 3516, 'dies': 1218, 'finish': 1712, 'solution': 4092, 'statement': 4197, 'twice': 4637, 'tender': 4437, 'romantic': 3753, 'league': 2535, 'commented': 858, 'britain': 528, 'loss': 2647, 'essential': 1497, 'conventional': 949, 'kitchen': 2466, 'hardly': 2024, 'youth': 4995, 'valley': 4733, 'portrayal': 3340, 'education': 1395, 'tree': 4594, 'circle': 770, 'talks': 4392, 'crying': 1050, 'sky': 4048, 'harsh': 2032, 'needs': 2988, 'indulgent': 2259, 'grey': 1956, 'brief': 519, 'social': 4082, 'pants': 3175, 'medical': 2779, 'troma': 4613, 'breaks': 511, 'clever': 792, 'cared': 629, 'mainstream': 2696, 'prove': 3450, 'park': 3183, 'clean': 789, 'mature': 2763, 'portraying': 3343, 'challenging': 693, 'deeper': 1134, 'depiction': 1163, 'stress': 4254, 'break': 509, 'guilt': 1981, 'behave': 383, 'captured': 621, 'cruel': 1045, 'ingredients': 2268, 'food': 1760, 'trapped': 4583, 'lively': 2613, 'prepared': 3374, 'unusual': 4707, 'johnny': 2388, 'performers': 3231, 'lacking': 2489, 'mediocre': 2780, 'attitudes': 282, 'loaded': 2618, 'moronic': 2902, 'slapstick': 4050, 'annoying': 187, 'structure': 4266, 'uk': 4651, 'thus': 4506, 'inferior': 2264, 'properly': 3441, 'simon': 4013, 'retarded': 3683, 'angry': 175, 'random': 3522, 'fill': 1693, 'text': 4455, 'mel': 2786, 'robin': 3735, 'hood': 2133, 'cary': 651, 'funniest': 1836, 'santa': 3814, 'satan': 3819, 'entry': 1476, 'confusion': 908, 'grows': 1969, 'exposed': 1575, 'creator': 1018, 'field': 1680, 'scottish': 3857, 'russian': 3793, 'irritating': 2339, 'reasonable': 3569, 'hoped': 2138, 'ride': 3710, 'larry': 2507, 'treasure': 4589, 'trio': 4608, 'bands': 332, 'focusing': 1751, 'dennis': 1157, 'hopper': 2143, 'lucky': 2670, 'trashy': 4585, 'cheated': 724, 'favor': 1646, 'baker': 323, 'continuity': 941, 'mst': 2925, 'fourth': 1795, 'charlie': 714, 'chan': 695, 'previously': 3391, 'investigating': 2322, 'initially': 2270, 'former': 1781, 'memory': 2793, 'connected': 910, 'closer': 806, 'victor': 4759, 'murders': 2938, 'blonde': 452, 'expert': 1562, 'intrigue': 2312, 'climax': 798, 'plane': 3289, 'dollar': 1288, 'nowadays': 3056, 'miserable': 2855, 'commentary': 857, 'undoubtedly': 4675, 'explanation': 1567, 'species': 4131, 'wine': 4909, 'drinking': 1331, 'dentist': 1158, 'expression': 1580, 'shirt': 3968, 'tad': 4378, 'interestingly': 2305, 'wearing': 4860, 'animal': 177, 'returns': 3688, 'sleeping': 4057, 'lovers': 2660, 'wreck': 4971, 'moon': 2895, 'scientist': 3850, 'hardcore': 2022, 'ought': 3136, 'wandering': 4814, 'castle': 658, 'blame': 441, 'incoherent': 2244, 'dressed': 1327, 'inept': 2261, 'phantom': 3250, 'supposedly': 4339, 'reasonably': 3570, 'vague': 4731, 'involves': 2329, 'experiment': 1559, 'importantly': 2227, 'leg': 2547, 'buddy': 550, 'atrocious': 271, 'types': 4647, 'arguably': 228, 'closely': 805, 'raises': 3518, 'mentally': 2798, 'royal': 3773, 'dysfunctional': 1365, 'steven': 4217, 'seagal': 3871, 'promised': 3435, 'attempted': 277, 'escaped': 1493, 'gang': 1847, 'gas': 1855, 'force': 1767, 'fighter': 1686, 'territory': 4447, 'jessica': 2373, 'freedom': 1812, 'kidnapped': 2449, 'stone': 4231, 'jones': 2397, 'command': 854, 'rescue': 3664, 'bomb': 471, 'bodies': 466, 'dropping': 1341, 'edited': 1391, 'efforts': 1404, 'understated': 4671, 'chief': 738, 'villains': 4773, 'crack': 998, 'neck': 2983, 'visible': 4781, 'resemblance': 3666, 'revolutionary': 3701, 'closing': 809, 'dropped': 1340, 'revolution': 3700, 'advertising': 73, 'international': 2306, 'festival': 1673, 'synopsis': 4374, 'allen': 127, 'related': 3610, 'corner': 967, 'frequently': 1816, 'central': 682, 'official': 3097, 'academy': 14, 'expensive': 1555, 'directs': 1241, 'cinematographer': 768, 'editor': 1394, 'anna': 183, 'fame': 1619, 'provides': 3455, 'citizens': 774, 'century': 683, 'narration': 2961, 'shadows': 3946, 'huston': 2188, 'charles': 713, 'rose': 3763, 'visits': 4785, 'contract': 942, 'harm': 2026, 'aid': 101, 'proceeds': 3415, 'escape': 1492, 'workers': 4951, 'fingers': 1711, 'outstanding': 3142, 'screening': 3862, 'paris': 3182, 'worried': 4957, 'engaging': 1452, 'murray': 2940, 'texas': 4454, 'chainsaw': 689, 'slasher': 4051, 'whenever': 4884, 'cuts': 1069, 'extra': 1584, 'suspicious': 4362, 'unnecessary': 4700, 'affected': 79, 'chances': 697, 'serial': 3920, 'electric': 1412, 'truck': 4618, 'portion': 3337, 'shoulder': 3982, 'martin': 2737, 'answer': 189, 'brando': 506, 'justify': 2420, 'names': 2959, 'un': 4655, 'activities': 41, 'edge': 1389, 'cassavetes': 655, 'sidney': 3998, 'daring': 1093, 'race': 3508, 'relations': 3612, 'appealing': 211, 'simplistic': 4016, 'struggle': 4267, 'aged': 89, 'presentation': 3377, 'reel': 3594, 'refuses': 3601, 'sink': 4030, 'format': 1780, 'remain': 3628, 'required': 3662, 'classes': 784, 'prisoner': 3406, 'iii': 2206, 'officers': 3096, 'busy': 580, 'harry': 2031, 'prisoners': 3407, 'distance': 1271, 'carried': 643, 'position': 3345, 'daily': 1075, 'basis': 350, 'europe': 1503, 'runs': 3786, 'route': 3769, 'seat': 3877, 'mountains': 2911, 'flies': 1738, 'kicks': 2446, 'butt': 582, 'effective': 1400, 'sight': 3999, 'jennifer': 2367, 'frequent': 1815, 'decision': 1129, 'season': 3875, 'em': 1422, 'argento': 227, 'enjoys': 1460, 'burn': 569, 'torture': 4545, 'cell': 677, 'regular': 3608, 'ice': 2193, 'cream': 1010, 'killing': 2455, 'burns': 572, 'shocking': 3971, 'passes': 3198, 'relate': 3609, 'irrelevant': 2338, 'sea': 3870, 'chapter': 706, 'armed': 232, 'thousand': 4486, 'dollars': 1289, 'instant': 2285, 'sucks': 4303, 'argue': 229, 'lies': 2577, 'longer': 2633, 'ready': 3556, 'allowing': 130, 'difference': 1219, 'potentially': 3356, 'concerned': 896, 'simultaneously': 4019, 'casual': 659, 'newspaper': 3008, 'stranger': 4247, 'fiction': 1678, 'separate': 3915, 'rick': 3707, 'appropriately': 223, 'clueless': 815, 'court': 991, 'fault': 1644, 'treatment': 4592, 'concert': 899, 'celluloid': 678, 'began': 379, 'remaining': 3630, 'wake': 4803, 'isolated': 2341, 'fabulous': 1592, 'miles': 2832, 'sitting': 4038, 'listening': 2606, 'conversations': 951, 'washington': 4835, 'drag': 1311, 'sexually': 3942, 'island': 2340, 'tour': 4554, 'writers': 4975, 'directing': 1234, 'soul': 4110, 'appearing': 216, 'discovered': 1256, 'karen': 2426, 'attacked': 274, 'plots': 3311, 'sleaze': 4054, 'chasing': 721, 'forgotten': 1778, 'subplots': 4289, 'drop': 1339, 'shower': 3988, 'romero': 3755, 'stuck': 4270, 'accents': 16, 'los': 2641, 'asian': 251, 'forgettable': 1775, 'direct': 1232, 'diane': 1214, 'keaton': 2430, 'secrets': 3885, 'natalie': 2965, 'dorothy': 1300, 'sudden': 4304, 'accident': 21, 'occurs': 3082, 'finds': 1707, 'phony': 3257, 'contact': 930, 'sophisticated': 4106, 'ultimate': 4652, 'hardy': 2025, 'wont': 4939, 'skip': 4047, 'enterprise': 1466, 'ensemble': 1463, 'unforgettable': 4680, 'suited': 4317, 'focus': 1748, 'meg': 2785, 'ryan': 3796, 'fatal': 1641, 'locked': 2624, 'appearances': 214, 'mary': 2740, 'ship': 3965, 'entertained': 1469, 'wise': 4916, 'flawed': 1732, 'fresh': 1817, 'crawford': 1007, 'crystal': 1051, 'sexy': 3943, 'eva': 1505, 'dedicated': 1131, 'bette': 410, 'delivery': 1151, 'reminds': 3639, 'contemporary': 934, 'angle': 173, 'transition': 4580, 'respected': 3674, 'surviving': 4355, 'prostitute': 3444, 'titles': 4526, 'persons': 3243, 'cage': 588, 'wait': 4800, 'lovely': 2658, 'conflict': 904, 'iraq': 2331, 'ya': 4983, 'reached': 3546, 'godzilla': 1910, 'adventures': 72, 'kick': 2443, 'virginia': 4778, 'reminded': 3638, 'underrated': 4667, 'innocent': 2274, 'denzel': 1159, 'viewer': 4766, 'drive': 1333, 'proper': 3440, 'channels': 703, 'regardless': 3605, 'pull': 3466, 'progress': 3429, 'gangsters': 1849, 'criminals': 1032, 'quest': 3494, 'hotel': 2157, 'enjoying': 1458, 'julian': 2409, 'assassin': 261, 'sell': 3903, 'program': 3428, 'outfit': 3139, 'prey': 3392, 'charisma': 711, 'winter': 4914, 'trip': 4609, 'revealed': 3691, 'brosnan': 538, 'greg': 1954, 'davis': 1105, 'wars': 4833, 'halloween': 1998, 'knows': 2477, 'myers': 2949, 'hospital': 2154, 'spots': 4166, 'curtis': 1065, 'shy': 3993, 'tends': 4438, 'donald': 1292, 'proof': 3438, 'sheriff': 3961, 'thrill': 4492, 'scare': 3835, 'table': 4376, 'cards': 627, 'carpenter': 639, 'highlight': 2086, 'scares': 3838, 'knife': 2469, 'drives': 1337, 'loud': 2652, 'develops': 1203, 'teens': 4428, 'angst': 176, 'teenage': 4425, 'nick': 3014, 'shape': 3952, 'mask': 2741, 'represented': 3658, 'jewel': 2376, 'debut': 1122, 'minds': 2842, 'stephen': 4211, 'alan': 110, 'fianc': 1677, 'principal': 3402, 'nowhere': 3057, 'vengeance': 4746, 'surprisingly': 4348, 'amounts': 158, 'medium': 2781, 'humans': 2172, 'aliens': 124, 'disbelief': 1253, 'drags': 1314, 'anime': 181, 'cry': 1049, 'prior': 3404, 'bare': 338, 'bones': 474, 'genres': 1871, 'appeal': 210, 'hype': 2190, 'warn': 4826, 'drug': 1343, 'visuals': 4788, 'circus': 772, 'wishes': 4919, 'cancer': 611, 'travels': 4588, 'composed': 888, 'land': 2497, 'disappear': 1245, 'sidekick': 3996, 'unbearable': 4658, 'blue': 459, 'puppets': 3476, 'combine': 839, 'metal': 2812, 'toilet': 4530, 'clips': 801, 'stomach': 4230, 'preview': 3389, 'recognition': 3579, 'blend': 446, 'warmth': 4825, 'list': 2603, 'warm': 4823, 'cd': 675, 'conceived': 893, 'buying': 585, 'attractive': 285, 'warned': 4827, 'carter': 648, 'homage': 2123, 'realizes': 3565, 'jason': 2358, 'luke': 2674, 'steals': 4207, 'cure': 1059, 'boyfriend': 499, 'butler': 581, 'african': 85, 'saves': 3828, 'meanwhile': 2775, 'crash': 1005, 'parker': 3184, 'australia': 293, 'floating': 1740, 'jonathan': 2396, 'mid': 2822, 'concerns': 898, 'capture': 620, 'voiced': 4791, 'van': 4739, 'lit': 2607, 'psycho': 3462, 'whoever': 4889, 'norman': 3037, 'bates': 352, 'harmless': 2027, 'portray': 3339, 'murderer': 2936, 'gay': 1858, 'moore': 2896, 'notably': 3044, 'object': 3067, 'murdered': 2935, 'sounded': 4113, 'sympathy': 4373, 'jerry': 2371, 'uwe': 4729, 'boll': 469, 'pages': 3163, 'cops': 963, 'split': 4153, 'photography': 3261, 'waited': 4801, 'row': 3771, 'solo': 4091, 'letting': 2569, 'frustrating': 1827, 'logical': 2626, 'brutal': 545, 'execution': 1541, 'dogs': 1286, 'competent': 876, 'improve': 2233, 'progresses': 3430, 'desert': 1176, 'beings': 387, 'flesh': 1735, 'eat': 1381, 'bag': 322, 'purchased': 3478, 'stupidity': 4281, 'wilson': 4904, 'spread': 4167, 'media': 2778, 'product': 3422, 'rated': 3536, 'ludicrous': 2672, 'hundreds': 2178, 'throwing': 4500, 'standing': 4181, 'shed': 3957, 'tear': 4414, 'keeps': 2433, 'notes': 3048, 'repeatedly': 3651, 'blowing': 456, 'hiding': 2082, 'buster': 579, 'hired': 2098, 'hung': 2179, 'tag': 4379, 'grotesque': 1962, 'demon': 1155, 'colorful': 832, 'spirits': 4148, 'tall': 4393, 'robots': 3738, 'arms': 233, 'performing': 3232, 'essentially': 1498, 'murderous': 2937, 'walls': 4812, 'heroic': 2074, 'combination': 838, 'faith': 1610, 'desire': 1182, 'mistake': 2864, 'invasion': 2319, 'unable': 4656, 'objects': 3069, 'machines': 2680, 'scripts': 3868, 'visually': 4787, 'remarkably': 3634, 'miyazaki': 2872, 'tastes': 4403, 'catch': 661, 'fairy': 1609, 'ages': 93, 'nostalgia': 3041, 'thrilling': 4495, 'exorcist': 1549, 'winds': 4908, 'uninspired': 4685, 'madonna': 2685, 'blond': 451, 'buildings': 558, 'bonus': 475, 'artist': 246, 'subtle': 4293, 'gift': 1888, 'erotic': 1490, 'identity': 2198, 'relation': 3611, 'definition': 1142, 'universe': 4694, 'exploration': 1570, 'nostalgic': 3042, 'occasion': 3076, 'essence': 1496, 'personalities': 3240, 'oliver': 3106, 'friday': 1818, 'barry': 342, 'vulnerable': 4798, 'serve': 3924, 'paranoia': 3179, 'cannon': 614, 'pop': 3329, 'culture': 1057, 'stilted': 4224, 'deadly': 1112, 'literature': 2609, 'politically': 3323, 'controversial': 948, 'portrayed': 3342, 'baldwin': 325, 'ellen': 1418, 'path': 3204, 'destruction': 1193, 'pot': 3354, 'pet': 3245, 'conflicts': 905, 'natural': 2969, 'compelling': 875, 'haunting': 2042, 'notch': 3045, 'angeles': 170, 'status': 4200, 'manner': 2717, 'curiosity': 1060, 'neighborhood': 2991, 'billed': 422, 'dirt': 1242, 'nation': 2966, 'soviet': 4120, 'friendly': 1820, 'terry': 4451, 'thomas': 4479, 'existent': 1547, 'reach': 3545, 'exist': 1544, 'airport': 107, 'drawn': 1320, 'gag': 1842, 'target': 4399, 'threat': 4488, 'happily': 2018, 'serving': 3928, 'alongside': 135, 'jeffrey': 2366, 'bull': 561, 'weakest': 4854, 'element': 1414, 'staged': 4175, 'resolution': 3670, 'nail': 2953, 'strictly': 4256, 'vampires': 4738, 'thousands': 4487, 'lets': 2566, 'forbidden': 1766, 'anne': 184, 'queen': 3493, 'damned': 1080, 'health': 2048, 'necessarily': 2981, 'interview': 2309, 'brad': 501, 'resources': 3672, 'replaced': 3654, 'disturbed': 1276, 'opens': 3115, 'montage': 2888, 'forever': 1773, 'dancing': 1086, 'harvey': 2035, 'concern': 895, 'deaths': 1120, 'bizarre': 434, 'displays': 1270, 'eerie': 1398, 'killings': 2456, 'furthermore': 1838, 'protagonists': 3447, 'secondary': 3879, 'mason': 2742, 'saga': 3804, 'versions': 4750, 'neil': 2993, 'wondered': 4933, 'matt': 2758, 'partner': 3191, 'lousy': 2654, 'chased': 719, 'warriors': 4832, 'conversation': 950, 'pressure': 3382, 'destiny': 1190, 'teachers': 4410, 'ancient': 162, 'forgive': 1776, 'descent': 1171, 'screams': 3860, 'sacrifice': 3797, 'pg': 3249, 'tied': 4509, 'succeeded': 4296, 'silliness': 4007, 'department': 1160, 'andy': 167, 'empire': 1434, 'surely': 4341, 'dreadful': 1322, 'cue': 1054, 'horrendous': 2144, 'ashamed': 250, 'afford': 81, 'offering': 3092, 'sports': 4164, 'practice': 3363, 'subplot': 4288, 'player': 3299, 'temple': 4434, 'doom': 1296, 'grace': 1930, 'sappy': 3815, 'invited': 2325, 'join': 2390, 'member': 2789, 'alex': 118, 'march': 2720, 'jaw': 2359, 'witness': 4925, 'shark': 3954, 'quick': 3498, 'studios': 4274, 'duck': 1350, 'broadcast': 531, 'lasted': 2509, 'total': 4547, 'stale': 4176, 'alcoholic': 116, 'maniac': 2713, 'blank': 443, 'outrageous': 3140, 'alexander': 119, 'surrounded': 4350, 'eccentric': 1385, 'household': 2161, 'chicken': 736, 'professor': 3426, 'scheme': 3845, 'unique': 4690, 'imaginative': 2216, 'bird': 426, 'sh': 3944, 'incredible': 2248, 'definite': 1140, 'bo': 461, 'derek': 1170, 'christmas': 760, 'harris': 2029, 'jane': 2355, 'trees': 4595, 'conan': 892, 'sword': 4369, 'de': 1110, 'nicholas': 3012, 'ray': 3542, 'tarzan': 4400, 'apes': 205, 'nominated': 3028, 'winning': 4912, 'ape': 204, 'gary': 1854, 'silver': 4009, 'intentions': 2300, 'teaching': 4412, 'remind': 3637, 'excessive': 1534, 'reviewers': 3698, 'noted': 3047, 'feed': 1659, 'snake': 4075, 'selfish': 3902, 'expressions': 1581, 'express': 1578, 'lesson': 2563, 'artistic': 247, 'finger': 1710, 'practically': 3362, 'feast': 1653, 'sin': 4020, 'spoken': 4160, 'brand': 505, 'secretly': 3884, 'device': 1204, 'stunning': 4277, 'imagery': 2213, 'primarily': 3397, 'larger': 2506, 'pushed': 3485, 'paper': 3176, 'suggests': 4313, 'delight': 1145, 'tricks': 4604, 'equal': 1481, 'vote': 4795, 'numbers': 3062, 'virgin': 4777, 'andre': 164, 'identify': 2197, 'intense': 2295, 'panic': 3174, 'blair': 439, 'witch': 4922, 'picked': 3268, 'misses': 2861, 'develop': 1199, 'josh': 2400, 'chuck': 762, 'norris': 3038, 'prot': 3445, 'dealt': 1116, 'afterwards': 87, 'demons': 1156, 'passed': 3196, 'liners': 2597, 'display': 1268, 'rental': 3646, 'tonight': 4537, 'symbolism': 4371, 'memorable': 2791, 'believed': 393, 'staying': 4203, 'guest': 1978, 'amazed': 148, 'remotely': 3642, 'nbc': 2975, 'campaign': 606, 'performer': 3230, 'sarah': 3816, 'regret': 3607, 'implausible': 2224, 'canadian': 610, 'kate': 2428, 'canada': 609, 'seeking': 3891, 'spooky': 4162, 'guessed': 1976, 'spite': 4150, 'inducing': 2258, 'anywhere': 201, 'bland': 442, 'unconvincing': 4663, 'muddled': 2928, 'delivers': 1150, 'painful': 3166, 'plausible': 3296, 'mom': 2880, 'holding': 2112, 'ii': 2205, 'eighties': 1407, 'crimes': 1030, 'colonel': 830, 'mission': 2863, 'vietnam': 4763, 'engage': 1450, 'partly': 3190, 'easier': 1375, 'americans': 154, 'conditions': 902, 'tone': 4535, 'responsibility': 3676, 'pan': 3173, 'crossing': 1041, 'biased': 415, 'laughably': 2517, 'faults': 1645, 'roots': 3762, 'wins': 4913, 'loving': 2662, 'dislike': 1265, 'south': 4118, 'region': 3606, 'analysis': 161, 'mail': 2693, 'delivering': 1149, 'wow': 4968, 'patrick': 3210, 'hal': 1994, 'jumping': 2413, 'monkeys': 2885, 'hook': 2134, 'critic': 1035, 'cruise': 1047, 'stylish': 4284, 'gothic': 1925, 'en': 1436, 'buck': 547, 'musicians': 2946, 'joins': 2392, 'jesse': 2372, 'competition': 877, 'underworld': 4674, 'campy': 608, 'heading': 2046, 'possibility': 3349, 'rip': 3719, 'market': 2727, 'intrigued': 2313, 'waves': 4848, 'liking': 2590, 'psychic': 3461, 'adapted': 54, 'roberts': 3734, 'kinds': 2461, 'shoots': 3975, 'covered': 994, 'terrorists': 4450, 'access': 20, 'thumbs': 4505, 'pulp': 3470, 'intent': 2297, 'ward': 4822, 'reed': 3593, 'information': 2267, 'carries': 644, 'explains': 1566, 'million': 2836, 'remembered': 3636, 'jeremy': 2369, 'jordan': 2398, 'barrymore': 343, 'commercials': 861, 'molly': 2879, 'cruelty': 1046, 'appropriate': 222, 'stated': 4196, 'thoroughly': 4481, 'faster': 1639, 'monster': 2886, 'ripped': 3720, 'kung': 2482, 'fu': 1829, 'scarecrow': 3836, 'fool': 1761, 'satisfied': 3821, 'draws': 1321, 'lol': 2627, 'marvelous': 2739, 'emily': 1426, 'victoria': 4760, 'biography': 425, 'princess': 3401, 'prince': 3400, 'nine': 3020, 'rupert': 3787, 'patient': 3207, 'disliked': 1266, 'unwatchable': 4708, 'rabbit': 3507, 'amateur': 146, 'grainy': 1934, 'bothered': 490, 'gentle': 1872, 'tunes': 4626, 'routine': 3770, 'gain': 1844, 'disappointment': 1251, 'returned': 3686, 'convinced': 954, 'mickey': 2821, 'pete': 3246, 'bridge': 517, 'boat': 463, 'drops': 1342, 'eats': 1384, 'tune': 4625, 'improvement': 2235, 'batman': 355, 'dozen': 1307, 'comics': 852, 'subsequent': 4290, 'dancer': 1083, 'pushing': 3486, 'dancers': 1084, 'repeated': 3650, 'folks': 1753, 'corporate': 969, 'aired': 105, 'kelly': 2435, 'built': 560, 'sitcom': 4035, 'eyed': 1590, 'gotten': 1927, 'lifetime': 2580, 'endless': 1444, 'miller': 2835, 'exercise': 1543, 'success': 4298, 'rex': 3703, 'dramatic': 1317, 'parties': 3189, 'jim': 2379, 'press': 3381, 'laws': 2526, 'suggested': 4312, 'relief': 3623, 'arrival': 238, 'hippie': 2096, 'receives': 3576, 'kurt': 2483, 'russell': 3791, 'holds': 2113, 'holy': 2122, 'wong': 4938, 'breathtaking': 514, 'magazine': 2687, 'graham': 1933, 'horrific': 2148, 'astonishing': 266, 'lately': 2511, 'explosions': 1574, 'kudos': 2481, 'illogical': 2210, 'gems': 1860, 'im': 2211, 'weight': 4868, 'families': 1621, 'touched': 4550, 'eight': 1406, 'mars': 2733, 'includes': 2242, 'les': 2558, 'throws': 4502, 'bond': 472, 'reviewer': 3697, 'unfair': 4678, 'resort': 3671, 'taxi': 4405, 'finished': 1713, 'niro': 3022, 'jobs': 2383, 'legs': 2552, 'hammer': 2002, 'stellar': 4209, 'pacing': 3157, 'waters': 4845, 'florida': 1743, 'coast': 820, 'beer': 378, 'assistant': 263, 'amazingly': 150, 'ladies': 2492, 'creature': 1020, 'sticks': 4221, 'nose': 3040, 'affairs': 77, 'doctors': 1282, 'corpses': 971, 'threatening': 4489, 'conspiracy': 925, 'hopes': 2141, 'crafted': 1001, 'conclusion': 900, 'broad': 530, 'wwii': 4982, 'trend': 4598, 'exotic': 1550, 'ps': 3458, 'boxing': 497, 'anger': 172, 'diana': 1213, 'picks': 3270, 'rocky': 3743, 'michelle': 2820, 'shine': 3962, 'twelve': 4635, 'lawyer': 2527, 'relatively': 3616, 'similarities': 4011, 'science': 3848, 'advanced': 69, 'religion': 3625, 'racial': 3510, 'government': 1928, 'extended': 1582, 'currently': 1063, 'hopefully': 2139, 'davies': 1104, 'struck': 4265, 'share': 3953, 'giallo': 1886, 'misleading': 2858, 'village': 4771, 'hits': 2106, 'citizen': 773, 'ruthless': 3795, 'evident': 1520, 'tracy': 4564, 'authority': 297, 'helen': 2062, 'print': 3403, 'audio': 288, 'awfully': 310, 'hokey': 2110, 'fascinated': 1634, 'lackluster': 2490, 'distracting': 1274, 'aim': 102, 'fonda': 1759, 'spirited': 4147, 'doc': 1280, 'streisand': 4252, 'overrated': 3150, 'knight': 2470, 'nicholson': 3013, 'characterization': 708, 'hack': 1990, 'kyle': 2484, 'goofy': 1919, 'burton': 574, 'flash': 1727, 'businessman': 578, 'secretary': 3883, 'triangle': 4600, 'chaos': 704, 'introduce': 2315, 'climactic': 797, 'compelled': 874, 'profound': 3427, 'disease': 1262, 'river': 3727, 'fears': 1652, 'dialogs': 1209, 'tragedy': 4570, 'watches': 4842, 'wit': 4921, 'teach': 4408, 'sadness': 3801, 'inspiration': 2280, 'bargain': 340, 'suspenseful': 4361, 'bullock': 564, 'mistakes': 2866, 'sloppy': 4063, 'charge': 710, 'levels': 2571, 'infamous': 2263, 'account': 26, 'altogether': 143, 'offer': 3090, 'purchase': 3477, 'releases': 3621, 'handful': 2005, 'controlled': 947, 'tie': 4508, 'slick': 4059, 'blatant': 444, 'unintentional': 4686, 'dimension': 1226, 'mins': 2849, 'goodness': 1918, 'rush': 3789, 'thief': 4470, 'albeit': 112, 'minimum': 2846, 'rendition': 3644, 'tense': 4439, 'mixture': 2871, 'european': 1504, 'meryl': 2806, 'streep': 4249, 'page': 3162, 'jake': 2352, 'suspects': 4359, 'mm': 2873, 'answers': 190, 'entertain': 1468, 'glenn': 1900, 'craig': 1002, 'double': 1301, 'lived': 2612, 'dinner': 1228, 'wives': 4928, 'overlooked': 3148, 'twisted': 4642, 'firstly': 1718, 'secondly': 3880, 'dirty': 1243, 'met': 2811, 'marry': 2732, 'perspective': 3244, 'karate': 2425, 'errors': 1491, 'hatred': 2040, 'rat': 3534, 'eating': 1383, 'rap': 3529, 'ali': 121, 'charismatic': 712, 'lips': 2601, 'inspiring': 2282, 'range': 3525, 'jeff': 2365, 'falk': 1613, 'sentimental': 3914, 'intimate': 2311, 'educational': 1396, 'striking': 4259, 'ranks': 3528, 'credibility': 1022, 'von': 4794, 'wounded': 4967, 'clumsy': 817, 'berlin': 404, 'ties': 4510, 'tight': 4512, 'muppet': 2933, 'describes': 1174, 'irony': 2337, 'superficial': 4330, 'philosophy': 3255, 'lifestyle': 2579, 'property': 3442, 'cameron': 604, 'winner': 4911, 'projects': 3432, 'searching': 3874, 'belongs': 398, 'phil': 3251, 'bears': 363, 'hearted': 2053, 'griffith': 1957, 'polish': 3321, 'fooled': 1762, 'ball': 326, 'bat': 351, 'pregnant': 3370, 'wonderfully': 4935, 'decisions': 1130, 'recognized': 3581, 'objective': 3068, 'beloved': 399, 'exists': 1548, 'helping': 2068, 'drinks': 1332, 'oddly': 3085, 'occasional': 3077, 'rough': 3766, 'slightest': 4061, 'uneven': 4676, 'shop': 3976, 'billy': 423, 'cooper': 960, 'industry': 2260, 'ha': 1989, 'curious': 1061, 'rolling': 3750, 'checked': 727, 'wisdom': 4915, 'sixties': 4042, 'mild': 2828, 'sally': 3807, 'leonard': 2557, 'cutting': 1070, 'logic': 2625, 'speed': 4136, 'trail': 4572, 'typically': 4649, 'hints': 2094, 'carrie': 642, 'travel': 4586, 'flying': 1746, 'encounter': 1437, 'angela': 169, 'pity': 3282, 'generated': 1865, 'storm': 4239, 'population': 3334, 'oil': 3100, 'wealth': 4855, 'devoted': 1207, 'reaching': 3548, 'letters': 2568, 'highest': 2085, 'unintentionally': 4687, 'meeting': 2783, 'beware': 413, 'domestic': 1291, 'grandfather': 1936, 'mass': 2743, 'equivalent': 1484, 'fox': 1796, 'pulls': 3469, 'constant': 926, 'calling': 596, 'masters': 2751, 'alike': 125, 'defeat': 1136, 'ultra': 4654, 'junior': 2417, 'coherent': 823, 'riveting': 3728, 'ken': 2436, 'campbell': 607, 'phrase': 3263, 'mixed': 2870, 'transformation': 4579, 'push': 3484, 'quinn': 3501, 'useless': 4721, 'appreciation': 220, 'report': 3655, 'edition': 1393, 'unsettling': 4706, 'lemmon': 2554, 'downhill': 1305, 'settle': 3933, 'horribly': 2146, 'stays': 4204, 'menace': 2795, 'flair': 1726, 'babe': 313, 'shortly': 3978, 'annie': 185, 'crush': 1048, 'battles': 357, 'spider': 4142, 'hi': 2078, 'closest': 807, 'nicole': 3015, 'ocean': 3083, 'increasingly': 2247, 'menacing': 2796, 'wildly': 4899, 'dynamic': 1364, 'represents': 3659, 'pun': 3471, 'credible': 1023, 'complaining': 879, 'jerk': 2370, 'seeks': 3892, 'cameos': 601, 'sandra': 3813, 'widow': 4896, 'elegant': 1413, 'retired': 3684, 'minded': 2840, 'superhero': 4331, 'plastic': 3295, 'doomed': 1297, 'buried': 568, 'beneath': 401, 'ease': 1374, 'national': 2967, 'champion': 694, 'phillips': 3253, 'stunt': 4278, 'witnessed': 4926, 'worry': 4958, 'fifteen': 1682, 'guarantee': 1972, 'accurately': 29, 'church': 763, 'overcome': 3145, 'freddy': 1810, 'maker': 2701, 'acceptable': 18, 'stereotypical': 4215, 'lincoln': 2594, 'pleasantly': 3304, 'holiday': 2116, 'urge': 4715, 'dinosaur': 1229, 'barney': 341, 'gross': 1961, 'attached': 272, 'thompson': 4480, 'emma': 1427, 'visit': 4783, 'austen': 291, 'dreary': 1325, 'dire': 1231, 'mentioning': 2801, 'min': 2838, 'survivors': 4356, 'civilization': 777, 'minus': 2850, 'racism': 3511, 'morality': 2898, 'hackneyed': 1991, 'cube': 1053, 'reunion': 3689, 'stops': 4236, 'elaborate': 1410, 'models': 2877, 'colors': 833, 'sand': 3811, 'inner': 2272, 'scientific': 3849, 'reduced': 3592, 'leslie': 2560, 'commander': 855, 'thirty': 4478, 'juvenile': 2422, 'robot': 3737, 'newman': 3006, 'connery': 912, 'pleasant': 3303, 'scarlett': 3839, 'thrillers': 4494, 'bound': 494, 'bugs': 555, 'bug': 554, 'julia': 2408, 'backgrounds': 319, 'areas': 226, 'considerable': 919, 'grim': 1958, 'messed': 2810, 'breath': 513, 'lion': 2600, 'screenwriter': 3865, 'cheating': 725, 'apocalypse': 206, 'centered': 680, 'depicting': 1162, 'reflect': 3597, 'physical': 3264, 'spectacular': 4134, 'backdrop': 317, 'demands': 1153, 'multiple': 2930, 'viewings': 4769, 'motivation': 2907, 'embarrassment': 1425, 'reference': 3595, 'li': 2573, 'enemies': 1447, 'chases': 720, 'technology': 4421, 'scope': 3853, 'tons': 4538, 'usa': 4717, 'west': 4877, 'touches': 4551, 'dozens': 1308, 'contained': 932, 'whereas': 4885, 'arrogant': 242, 'frustrated': 1826, 'study': 4275, 'mundane': 2932, 'uninteresting': 4688, 'bride': 516, 'bela': 388, 'lugosi': 2673, 'elderly': 1411, 'performs': 3233, 'hanging': 2011, 'tracking': 4562, 'inspired': 2281, 'ted': 4422, 'interviews': 2310, 'heat': 2055, 'heston': 2076, 'robinson': 3736, 'hop': 2136, 'careers': 631, 'ruin': 3778, 'stayed': 4202, 'listed': 2604, 'diamond': 1212, 'disagree': 1244, 'spike': 4144, 'tame': 4394, 'glasses': 1899, 'covers': 995, 'precious': 3366, 'lucas': 2667, 'passionate': 3201, 'consists': 924, 'rely': 3627, 'homer': 2126, 'letter': 2567, 'marshall': 2734, 'response': 3675, 'russia': 3792, 'underlying': 4666, 'lovable': 2655, 'crude': 1044, 'cameo': 600, 'achieve': 31, 'smiling': 4070, 'limits': 2593, 'month': 2890, 'stark': 4187, 'terror': 4448, 'duty': 1359, 'southern': 4119, 'toward': 4556, 'twilight': 4638, 'nuclear': 3058, 'cried': 1028, 'innocence': 2273, 'abuse': 11, 'devoid': 1206, 'smoke': 4072, 'bottle': 491, 'lynch': 2677, 'painted': 3169, 'rochester': 3739, 'dalton': 1076, 'productions': 3424, 'timothy': 4519, 'handsome': 2009, 'morning': 2901, 'betty': 412, 'douglas': 1304, 'birthday': 429, 'delivered': 1148, 'nights': 3019, 'helped': 2067, 'sum': 4320, 'flynn': 1747, 'sadistic': 3799, 'asylum': 267, 'spielberg': 4143, 'pal': 3172, 'wells': 4873, 'uncomfortable': 4662, 'threw': 4491, 'kay': 2429, 'dutch': 1358, 'perry': 3236, 'similarly': 4012, 'velvet': 4745, 'kitty': 2467, 'hearts': 2054, 'donna': 1294, 'hyde': 2189, 'punk': 3474, 'exchange': 1535, 'jackie': 2349, 'spoiled': 4156, 'favorites': 1648, 'leo': 2556, 'catholic': 667, 'spoof': 4161, 'frame': 1798, 'losers': 2644, 'spring': 4168, 'vice': 4755, 'drunken': 1346, 'represent': 3657, 'upset': 4713, 'goal': 1907, 'mayor': 2768, 'landing': 2498, 'union': 4689, 'depicts': 1164, 'kicked': 2444, 'souls': 4111, 'nelson': 2995, 'stronger': 4263, 'merit': 2805, 'torn': 4544, 'fisher': 1720, 'behavior': 384, 'betrayal': 409, 'quotes': 3506, 'conscious': 915, 'dinosaurs': 1230, 'ignorant': 2202, 'speaks': 4129, 'scripted': 3867, 'insulting': 2289, 'fields': 1681, 'unit': 4691, 'bruno': 544, 'arrives': 241, 'complicated': 887, 'homosexual': 2127, 'closet': 808, 'vera': 4748, 'neighbor': 2990, 'files': 1692, 'operation': 3117, 'believing': 395, 'directly': 1237, 'glorious': 1903, 'philosophical': 3254, 'perform': 3226, 'worn': 4956, 'trick': 4603, 'tap': 4396, 'factory': 1600, 'welles': 4872, 'directorial': 1239, 'exact': 1523, 'signs': 4004, 'cagney': 589, 'musicals': 2944, 'wished': 4918, 'ruby': 3776, 'dances': 1085, 'brains': 503, 'chorus': 752, 'per': 3222, 'clip': 800, 'chose': 753, 'carrey': 641, 'switch': 4368, 'absent': 7, 'purposes': 3482, 'amanda': 145, 'reaches': 3547, 'foul': 1792, 'agrees': 98, 'rocks': 3742, 'match': 2752, 'loneliness': 2630, 'hugh': 2167, 'shaw': 3956, 'avoided': 301, 'widmark': 4895, 'brazil': 508, 'sir': 4031, 'pays': 3215, 'frost': 1825, 'priest': 3396, 'titanic': 4523, 'entitled': 1475, 'passengers': 3197, 'popularity': 3333, 'wes': 4876, 'craven': 1006, 'mute': 2948, 'promises': 3436, 'hughes': 2168, 'existed': 1545, 'companion': 868, 'horses': 2153, 'lust': 2675, 'comfort': 848, 'demise': 1154, 'pack': 3159, 'universal': 4693, 'nyc': 3066, 'blind': 448, 'carradine': 640, 'possessed': 3347, 'barbara': 337, 'subjects': 4287, 'variety': 4740, 'provide': 3453, 'hanks': 2013, 'sullivan': 4319, 'sons': 4104, 'chicago': 734, 'reads': 3555, 'teeth': 4429, 'suits': 4318, 'rain': 3515, 'antonio': 194, 'net': 3000, 'strangers': 4248, 'straightforward': 4244, 'load': 2617, 'eager': 1366, 'consequences': 916, 'caliber': 592, 'lucy': 2671, 'companies': 867, 'courage': 989, 'maria': 2722, 'grudge': 1970, 'banned': 335, 'unoriginal': 4701, 'misery': 2857, 'neighbors': 2992, 'commit': 862, 'showcase': 3985, 'prominent': 3433, 'carrying': 646, 'sarandon': 3817, 'ernest': 1489, 'rates': 3537, 'mentions': 2802, 'reputation': 3660, 'artificial': 245, 'nervous': 2999, 'reader': 3553, 'legacy': 2548, 'remote': 3641, 'basement': 347, 'provoking': 3457, 'ned': 2984, 'broke': 533, 'fever': 1675, 'conrad': 913, 'asleep': 257, 'lacked': 2488, 'enthusiasm': 1472, 'rolled': 3749, 'shake': 3947, 'hat': 2036, 'native': 2968, 'ruth': 3794, 'nurse': 3064, 'shoes': 3972, 'futuristic': 1840, 'altman': 142, 'bus': 575, 'border': 480, 'react': 3549, 'anderson': 163, 'fifth': 1683, 'atlantis': 268, 'passing': 3199, 'carl': 636, 'inventive': 2320, 'tarantino': 4398, 'rachel': 3509, 'predator': 3367, 'exceptionally': 1532, 'triumph': 4612, 'gotta': 1926, 'meat': 2777, 'breasts': 512, 'construction': 929, 'resist': 3669, 'overdone': 3146, 'spaghetti': 4123, 'exposition': 1576, 'failing': 1604, 'nerd': 2998, 'emperor': 1432, 'task': 4401, 'sue': 4306, 'influenced': 2266, 'twin': 4639, 'savage': 3825, 'featured': 1655, 'ghosts': 1885, 'location': 2621, 'pitch': 3279, 'kenneth': 2438, 'branagh': 504, 'caine': 590, 'service': 3927, 'miscast': 2854, 'jenny': 2368, 'slave': 4053, 'patience': 3206, 'flow': 1744, 'purely': 3480, 'challenge': 691, 'centers': 681, 'unreal': 4703, 'website': 4863, 'gender': 1861, 'specific': 4132, 'struggling': 4269, 'elvis': 1421, 'highlights': 2087, 'stood': 4232, 'sleazy': 4055, 'aging': 94, 'segments': 3900, 'randy': 3524, 'quaid': 3490, 'cousin': 992, 'sung': 4325, 'mirror': 2853, 'seconds': 3881, 'global': 1902, 'india': 2252, 'topless': 4543, 'tank': 4395, 'survival': 4352, 'hitting': 2107, 'fetched': 1674, 'jackass': 2347, 'roman': 3751, 'bam': 329, 'developing': 1201, 'cultural': 1056, 'ratings': 3540, 'desperately': 1187, 'adam': 50, 'shouting': 3983, 'germans': 1879, 'cuba': 1052, 'struggles': 4268, 'vs': 4797, 'forty': 1788, 'erika': 1488, 'eve': 1506, 'yelling': 4987, 'thugs': 4504, 'invisible': 2324, 'petty': 3248, 'ralph': 3520, 'ninja': 3021, 'likewise': 2589, 'accused': 30, 'mansion': 2718, 'possibilities': 3348, 'matters': 2760, 'wrap': 4969, 'guide': 1980, 'abused': 12, 'wannabe': 4816, 'oscars': 3133, 'fix': 1725, 'australian': 294, 'gate': 1856, 'rotten': 3765, 'tea': 4407, 'le': 2530, 'jackson': 2350, 'rural': 3788, 'manhattan': 2712, 'pacino': 3158, 'mighty': 2826, 'energy': 1449, 'stanwyck': 4184, 'metaphor': 2813, 'inane': 2237, 'spell': 4137, 'linda': 2595, 'hamilton': 2000, 'discussion': 1261, 'simplicity': 4015, 'sport': 4163, 'stan': 4177, 'lock': 2623, 'huh': 2169, 'settings': 3932, 'kirk': 2464, 'recommendation': 3583, 'kingdom': 2463, 'weeks': 4867, 'heaven': 2056, 'causes': 672, 'matrix': 2757, 'troubles': 4617, 'claude': 788, 'garbo': 1851, 'depressed': 1165, 'olivier': 3107, 'christie': 759, 'holmes': 2120, 'questionable': 3496, 'figures': 1691, 'movements': 2917, 'raising': 3519, 'urban': 4714, 'dig': 1223, 'staff': 4173, 'intention': 2298, 'freak': 1808, 'daddy': 1074, 'bernard': 405, 'divorce': 1279, 'historically': 2100, 'realised': 3559, 'corrupt': 974, 'haired': 1993, 'affection': 80, 'useful': 4720, 'jumped': 2412, 'willis': 4903, 'gere': 1877, 'unbelievably': 4660, 'christians': 758, 'restaurant': 3679, 'hurts': 2186, 'pops': 3331, 'jazz': 2362, 'christ': 756, 'angel': 168, 'signed': 4001, 'clues': 816, 'countryside': 986, 'fancy': 1625, 'silence': 4005, 'emphasis': 1433, 'symbolic': 4370, 'enters': 1467, 'contest': 936, 'reactions': 3551, 'clock': 802, 'grasp': 1942, 'pride': 3395, 'soccer': 4081, 'turkish': 4628, 'sutherland': 4363, 'jesus': 2374, 'swimming': 4367, 'odds': 3086, 'punishment': 3473, 'pursuit': 3483, 'sentence': 3913, 'timeless': 4516, 'inability': 2236, 'pitiful': 3280, 'psychiatrist': 3460, 'satisfy': 3822, 'strip': 4261, 'desperation': 1188, 'despair': 1185, 'blew': 447, 'ordered': 3125, 'bone': 473, 'rebel': 3572, 'weapon': 4857, 'composer': 889, 'introduction': 2318, 'guests': 1979, 'choreography': 751, 'tomorrow': 4534, 'holocaust': 2121, 'hunting': 2184, 'scooby': 3852, 'doo': 1295, 'ignore': 2203, 'patients': 3208, 'nancy': 2960, 'abc': 2, 'mysteries': 2950, 'samurai': 3809, 'ross': 3764, 'primary': 3398, 'sneak': 4077, 'measure': 2776, 'charlotte': 715, 'dylan': 1363, 'shorts': 3979, 'ticket': 4507, 'bible': 416, 'clint': 799, 'eastwood': 1379, 'fallen': 1615, 'fought': 1791, 'wishing': 4920, 'chooses': 749, 'cheese': 730, 'crazed': 1008, 'carlos': 637, 'overwhelming': 3151, 'hungry': 2180, 'trademark': 4566, 'challenged': 692, 'blacks': 436, 'cabin': 586, 'cinderella': 765, 'hooked': 2135, 'scale': 3834, 'dust': 1357, 'stooges': 4233, 'lie': 2576, 'bergman': 403, 'cracking': 999, 'chain': 688, 'slap': 4049, 'university': 4695, 'established': 1499, 'wore': 4947, 'notorious': 3053, 'colin': 827, 'eaten': 1382, 'mill': 2834, 'mummy': 2931, 'monty': 2892, 'rita': 3724, 'bumbling': 565, 'lying': 2676, 'legal': 2549, 'nomination': 3029, 'dee': 1132, 'judge': 2405, 'foster': 1790, 'worker': 4950, 'funeral': 1834, 'jungle': 2416, 'portrait': 3338, 'bleak': 445, 'rome': 3754, 'completed': 883, 'sunshine': 4326, 'user': 4722, 'coffee': 822, 'traffic': 4569, 'nearby': 2978, 'maggie': 2688, 'generous': 1868, 'austin': 292, 'buffs': 553, 'versus': 4751, 'brutally': 546, 'raw': 3541, 'explosion': 1573, 'speech': 4135, 'sounding': 4114, 'cake': 591, 'shines': 3963, 'premiere': 3372, 'integrity': 2290, 'da': 1072, 'warren': 4830, 'stunts': 4279, 'improved': 2234, 'joey': 2386, 'square': 4171, 'patricia': 3209, 'hideous': 2081, 'description': 1175, 'fest': 1672, 'penn': 3219, 'mtv': 2926, 'drink': 1330, 'adaptations': 53, 'staring': 4186, 'repeating': 3652, 'howard': 2163, 'cup': 1058, 'significance': 4002, 'underwater': 4673, 'defense': 1138, 'rage': 3514, 'recycled': 3588, 'laid': 2494, 'cox': 997, 'absence': 6, 'bridges': 518, 'reflection': 3598, 'maid': 2692, 'album': 114, 'joel': 2385, 'valuable': 4734, 'gentleman': 1873, 'groups': 1965, 'coincidence': 824, 'greatly': 1949, 'jaws': 2360, 'dolls': 1290, 'vacation': 4730, 'financial': 1704, 'careful': 632, 'distribution': 1275, 'buddies': 549, 'screens': 3864, 'lou': 2651, 'decades': 1124, 'gifted': 1889, 'masterpieces': 2750, 'online': 3110, 'affect': 78, 'sandler': 3812, 'mate': 2755, 'puppet': 3475, 'wrestling': 4972, 'counter': 982, 'creators': 1019, 'banal': 330, 'bobby': 465, 'injured': 2271, 'keith': 2434, 'lone': 2629, 'roof': 3758, 'technically': 4418, 'tech': 4416, 'spending': 4139, 'mistaken': 2865, 'houses': 2162, 'bronson': 535, 'unaware': 4657, 'sits': 4037, 'birds': 427, 'columbo': 835, 'rank': 3527, 'hart': 2033, 'forms': 1782, 'bedroom': 377, 'boris': 485, 'karloff': 2427, 'amy': 160, 'translation': 4581, 'explored': 1572, 'specifically': 4133, 'frustration': 1828, 'stiff': 4222, 'experimental': 1560, 'survived': 4354, 'april': 224, 'elephant': 1416, 'regarded': 3603, 'rourke': 3768, 'lab': 2486, 'piano': 3266, 'kapoor': 2424, 'lawrence': 2525, 'matthau': 2761, 'countless': 983, 'receive': 3574, 'ritter': 3725, 'greek': 1952, 'mildred': 2830, 'warming': 4824, 'stevens': 4218, 'disappeared': 1246, 'cusack': 1066, 'edgy': 1390, 'daughters': 1101, 'tourist': 4555, 'cia': 764, 'squad': 4170, 'directions': 1236, 'louis': 2653, 'consistent': 922, 'judy': 2407, 'musician': 2945, 'marie': 2723, 'ballet': 327, 'repetitive': 3653, 'boom': 478, 'swedish': 4365, 'biblical': 417, 'susan': 4357, 'aaron': 0, 'che': 722, 'illegal': 2208, 'assault': 262, 'simpson': 4018, 'aussie': 290, 'refused': 3600, 'undead': 4664, 'splatter': 4151, 'maintain': 2697, 'cringe': 1033, 'surfing': 4343, 'neo': 2997, 'idiots': 2201, 'turner': 4631, 'prejudice': 3371, 'clown': 812, 'lily': 2591, 'smooth': 4074, 'felix': 1665, 'voyage': 4796, 'facing': 1597, 'hamlet': 2001, 'venice': 4747, 'bunny': 567, 'complaints': 881, 'awe': 307, 'web': 4862, 'mankind': 2715, 'damme': 1078, 'voight': 4793, 'frankie': 1806, 'franco': 1803, 'fitting': 1723, 'exaggerated': 1525, 'teaches': 4411, 'celebrity': 676, 'fifty': 1684, 'debate': 1121, 'endure': 1446, 'riot': 3718, 'hitch': 2103, 'cliff': 796, 'installment': 2283, 'whats': 4882, 'spock': 4154, 'laurel': 2523, 'bollywood': 470, 'tiger': 4511, 'watson': 4846, 'greatness': 1950, 'spain': 4124, 'gray': 1945, 'raymond': 3543, 'marion': 2725, 'connect': 909, 'bang': 333, 'snakes': 4076, 'jacket': 2348, 'crocodile': 1039, 'bullets': 563, 'carol': 638, 'acid': 34, 'jet': 2375, 'macy': 2681, 'regard': 3602, 'bourne': 495, 'tribe': 4601, 'hollow': 2117, 'plague': 3286, 'relatives': 3617, 'andrew': 165, 'severely': 3938, 'choreographed': 750, 'rooms': 3760, 'hartley': 2034, 'wwe': 4981, 'robbins': 3732, 'ponyo': 3325, 'cannibal': 613, 'marty': 2738, 'danes': 1087, 'snipes': 4078, 'slaughter': 4052}\n"
          ]
        }
      ]
    },
    {
      "cell_type": "code",
      "source": [
        "print(tfidf.idf_)"
      ],
      "metadata": {
        "colab": {
          "base_uri": "https://localhost:8080/"
        },
        "id": "T8nF-u7GeoMm",
        "outputId": "4480ec07-edf3-4a3c-d780-ce44020e41ae"
      },
      "execution_count": 32,
      "outputs": [
        {
          "output_type": "stream",
          "name": "stdout",
          "text": [
            "[7.04278284 5.90968438 6.72146241 ... 5.50534985 5.75892929 6.32366017]\n"
          ]
        }
      ]
    },
    {
      "cell_type": "markdown",
      "source": [
        "Applying classification algorithm"
      ],
      "metadata": {
        "id": "ieFCsBsPfcGv"
      }
    },
    {
      "cell_type": "code",
      "source": [
        "clf = LogisticRegression()\n",
        "clf.fit(tfidf_matrix_train, y_train)"
      ],
      "metadata": {
        "colab": {
          "base_uri": "https://localhost:8080/",
          "height": 80
        },
        "id": "8F3DeII1eoH2",
        "outputId": "e9046029-4ecf-4724-bf4a-667be196cfc5"
      },
      "execution_count": 35,
      "outputs": [
        {
          "output_type": "execute_result",
          "data": {
            "text/plain": [
              "LogisticRegression()"
            ],
            "text/html": [
              "<style>#sk-container-id-2 {\n",
              "  /* Definition of color scheme common for light and dark mode */\n",
              "  --sklearn-color-text: #000;\n",
              "  --sklearn-color-text-muted: #666;\n",
              "  --sklearn-color-line: gray;\n",
              "  /* Definition of color scheme for unfitted estimators */\n",
              "  --sklearn-color-unfitted-level-0: #fff5e6;\n",
              "  --sklearn-color-unfitted-level-1: #f6e4d2;\n",
              "  --sklearn-color-unfitted-level-2: #ffe0b3;\n",
              "  --sklearn-color-unfitted-level-3: chocolate;\n",
              "  /* Definition of color scheme for fitted estimators */\n",
              "  --sklearn-color-fitted-level-0: #f0f8ff;\n",
              "  --sklearn-color-fitted-level-1: #d4ebff;\n",
              "  --sklearn-color-fitted-level-2: #b3dbfd;\n",
              "  --sklearn-color-fitted-level-3: cornflowerblue;\n",
              "\n",
              "  /* Specific color for light theme */\n",
              "  --sklearn-color-text-on-default-background: var(--sg-text-color, var(--theme-code-foreground, var(--jp-content-font-color1, black)));\n",
              "  --sklearn-color-background: var(--sg-background-color, var(--theme-background, var(--jp-layout-color0, white)));\n",
              "  --sklearn-color-border-box: var(--sg-text-color, var(--theme-code-foreground, var(--jp-content-font-color1, black)));\n",
              "  --sklearn-color-icon: #696969;\n",
              "\n",
              "  @media (prefers-color-scheme: dark) {\n",
              "    /* Redefinition of color scheme for dark theme */\n",
              "    --sklearn-color-text-on-default-background: var(--sg-text-color, var(--theme-code-foreground, var(--jp-content-font-color1, white)));\n",
              "    --sklearn-color-background: var(--sg-background-color, var(--theme-background, var(--jp-layout-color0, #111)));\n",
              "    --sklearn-color-border-box: var(--sg-text-color, var(--theme-code-foreground, var(--jp-content-font-color1, white)));\n",
              "    --sklearn-color-icon: #878787;\n",
              "  }\n",
              "}\n",
              "\n",
              "#sk-container-id-2 {\n",
              "  color: var(--sklearn-color-text);\n",
              "}\n",
              "\n",
              "#sk-container-id-2 pre {\n",
              "  padding: 0;\n",
              "}\n",
              "\n",
              "#sk-container-id-2 input.sk-hidden--visually {\n",
              "  border: 0;\n",
              "  clip: rect(1px 1px 1px 1px);\n",
              "  clip: rect(1px, 1px, 1px, 1px);\n",
              "  height: 1px;\n",
              "  margin: -1px;\n",
              "  overflow: hidden;\n",
              "  padding: 0;\n",
              "  position: absolute;\n",
              "  width: 1px;\n",
              "}\n",
              "\n",
              "#sk-container-id-2 div.sk-dashed-wrapped {\n",
              "  border: 1px dashed var(--sklearn-color-line);\n",
              "  margin: 0 0.4em 0.5em 0.4em;\n",
              "  box-sizing: border-box;\n",
              "  padding-bottom: 0.4em;\n",
              "  background-color: var(--sklearn-color-background);\n",
              "}\n",
              "\n",
              "#sk-container-id-2 div.sk-container {\n",
              "  /* jupyter's `normalize.less` sets `[hidden] { display: none; }`\n",
              "     but bootstrap.min.css set `[hidden] { display: none !important; }`\n",
              "     so we also need the `!important` here to be able to override the\n",
              "     default hidden behavior on the sphinx rendered scikit-learn.org.\n",
              "     See: https://github.com/scikit-learn/scikit-learn/issues/21755 */\n",
              "  display: inline-block !important;\n",
              "  position: relative;\n",
              "}\n",
              "\n",
              "#sk-container-id-2 div.sk-text-repr-fallback {\n",
              "  display: none;\n",
              "}\n",
              "\n",
              "div.sk-parallel-item,\n",
              "div.sk-serial,\n",
              "div.sk-item {\n",
              "  /* draw centered vertical line to link estimators */\n",
              "  background-image: linear-gradient(var(--sklearn-color-text-on-default-background), var(--sklearn-color-text-on-default-background));\n",
              "  background-size: 2px 100%;\n",
              "  background-repeat: no-repeat;\n",
              "  background-position: center center;\n",
              "}\n",
              "\n",
              "/* Parallel-specific style estimator block */\n",
              "\n",
              "#sk-container-id-2 div.sk-parallel-item::after {\n",
              "  content: \"\";\n",
              "  width: 100%;\n",
              "  border-bottom: 2px solid var(--sklearn-color-text-on-default-background);\n",
              "  flex-grow: 1;\n",
              "}\n",
              "\n",
              "#sk-container-id-2 div.sk-parallel {\n",
              "  display: flex;\n",
              "  align-items: stretch;\n",
              "  justify-content: center;\n",
              "  background-color: var(--sklearn-color-background);\n",
              "  position: relative;\n",
              "}\n",
              "\n",
              "#sk-container-id-2 div.sk-parallel-item {\n",
              "  display: flex;\n",
              "  flex-direction: column;\n",
              "}\n",
              "\n",
              "#sk-container-id-2 div.sk-parallel-item:first-child::after {\n",
              "  align-self: flex-end;\n",
              "  width: 50%;\n",
              "}\n",
              "\n",
              "#sk-container-id-2 div.sk-parallel-item:last-child::after {\n",
              "  align-self: flex-start;\n",
              "  width: 50%;\n",
              "}\n",
              "\n",
              "#sk-container-id-2 div.sk-parallel-item:only-child::after {\n",
              "  width: 0;\n",
              "}\n",
              "\n",
              "/* Serial-specific style estimator block */\n",
              "\n",
              "#sk-container-id-2 div.sk-serial {\n",
              "  display: flex;\n",
              "  flex-direction: column;\n",
              "  align-items: center;\n",
              "  background-color: var(--sklearn-color-background);\n",
              "  padding-right: 1em;\n",
              "  padding-left: 1em;\n",
              "}\n",
              "\n",
              "\n",
              "/* Toggleable style: style used for estimator/Pipeline/ColumnTransformer box that is\n",
              "clickable and can be expanded/collapsed.\n",
              "- Pipeline and ColumnTransformer use this feature and define the default style\n",
              "- Estimators will overwrite some part of the style using the `sk-estimator` class\n",
              "*/\n",
              "\n",
              "/* Pipeline and ColumnTransformer style (default) */\n",
              "\n",
              "#sk-container-id-2 div.sk-toggleable {\n",
              "  /* Default theme specific background. It is overwritten whether we have a\n",
              "  specific estimator or a Pipeline/ColumnTransformer */\n",
              "  background-color: var(--sklearn-color-background);\n",
              "}\n",
              "\n",
              "/* Toggleable label */\n",
              "#sk-container-id-2 label.sk-toggleable__label {\n",
              "  cursor: pointer;\n",
              "  display: flex;\n",
              "  width: 100%;\n",
              "  margin-bottom: 0;\n",
              "  padding: 0.5em;\n",
              "  box-sizing: border-box;\n",
              "  text-align: center;\n",
              "  align-items: start;\n",
              "  justify-content: space-between;\n",
              "  gap: 0.5em;\n",
              "}\n",
              "\n",
              "#sk-container-id-2 label.sk-toggleable__label .caption {\n",
              "  font-size: 0.6rem;\n",
              "  font-weight: lighter;\n",
              "  color: var(--sklearn-color-text-muted);\n",
              "}\n",
              "\n",
              "#sk-container-id-2 label.sk-toggleable__label-arrow:before {\n",
              "  /* Arrow on the left of the label */\n",
              "  content: \"▸\";\n",
              "  float: left;\n",
              "  margin-right: 0.25em;\n",
              "  color: var(--sklearn-color-icon);\n",
              "}\n",
              "\n",
              "#sk-container-id-2 label.sk-toggleable__label-arrow:hover:before {\n",
              "  color: var(--sklearn-color-text);\n",
              "}\n",
              "\n",
              "/* Toggleable content - dropdown */\n",
              "\n",
              "#sk-container-id-2 div.sk-toggleable__content {\n",
              "  max-height: 0;\n",
              "  max-width: 0;\n",
              "  overflow: hidden;\n",
              "  text-align: left;\n",
              "  /* unfitted */\n",
              "  background-color: var(--sklearn-color-unfitted-level-0);\n",
              "}\n",
              "\n",
              "#sk-container-id-2 div.sk-toggleable__content.fitted {\n",
              "  /* fitted */\n",
              "  background-color: var(--sklearn-color-fitted-level-0);\n",
              "}\n",
              "\n",
              "#sk-container-id-2 div.sk-toggleable__content pre {\n",
              "  margin: 0.2em;\n",
              "  border-radius: 0.25em;\n",
              "  color: var(--sklearn-color-text);\n",
              "  /* unfitted */\n",
              "  background-color: var(--sklearn-color-unfitted-level-0);\n",
              "}\n",
              "\n",
              "#sk-container-id-2 div.sk-toggleable__content.fitted pre {\n",
              "  /* unfitted */\n",
              "  background-color: var(--sklearn-color-fitted-level-0);\n",
              "}\n",
              "\n",
              "#sk-container-id-2 input.sk-toggleable__control:checked~div.sk-toggleable__content {\n",
              "  /* Expand drop-down */\n",
              "  max-height: 200px;\n",
              "  max-width: 100%;\n",
              "  overflow: auto;\n",
              "}\n",
              "\n",
              "#sk-container-id-2 input.sk-toggleable__control:checked~label.sk-toggleable__label-arrow:before {\n",
              "  content: \"▾\";\n",
              "}\n",
              "\n",
              "/* Pipeline/ColumnTransformer-specific style */\n",
              "\n",
              "#sk-container-id-2 div.sk-label input.sk-toggleable__control:checked~label.sk-toggleable__label {\n",
              "  color: var(--sklearn-color-text);\n",
              "  background-color: var(--sklearn-color-unfitted-level-2);\n",
              "}\n",
              "\n",
              "#sk-container-id-2 div.sk-label.fitted input.sk-toggleable__control:checked~label.sk-toggleable__label {\n",
              "  background-color: var(--sklearn-color-fitted-level-2);\n",
              "}\n",
              "\n",
              "/* Estimator-specific style */\n",
              "\n",
              "/* Colorize estimator box */\n",
              "#sk-container-id-2 div.sk-estimator input.sk-toggleable__control:checked~label.sk-toggleable__label {\n",
              "  /* unfitted */\n",
              "  background-color: var(--sklearn-color-unfitted-level-2);\n",
              "}\n",
              "\n",
              "#sk-container-id-2 div.sk-estimator.fitted input.sk-toggleable__control:checked~label.sk-toggleable__label {\n",
              "  /* fitted */\n",
              "  background-color: var(--sklearn-color-fitted-level-2);\n",
              "}\n",
              "\n",
              "#sk-container-id-2 div.sk-label label.sk-toggleable__label,\n",
              "#sk-container-id-2 div.sk-label label {\n",
              "  /* The background is the default theme color */\n",
              "  color: var(--sklearn-color-text-on-default-background);\n",
              "}\n",
              "\n",
              "/* On hover, darken the color of the background */\n",
              "#sk-container-id-2 div.sk-label:hover label.sk-toggleable__label {\n",
              "  color: var(--sklearn-color-text);\n",
              "  background-color: var(--sklearn-color-unfitted-level-2);\n",
              "}\n",
              "\n",
              "/* Label box, darken color on hover, fitted */\n",
              "#sk-container-id-2 div.sk-label.fitted:hover label.sk-toggleable__label.fitted {\n",
              "  color: var(--sklearn-color-text);\n",
              "  background-color: var(--sklearn-color-fitted-level-2);\n",
              "}\n",
              "\n",
              "/* Estimator label */\n",
              "\n",
              "#sk-container-id-2 div.sk-label label {\n",
              "  font-family: monospace;\n",
              "  font-weight: bold;\n",
              "  display: inline-block;\n",
              "  line-height: 1.2em;\n",
              "}\n",
              "\n",
              "#sk-container-id-2 div.sk-label-container {\n",
              "  text-align: center;\n",
              "}\n",
              "\n",
              "/* Estimator-specific */\n",
              "#sk-container-id-2 div.sk-estimator {\n",
              "  font-family: monospace;\n",
              "  border: 1px dotted var(--sklearn-color-border-box);\n",
              "  border-radius: 0.25em;\n",
              "  box-sizing: border-box;\n",
              "  margin-bottom: 0.5em;\n",
              "  /* unfitted */\n",
              "  background-color: var(--sklearn-color-unfitted-level-0);\n",
              "}\n",
              "\n",
              "#sk-container-id-2 div.sk-estimator.fitted {\n",
              "  /* fitted */\n",
              "  background-color: var(--sklearn-color-fitted-level-0);\n",
              "}\n",
              "\n",
              "/* on hover */\n",
              "#sk-container-id-2 div.sk-estimator:hover {\n",
              "  /* unfitted */\n",
              "  background-color: var(--sklearn-color-unfitted-level-2);\n",
              "}\n",
              "\n",
              "#sk-container-id-2 div.sk-estimator.fitted:hover {\n",
              "  /* fitted */\n",
              "  background-color: var(--sklearn-color-fitted-level-2);\n",
              "}\n",
              "\n",
              "/* Specification for estimator info (e.g. \"i\" and \"?\") */\n",
              "\n",
              "/* Common style for \"i\" and \"?\" */\n",
              "\n",
              ".sk-estimator-doc-link,\n",
              "a:link.sk-estimator-doc-link,\n",
              "a:visited.sk-estimator-doc-link {\n",
              "  float: right;\n",
              "  font-size: smaller;\n",
              "  line-height: 1em;\n",
              "  font-family: monospace;\n",
              "  background-color: var(--sklearn-color-background);\n",
              "  border-radius: 1em;\n",
              "  height: 1em;\n",
              "  width: 1em;\n",
              "  text-decoration: none !important;\n",
              "  margin-left: 0.5em;\n",
              "  text-align: center;\n",
              "  /* unfitted */\n",
              "  border: var(--sklearn-color-unfitted-level-1) 1pt solid;\n",
              "  color: var(--sklearn-color-unfitted-level-1);\n",
              "}\n",
              "\n",
              ".sk-estimator-doc-link.fitted,\n",
              "a:link.sk-estimator-doc-link.fitted,\n",
              "a:visited.sk-estimator-doc-link.fitted {\n",
              "  /* fitted */\n",
              "  border: var(--sklearn-color-fitted-level-1) 1pt solid;\n",
              "  color: var(--sklearn-color-fitted-level-1);\n",
              "}\n",
              "\n",
              "/* On hover */\n",
              "div.sk-estimator:hover .sk-estimator-doc-link:hover,\n",
              ".sk-estimator-doc-link:hover,\n",
              "div.sk-label-container:hover .sk-estimator-doc-link:hover,\n",
              ".sk-estimator-doc-link:hover {\n",
              "  /* unfitted */\n",
              "  background-color: var(--sklearn-color-unfitted-level-3);\n",
              "  color: var(--sklearn-color-background);\n",
              "  text-decoration: none;\n",
              "}\n",
              "\n",
              "div.sk-estimator.fitted:hover .sk-estimator-doc-link.fitted:hover,\n",
              ".sk-estimator-doc-link.fitted:hover,\n",
              "div.sk-label-container:hover .sk-estimator-doc-link.fitted:hover,\n",
              ".sk-estimator-doc-link.fitted:hover {\n",
              "  /* fitted */\n",
              "  background-color: var(--sklearn-color-fitted-level-3);\n",
              "  color: var(--sklearn-color-background);\n",
              "  text-decoration: none;\n",
              "}\n",
              "\n",
              "/* Span, style for the box shown on hovering the info icon */\n",
              ".sk-estimator-doc-link span {\n",
              "  display: none;\n",
              "  z-index: 9999;\n",
              "  position: relative;\n",
              "  font-weight: normal;\n",
              "  right: .2ex;\n",
              "  padding: .5ex;\n",
              "  margin: .5ex;\n",
              "  width: min-content;\n",
              "  min-width: 20ex;\n",
              "  max-width: 50ex;\n",
              "  color: var(--sklearn-color-text);\n",
              "  box-shadow: 2pt 2pt 4pt #999;\n",
              "  /* unfitted */\n",
              "  background: var(--sklearn-color-unfitted-level-0);\n",
              "  border: .5pt solid var(--sklearn-color-unfitted-level-3);\n",
              "}\n",
              "\n",
              ".sk-estimator-doc-link.fitted span {\n",
              "  /* fitted */\n",
              "  background: var(--sklearn-color-fitted-level-0);\n",
              "  border: var(--sklearn-color-fitted-level-3);\n",
              "}\n",
              "\n",
              ".sk-estimator-doc-link:hover span {\n",
              "  display: block;\n",
              "}\n",
              "\n",
              "/* \"?\"-specific style due to the `<a>` HTML tag */\n",
              "\n",
              "#sk-container-id-2 a.estimator_doc_link {\n",
              "  float: right;\n",
              "  font-size: 1rem;\n",
              "  line-height: 1em;\n",
              "  font-family: monospace;\n",
              "  background-color: var(--sklearn-color-background);\n",
              "  border-radius: 1rem;\n",
              "  height: 1rem;\n",
              "  width: 1rem;\n",
              "  text-decoration: none;\n",
              "  /* unfitted */\n",
              "  color: var(--sklearn-color-unfitted-level-1);\n",
              "  border: var(--sklearn-color-unfitted-level-1) 1pt solid;\n",
              "}\n",
              "\n",
              "#sk-container-id-2 a.estimator_doc_link.fitted {\n",
              "  /* fitted */\n",
              "  border: var(--sklearn-color-fitted-level-1) 1pt solid;\n",
              "  color: var(--sklearn-color-fitted-level-1);\n",
              "}\n",
              "\n",
              "/* On hover */\n",
              "#sk-container-id-2 a.estimator_doc_link:hover {\n",
              "  /* unfitted */\n",
              "  background-color: var(--sklearn-color-unfitted-level-3);\n",
              "  color: var(--sklearn-color-background);\n",
              "  text-decoration: none;\n",
              "}\n",
              "\n",
              "#sk-container-id-2 a.estimator_doc_link.fitted:hover {\n",
              "  /* fitted */\n",
              "  background-color: var(--sklearn-color-fitted-level-3);\n",
              "}\n",
              "</style><div id=\"sk-container-id-2\" class=\"sk-top-container\"><div class=\"sk-text-repr-fallback\"><pre>LogisticRegression()</pre><b>In a Jupyter environment, please rerun this cell to show the HTML representation or trust the notebook. <br />On GitHub, the HTML representation is unable to render, please try loading this page with nbviewer.org.</b></div><div class=\"sk-container\" hidden><div class=\"sk-item\"><div class=\"sk-estimator fitted sk-toggleable\"><input class=\"sk-toggleable__control sk-hidden--visually\" id=\"sk-estimator-id-2\" type=\"checkbox\" checked><label for=\"sk-estimator-id-2\" class=\"sk-toggleable__label fitted sk-toggleable__label-arrow\"><div><div>LogisticRegression</div></div><div><a class=\"sk-estimator-doc-link fitted\" rel=\"noreferrer\" target=\"_blank\" href=\"https://scikit-learn.org/1.6/modules/generated/sklearn.linear_model.LogisticRegression.html\">?<span>Documentation for LogisticRegression</span></a><span class=\"sk-estimator-doc-link fitted\">i<span>Fitted</span></span></div></label><div class=\"sk-toggleable__content fitted\"><pre>LogisticRegression()</pre></div> </div></div></div></div>"
            ]
          },
          "metadata": {},
          "execution_count": 35
        }
      ]
    },
    {
      "cell_type": "code",
      "source": [
        "y_pred = clf.predict(tfidf_matrix_test)"
      ],
      "metadata": {
        "id": "9OWRkYiLeoFW"
      },
      "execution_count": 36,
      "outputs": []
    },
    {
      "cell_type": "code",
      "source": [
        "print(classification_report(y_test, y_pred))"
      ],
      "metadata": {
        "colab": {
          "base_uri": "https://localhost:8080/"
        },
        "id": "q8Mm8lh9eoBG",
        "outputId": "30a0af58-7840-4760-d798-6a2c57c077ae"
      },
      "execution_count": 38,
      "outputs": [
        {
          "output_type": "stream",
          "name": "stdout",
          "text": [
            "              precision    recall  f1-score   support\n",
            "\n",
            "           0       0.90      0.88      0.89      4961\n",
            "           1       0.88      0.91      0.89      5039\n",
            "\n",
            "    accuracy                           0.89     10000\n",
            "   macro avg       0.89      0.89      0.89     10000\n",
            "weighted avg       0.89      0.89      0.89     10000\n",
            "\n"
          ]
        }
      ]
    },
    {
      "cell_type": "code",
      "source": [
        "#confusion matrix\n",
        "from sklearn.metrics import confusion_matrix, accuracy_score\n",
        "print(accuracy_score(y_test, y_pred))\n",
        "cm = confusion_matrix(y_test, y_pred)\n",
        "cm"
      ],
      "metadata": {
        "colab": {
          "base_uri": "https://localhost:8080/"
        },
        "id": "NE7B_HvbgC0q",
        "outputId": "405d3ea1-74bc-43db-f5e3-2f1e70cd6449"
      },
      "execution_count": 42,
      "outputs": [
        {
          "output_type": "stream",
          "name": "stdout",
          "text": [
            "0.8911\n"
          ]
        },
        {
          "output_type": "execute_result",
          "data": {
            "text/plain": [
              "array([[4346,  615],\n",
              "       [ 474, 4565]])"
            ]
          },
          "metadata": {},
          "execution_count": 42
        }
      ]
    },
    {
      "cell_type": "markdown",
      "source": [
        "*Required aim of 80% accuracy is achieved*"
      ],
      "metadata": {
        "id": "E31oTgDGgdKm"
      }
    },
    {
      "cell_type": "markdown",
      "source": [
        "## **Word Embeddings(Word2Vec)**"
      ],
      "metadata": {
        "id": "jTHy-SxggttC"
      }
    },
    {
      "cell_type": "code",
      "source": [
        "!pip install --upgrade gensim --user"
      ],
      "metadata": {
        "colab": {
          "base_uri": "https://localhost:8080/"
        },
        "collapsed": true,
        "id": "AWSPdPq3guin",
        "outputId": "c0feac64-d25e-466f-f1a1-5045af218c39"
      },
      "execution_count": 43,
      "outputs": [
        {
          "output_type": "stream",
          "name": "stdout",
          "text": [
            "Requirement already satisfied: gensim in /root/.local/lib/python3.11/site-packages (4.3.3)\n",
            "Requirement already satisfied: numpy<2.0,>=1.18.5 in /root/.local/lib/python3.11/site-packages (from gensim) (1.26.4)\n",
            "Requirement already satisfied: scipy<1.14.0,>=1.7.0 in /root/.local/lib/python3.11/site-packages (from gensim) (1.13.1)\n",
            "Requirement already satisfied: smart-open>=1.8.1 in /usr/local/lib/python3.11/dist-packages (from gensim) (7.3.0)\n",
            "Requirement already satisfied: wrapt in /usr/local/lib/python3.11/dist-packages (from smart-open>=1.8.1->gensim) (1.17.2)\n"
          ]
        }
      ]
    },
    {
      "cell_type": "code",
      "source": [
        "import gensim #this file have word2vec architechture\n",
        "import os\n",
        "from nltk import sent_tokenize\n",
        "from gensim.utils import simple_preprocess\n",
        "import nltk\n",
        "nltk.download('punkt_tab')"
      ],
      "metadata": {
        "colab": {
          "base_uri": "https://localhost:8080/"
        },
        "id": "as1Wwx2bhKn2",
        "outputId": "ceb0eba2-3cc5-4b68-a45f-2a02e37d642f"
      },
      "execution_count": 45,
      "outputs": [
        {
          "output_type": "stream",
          "name": "stderr",
          "text": [
            "[nltk_data] Downloading package punkt_tab to /root/nltk_data...\n",
            "[nltk_data]   Package punkt_tab is already up-to-date!\n"
          ]
        },
        {
          "output_type": "execute_result",
          "data": {
            "text/plain": [
              "True"
            ]
          },
          "metadata": {},
          "execution_count": 45
        }
      ]
    },
    {
      "cell_type": "code",
      "source": [
        "from gensim.models import Word2Vec"
      ],
      "metadata": {
        "id": "6YLzIxKchOUn"
      },
      "execution_count": 48,
      "outputs": []
    },
    {
      "cell_type": "code",
      "source": [
        "tokenized_reviews = [review.split() for review in df['input']]"
      ],
      "metadata": {
        "id": "z56KT101iRYe"
      },
      "execution_count": 49,
      "outputs": []
    },
    {
      "cell_type": "code",
      "source": [
        "w2v_model = Word2Vec(sentences=tokenized_reviews, vector_size=100, window=10, min_count=5, workers=4)"
      ],
      "metadata": {
        "id": "TACkMjrRiTOe"
      },
      "execution_count": 50,
      "outputs": []
    },
    {
      "cell_type": "code",
      "source": [
        "w2v_model.save(\"word2vec.model\")"
      ],
      "metadata": {
        "id": "BOkFcvRPjOeK"
      },
      "execution_count": 51,
      "outputs": []
    },
    {
      "cell_type": "code",
      "source": [
        "def get_review_vector(tokens, model, size):\n",
        "    vec = np.zeros(size)\n",
        "    count = 0\n",
        "    for word in tokens:\n",
        "        if word in model.wv:\n",
        "            vec += model.wv[word]\n",
        "            count += 1\n",
        "    return vec / count if count else vec\n"
      ],
      "metadata": {
        "id": "gnV4OL7ykWd1"
      },
      "execution_count": 55,
      "outputs": []
    },
    {
      "cell_type": "code",
      "source": [
        "X_vectors = np.array([get_review_vector(tokens, w2v_model, 100) for tokens in tokenized_reviews])\n",
        "y = df['output'].values"
      ],
      "metadata": {
        "id": "7k0Pjm9GkWZS"
      },
      "execution_count": 56,
      "outputs": []
    },
    {
      "cell_type": "code",
      "source": [
        "from sklearn.manifold import TSNE\n",
        "\n",
        "# Get top 100 words from your trained Word2Vec model\n",
        "top_words = w2v_model.wv.index_to_key[:100]\n",
        "top_vectors = np.array([w2v_model.wv[word] for word in top_words])\n",
        "\n",
        "# Applying t-SNE\n",
        "tsne = TSNE(n_components=2, random_state=0, perplexity=30, n_iter=500)\n",
        "reduced_vectors = tsne.fit_transform(top_vectors)\n"
      ],
      "metadata": {
        "id": "4MHcdlvKkWXC"
      },
      "execution_count": 57,
      "outputs": []
    },
    {
      "cell_type": "code",
      "source": [
        "plt.figure(figsize=(14, 10))\n",
        "plt.scatter(reduced_vectors[:, 0], reduced_vectors[:, 1], edgecolors='k', c='skyblue')\n",
        "for i, word in enumerate(top_words):\n",
        "    plt.annotate(word, xy=(reduced_vectors[i, 0], reduced_vectors[i, 1]))\n",
        "plt.title(\"t-SNE Visualization of Top 100 Word2Vec Embeddings\")\n",
        "plt.grid(True)\n",
        "plt.show()"
      ],
      "metadata": {
        "colab": {
          "base_uri": "https://localhost:8080/",
          "height": 831
        },
        "id": "369NvVJAlImu",
        "outputId": "d306fd7b-353e-4d93-ecc7-86f6dc177482"
      },
      "execution_count": 58,
      "outputs": [
        {
          "output_type": "display_data",
          "data": {
            "text/plain": [
              "<Figure size 1400x1000 with 1 Axes>"
            ],
            "image/png": "[encoded data removed]"
          },
          "metadata": {}
        }
      ]
    },
    {
      "cell_type": "markdown",
      "source": [
        "# **Part B: Neural Networks**"
      ],
      "metadata": {
        "id": "LVgjnak7l7LQ"
      }
    },
    {
      "cell_type": "markdown",
      "source": [
        "## Training an ANN with Word2Vec Embeddings (done in previous Part A)\n",
        "\n"
      ],
      "metadata": {
        "id": "cZ3DsBYCmsJq"
      }
    },
    {
      "cell_type": "code",
      "source": [
        "from tensorflow.keras.models import Sequential\n",
        "from tensorflow.keras.layers import Dense, Dropout"
      ],
      "metadata": {
        "id": "FHENMbfOmBA-"
      },
      "execution_count": 59,
      "outputs": []
    },
    {
      "cell_type": "code",
      "source": [
        "X_train_ann, X_test_ann, y_train_ann, y_test_ann = train_test_split(X_vectors , df['output'], test_size=0.2) #X_vector cell link: https://colab.research.google.com/drive/1Uw55g4_-ep38kIw-yFZvf3XMfOoADQ63#scrollTo=7k0Pjm9GkWZS&line=1&uniqifier=1\n",
        "\n",
        "model = Sequential([\n",
        "    Dense(128, activation='relu', input_shape=(100,)),\n",
        "    Dropout(0.3),\n",
        "    Dense(64, activation='relu'),\n",
        "    Dropout(0.3),\n",
        "    Dense(1, activation='sigmoid')\n",
        "])\n",
        "\n",
        "model.compile(loss='binary_crossentropy', optimizer='adam', metrics=['accuracy'])\n",
        "model.fit(X_train_ann, y_train_ann, epochs=10, batch_size=32, validation_data=(X_test_ann, y_test_ann))\n"
      ],
      "metadata": {
        "colab": {
          "base_uri": "https://localhost:8080/"
        },
        "id": "LdG83q7WmTxp",
        "outputId": "fe864255-ecd3-4b5b-e790-f2bcb258beb2"
      },
      "execution_count": 60,
      "outputs": [
        {
          "output_type": "stream",
          "name": "stdout",
          "text": [
            "Epoch 1/10\n",
            "\u001b[1m1250/1250\u001b[0m \u001b[32m━━━━━━━━━━━━━━━━━━━━\u001b[0m\u001b[37m\u001b[0m \u001b[1m15s\u001b[0m 9ms/step - accuracy: 0.8235 - loss: 0.3905 - val_accuracy: 0.8733 - val_loss: 0.3018\n",
            "Epoch 2/10\n",
            "\u001b[1m1250/1250\u001b[0m \u001b[32m━━━━━━━━━━━━━━━━━━━━\u001b[0m\u001b[37m\u001b[0m \u001b[1m11s\u001b[0m 9ms/step - accuracy: 0.8663 - loss: 0.3150 - val_accuracy: 0.8760 - val_loss: 0.2973\n",
            "Epoch 3/10\n",
            "\u001b[1m1250/1250\u001b[0m \u001b[32m━━━━━━━━━━━━━━━━━━━━\u001b[0m\u001b[37m\u001b[0m \u001b[1m14s\u001b[0m 11ms/step - accuracy: 0.8691 - loss: 0.3118 - val_accuracy: 0.8772 - val_loss: 0.2953\n",
            "Epoch 4/10\n",
            "\u001b[1m1250/1250\u001b[0m \u001b[32m━━━━━━━━━━━━━━━━━━━━\u001b[0m\u001b[37m\u001b[0m \u001b[1m21s\u001b[0m 11ms/step - accuracy: 0.8747 - loss: 0.3017 - val_accuracy: 0.8773 - val_loss: 0.2948\n",
            "Epoch 5/10\n",
            "\u001b[1m1250/1250\u001b[0m \u001b[32m━━━━━━━━━━━━━━━━━━━━\u001b[0m\u001b[37m\u001b[0m \u001b[1m7s\u001b[0m 6ms/step - accuracy: 0.8774 - loss: 0.2972 - val_accuracy: 0.8788 - val_loss: 0.2901\n",
            "Epoch 6/10\n",
            "\u001b[1m1250/1250\u001b[0m \u001b[32m━━━━━━━━━━━━━━━━━━━━\u001b[0m\u001b[37m\u001b[0m \u001b[1m14s\u001b[0m 8ms/step - accuracy: 0.8774 - loss: 0.2921 - val_accuracy: 0.8795 - val_loss: 0.2890\n",
            "Epoch 7/10\n",
            "\u001b[1m1250/1250\u001b[0m \u001b[32m━━━━━━━━━━━━━━━━━━━━\u001b[0m\u001b[37m\u001b[0m \u001b[1m21s\u001b[0m 8ms/step - accuracy: 0.8739 - loss: 0.2943 - val_accuracy: 0.8793 - val_loss: 0.2895\n",
            "Epoch 8/10\n",
            "\u001b[1m1250/1250\u001b[0m \u001b[32m━━━━━━━━━━━━━━━━━━━━\u001b[0m\u001b[37m\u001b[0m \u001b[1m17s\u001b[0m 6ms/step - accuracy: 0.8802 - loss: 0.2862 - val_accuracy: 0.8808 - val_loss: 0.2862\n",
            "Epoch 9/10\n",
            "\u001b[1m1250/1250\u001b[0m \u001b[32m━━━━━━━━━━━━━━━━━━━━\u001b[0m\u001b[37m\u001b[0m \u001b[1m6s\u001b[0m 5ms/step - accuracy: 0.8800 - loss: 0.2823 - val_accuracy: 0.8818 - val_loss: 0.2874\n",
            "Epoch 10/10\n",
            "\u001b[1m1250/1250\u001b[0m \u001b[32m━━━━━━━━━━━━━━━━━━━━\u001b[0m\u001b[37m\u001b[0m \u001b[1m10s\u001b[0m 5ms/step - accuracy: 0.8802 - loss: 0.2857 - val_accuracy: 0.8815 - val_loss: 0.2898\n"
          ]
        },
        {
          "output_type": "execute_result",
          "data": {
            "text/plain": [
              "<keras.src.callbacks.history.History at 0x7d73fc4eee10>"
            ]
          },
          "metadata": {},
          "execution_count": 60
        }
      ]
    },
    {
      "cell_type": "code",
      "source": [
        "#report\n",
        "from sklearn.metrics import classification_report, accuracy_score, confusion_matrix\n",
        "y_pred_ann = model.predict(X_test_ann)\n",
        "y_pred_ann = (y_pred_ann > 0.5).astype(int)\n",
        "print(\"Accuracy\",accuracy_score(y_test_ann, y_pred_ann))\n",
        "print(classification_report(y_test_ann, y_pred_ann))\n",
        "cm = confusion_matrix(y_test_ann, y_pred_ann)\n",
        "print(\"Confusion Matrix\")\n",
        "cm"
      ],
      "metadata": {
        "colab": {
          "base_uri": "https://localhost:8080/"
        },
        "id": "uG55pjNgmTub",
        "outputId": "17c30a11-5378-4be6-f120-a3a2e4d8a431"
      },
      "execution_count": 65,
      "outputs": [
        {
          "output_type": "stream",
          "name": "stdout",
          "text": [
            "\u001b[1m313/313\u001b[0m \u001b[32m━━━━━━━━━━━━━━━━━━━━\u001b[0m\u001b[37m\u001b[0m \u001b[1m2s\u001b[0m 7ms/step\n",
            "Accuracy 0.8815\n",
            "              precision    recall  f1-score   support\n",
            "\n",
            "           0       0.90      0.86      0.88      5068\n",
            "           1       0.86      0.91      0.88      4932\n",
            "\n",
            "    accuracy                           0.88     10000\n",
            "   macro avg       0.88      0.88      0.88     10000\n",
            "weighted avg       0.88      0.88      0.88     10000\n",
            "\n",
            "Confusion Matrix\n"
          ]
        },
        {
          "output_type": "execute_result",
          "data": {
            "text/plain": [
              "array([[4340,  728],\n",
              "       [ 457, 4475]])"
            ]
          },
          "metadata": {},
          "execution_count": 65
        }
      ]
    },
    {
      "cell_type": "markdown",
      "source": [
        "## CNN for Text classification"
      ],
      "metadata": {
        "id": "Lxh4aQ_loPRb"
      }
    },
    {
      "cell_type": "code",
      "source": [
        "# importing the necessary libraries\n",
        "import numpy as np\n",
        "from keras.models import Sequential\n",
        "from keras.layers import Embedding, Conv1D, GlobalMaxPooling1D, Dense\n",
        "from keras.preprocessing.sequence import pad_sequences\n",
        "from keras.datasets import imdb\n",
        "from sklearn.metrics import accuracy_score, precision_score, recall_score, f1_score\n",
        "\n",
        "# Setting up the parameters\n",
        "maximum_features = 5000  # Maximum number of words to consider as features\n",
        "maximum_length = 100  # Maximum length of input sequences\n",
        "embedding_dim = 100  # Dimension of word embeddings\n",
        "no_of_filters = 250  # Number of filters in the convolutional layer\n",
        "kernel_size = 3  # Size of the convolutional filters\n",
        "hidden_dims = 250  # Number of neurons in the hidden layer\n",
        "batch_size = 32  # Batch size for training\n",
        "epochs = 10  # Number of training epochs\n",
        "threshold = 0.5  # Threshold for binary classification"
      ],
      "metadata": {
        "id": "qKSVyxLEmTp6"
      },
      "execution_count": 76,
      "outputs": []
    },
    {
      "cell_type": "code",
      "source": [
        "#tokenizing\n",
        "tokenizer = Tokenizer(num_words=maximum_features)\n",
        "tokenizer.fit_on_texts(df['input'])\n",
        "sequences = tokenizer.texts_to_sequences(df['input'])\n",
        "X_pad = pad_sequences(sequences, maxlen=maximum_length)\n",
        "y = df['output'].values"
      ],
      "metadata": {
        "id": "G3j1soTWmTlb"
      },
      "execution_count": 77,
      "outputs": []
    },
    {
      "cell_type": "code",
      "source": [
        "from sklearn.model_selection import train_test_split\n",
        "X_train, X_test, y_train, y_test = train_test_split(X_pad, y, test_size=0.2, random_state=2)"
      ],
      "metadata": {
        "id": "Tsli4deLpik-"
      },
      "execution_count": 80,
      "outputs": []
    },
    {
      "cell_type": "code",
      "source": [
        "#simple 1-D CNN\n",
        "model = Sequential()\n",
        "model.add(Embedding(input_dim=maximum_features,\n",
        "                    output_dim=embedding_dim,\n",
        "                    input_length=maximum_length))\n",
        "\n",
        "model.add(Conv1D(filters=no_of_filters, kernel_size=kernel_size, activation='relu'))\n",
        "model.add(GlobalMaxPooling1D())\n",
        "model.add(Dense(hidden_dims, activation='relu'))\n",
        "model.add(Dense(1, activation='sigmoid'))"
      ],
      "metadata": {
        "id": "DFTi7i_3ptI_"
      },
      "execution_count": 87,
      "outputs": []
    },
    {
      "cell_type": "code",
      "source": [
        "#compile and train\n",
        "model.compile(loss='binary_crossentropy', optimizer='adam', metrics=['accuracy'])\n",
        "model.fit(X_train, y_train, batch_size=batch_size,\n",
        "          epochs=epochs, validation_data=(X_test, y_test))"
      ],
      "metadata": {
        "colab": {
          "base_uri": "https://localhost:8080/"
        },
        "id": "5sxizmqJrDwO",
        "outputId": "91b4f8e3-6b67-4137-ecf7-2d50e4e23977"
      },
      "execution_count": 88,
      "outputs": [
        {
          "output_type": "stream",
          "name": "stdout",
          "text": [
            "Epoch 1/10\n",
            "\u001b[1m1250/1250\u001b[0m \u001b[32m━━━━━━━━━━━━━━━━━━━━\u001b[0m\u001b[37m\u001b[0m \u001b[1m18s\u001b[0m 9ms/step - accuracy: 0.7874 - loss: 0.4316 - val_accuracy: 0.8745 - val_loss: 0.2945\n",
            "Epoch 2/10\n",
            "\u001b[1m1250/1250\u001b[0m \u001b[32m━━━━━━━━━━━━━━━━━━━━\u001b[0m\u001b[37m\u001b[0m \u001b[1m15s\u001b[0m 12ms/step - accuracy: 0.9259 - loss: 0.1923 - val_accuracy: 0.8575 - val_loss: 0.3442\n",
            "Epoch 3/10\n",
            "\u001b[1m1250/1250\u001b[0m \u001b[32m━━━━━━━━━━━━━━━━━━━━\u001b[0m\u001b[37m\u001b[0m \u001b[1m21s\u001b[0m 12ms/step - accuracy: 0.9742 - loss: 0.0817 - val_accuracy: 0.8741 - val_loss: 0.3891\n",
            "Epoch 4/10\n",
            "\u001b[1m1250/1250\u001b[0m \u001b[32m━━━━━━━━━━━━━━━━━━━━\u001b[0m\u001b[37m\u001b[0m \u001b[1m17s\u001b[0m 10ms/step - accuracy: 0.9901 - loss: 0.0314 - val_accuracy: 0.8708 - val_loss: 0.5239\n",
            "Epoch 5/10\n",
            "\u001b[1m1250/1250\u001b[0m \u001b[32m━━━━━━━━━━━━━━━━━━━━\u001b[0m\u001b[37m\u001b[0m \u001b[1m10s\u001b[0m 8ms/step - accuracy: 0.9912 - loss: 0.0241 - val_accuracy: 0.8670 - val_loss: 0.5742\n",
            "Epoch 6/10\n",
            "\u001b[1m1250/1250\u001b[0m \u001b[32m━━━━━━━━━━━━━━━━━━━━\u001b[0m\u001b[37m\u001b[0m \u001b[1m13s\u001b[0m 11ms/step - accuracy: 0.9931 - loss: 0.0194 - val_accuracy: 0.8686 - val_loss: 0.6077\n",
            "Epoch 7/10\n",
            "\u001b[1m1250/1250\u001b[0m \u001b[32m━━━━━━━━━━━━━━━━━━━━\u001b[0m\u001b[37m\u001b[0m \u001b[1m16s\u001b[0m 7ms/step - accuracy: 0.9949 - loss: 0.0154 - val_accuracy: 0.8727 - val_loss: 0.6673\n",
            "Epoch 8/10\n",
            "\u001b[1m1250/1250\u001b[0m \u001b[32m━━━━━━━━━━━━━━━━━━━━\u001b[0m\u001b[37m\u001b[0m \u001b[1m10s\u001b[0m 8ms/step - accuracy: 0.9955 - loss: 0.0143 - val_accuracy: 0.8557 - val_loss: 0.7929\n",
            "Epoch 9/10\n",
            "\u001b[1m1250/1250\u001b[0m \u001b[32m━━━━━━━━━━━━━━━━━━━━\u001b[0m\u001b[37m\u001b[0m \u001b[1m17s\u001b[0m 14ms/step - accuracy: 0.9949 - loss: 0.0148 - val_accuracy: 0.8713 - val_loss: 0.7115\n",
            "Epoch 10/10\n",
            "\u001b[1m1250/1250\u001b[0m \u001b[32m━━━━━━━━━━━━━━━━━━━━\u001b[0m\u001b[37m\u001b[0m \u001b[1m11s\u001b[0m 8ms/step - accuracy: 0.9966 - loss: 0.0114 - val_accuracy: 0.8629 - val_loss: 0.7189\n"
          ]
        },
        {
          "output_type": "execute_result",
          "data": {
            "text/plain": [
              "<keras.src.callbacks.history.History at 0x7d7241e19050>"
            ]
          },
          "metadata": {},
          "execution_count": 88
        }
      ]
    },
    {
      "cell_type": "code",
      "source": [
        "# Model report\n",
        "y_pred = model.predict(X_test)\n",
        "y_pred_label = (y_pred >= 0.5).astype(int)\n",
        "print(\"Accuracy\", accuracy_score(y_test, y_pred_label))\n",
        "print(classification_report(y_test, y_pred_label))\n",
        "cm = confusion_matrix(y_test, y_pred_label)\n",
        "print(\"Confusion Matrix\")\n",
        "cm"
      ],
      "metadata": {
        "colab": {
          "base_uri": "https://localhost:8080/"
        },
        "id": "bfWerPeXrGgn",
        "outputId": "a1664776-9dae-422d-d4f5-182ff027fa84"
      },
      "execution_count": 90,
      "outputs": [
        {
          "output_type": "stream",
          "name": "stdout",
          "text": [
            "\u001b[1m313/313\u001b[0m \u001b[32m━━━━━━━━━━━━━━━━━━━━\u001b[0m\u001b[37m\u001b[0m \u001b[1m3s\u001b[0m 8ms/step\n",
            "Accuracy 0.8629\n",
            "              precision    recall  f1-score   support\n",
            "\n",
            "           0       0.84      0.90      0.87      4979\n",
            "           1       0.89      0.83      0.86      5021\n",
            "\n",
            "    accuracy                           0.86     10000\n",
            "   macro avg       0.86      0.86      0.86     10000\n",
            "weighted avg       0.87      0.86      0.86     10000\n",
            "\n",
            "Confusion Matrix\n"
          ]
        },
        {
          "output_type": "execute_result",
          "data": {
            "text/plain": [
              "array([[4482,  497],\n",
              "       [ 874, 4147]])"
            ]
          },
          "metadata": {},
          "execution_count": 90
        }
      ]
    },
    {
      "cell_type": "markdown",
      "source": [
        "## ANN Vs CNN"
      ],
      "metadata": {
        "id": "mgDcO43KtXUa"
      }
    },
    {
      "cell_type": "markdown",
      "source": [
        "###**ANN**"
      ],
      "metadata": {
        "id": "fUH9SkqUtsB3"
      }
    },
    {
      "cell_type": "markdown",
      "source": [
        "**Accuracy:** 0.8815\n",
        "\n",
        "\n",
        "\n",
        "```\n",
        "              precision    recall  f1-score   support\n",
        "\n",
        "           0       0.90      0.86      0.88      5068\n",
        "           1       0.86      0.91      0.88      4932\n",
        "\n",
        "    accuracy                           0.88     10000\n",
        "   macro avg       0.88      0.88      0.88     10000\n",
        "weighted avg       0.88      0.88      0.88     10000\n",
        "```\n",
        "\n",
        "\n",
        "```\n",
        "**Confusion Matrix**\n",
        "array([[4340,  728],\n",
        "       [ 457, 4475]])\n",
        "```\n",
        "\n"
      ],
      "metadata": {
        "id": "SyVyD1DItvnk"
      }
    },
    {
      "cell_type": "markdown",
      "source": [
        "###**CNN**"
      ],
      "metadata": {
        "id": "Xlq7__NPujUv"
      }
    },
    {
      "cell_type": "markdown",
      "source": [
        "**Accuracy:** 0.8629\n",
        "\n",
        "```\n",
        "              precision    recall  f1-score   support\n",
        "\n",
        "           0       0.84      0.90      0.87      4979\n",
        "           1       0.89      0.83      0.86      5021\n",
        "\n",
        "    accuracy                           0.86     10000\n",
        "   macro avg       0.86      0.86      0.86     10000\n",
        "weighted avg       0.87      0.86      0.86     10000\n",
        "```\n",
        "\n",
        "```\n",
        "**Confusion Matrix**\n",
        "array([[4482,  497],\n",
        "       [ 874, 4147]])\n",
        "```"
      ],
      "metadata": {
        "id": "6LMWRVu6ulUr"
      }
    },
    {
      "cell_type": "markdown",
      "source": [
        "#**Part C: Text Summarization**"
      ],
      "metadata": {
        "id": "YZKPk_Q7tL1i"
      }
    },
    {
      "cell_type": "markdown",
      "source": [
        "##Review Summarization using Textrank"
      ],
      "metadata": {
        "id": "iBX6oXF4tPj5"
      }
    },
    {
      "cell_type": "code",
      "source": [
        "import nltk\n",
        "from nltk.tokenize import sent_tokenize\n",
        "import numpy as np\n",
        "\n",
        "nltk.download('punkt')\n",
        "\n",
        "def split_into_sentences(text):\n",
        "    return sent_tokenize(text)\n"
      ],
      "metadata": {
        "colab": {
          "base_uri": "https://localhost:8080/"
        },
        "id": "73P2iLdTzE1f",
        "outputId": "0189ab7e-acd0-4a85-b960-f59985a6d1f6"
      },
      "execution_count": 107,
      "outputs": [
        {
          "output_type": "stream",
          "name": "stderr",
          "text": [
            "[nltk_data] Downloading package punkt to /root/nltk_data...\n",
            "[nltk_data]   Package punkt is already up-to-date!\n"
          ]
        }
      ]
    },
    {
      "cell_type": "code",
      "source": [
        "def get_sentence_vectors(sentences, word_embeddings, dim=100):\n",
        "    sentence_vectors = []\n",
        "    for sent in sentences:\n",
        "        words = sent.lower().split()\n",
        "        valid_words = [word_embeddings[w] for w in words if w in word_embeddings]\n",
        "        if valid_words:\n",
        "            v = np.mean(valid_words, axis=0)\n",
        "        else:\n",
        "            v = np.zeros((dim,))\n",
        "        sentence_vectors.append(v)\n",
        "    return sentence_vectors\n"
      ],
      "metadata": {
        "id": "MCSkTjxRzEyu"
      },
      "execution_count": 116,
      "outputs": []
    },
    {
      "cell_type": "code",
      "source": [
        "from sklearn.metrics.pairwise import cosine_similarity\n",
        "\n",
        "def build_similarity_matrix(vectors):\n",
        "    n = len(vectors)\n",
        "    sim_mat = np.zeros((n, n))\n",
        "    for i in range(n):\n",
        "        for j in range(n):\n",
        "            if i != j:\n",
        "                sim_mat[i][j] = cosine_similarity(vectors[i].reshape(1, -1), vectors[j].reshape(1, -1))[0, 0]\n",
        "    return sim_mat\n"
      ],
      "metadata": {
        "id": "Kfgrc635zEu_"
      },
      "execution_count": 117,
      "outputs": []
    },
    {
      "cell_type": "code",
      "source": [
        "import numpy as np\n",
        "import networkx as nx\n",
        "from sklearn.metrics.pairwise import cosine_similarity\n",
        "from nltk.tokenize import sent_tokenize\n",
        "import nltk\n",
        "nltk.download('punkt')\n",
        "\n",
        "def textrank_summary(text, word_embeddings, num_sentences=3, dim=100):\n",
        "    sentences = sent_tokenize(text)\n",
        "    if len(sentences) <= num_sentences:\n",
        "        return text  # Too short to summarize\n",
        "\n",
        "    sentence_vectors = get_sentence_vectors(sentences, word_embeddings, dim)\n",
        "\n",
        "    # Build similarity matrix\n",
        "    sim_mat = np.zeros((len(sentences), len(sentences)))\n",
        "    for i in range(len(sentences)):\n",
        "        for j in range(len(sentences)):\n",
        "            if i != j:\n",
        "                sim_mat[i][j] = cosine_similarity(sentence_vectors[i].reshape(1, dim),\n",
        "                                                  sentence_vectors[j].reshape(1, dim))[0, 0]\n",
        "\n",
        "    # PageRank\n",
        "    nx_graph = nx.from_numpy_array(sim_mat)\n",
        "    scores = nx.pagerank(nx_graph)\n",
        "\n",
        "    # Rank and de-duplicate\n",
        "    seen = set()\n",
        "    summary_sentences = []\n",
        "    for _, sentence in sorted(((scores[i], s) for i, s in enumerate(sentences)), reverse=True):\n",
        "        if sentence not in seen:\n",
        "            summary_sentences.append(sentence)\n",
        "            seen.add(sentence)\n",
        "        if len(summary_sentences) >= num_sentences:\n",
        "            break\n",
        "\n",
        "    return \" \".join(summary_sentences)\n",
        "\n"
      ],
      "metadata": {
        "colab": {
          "base_uri": "https://localhost:8080/"
        },
        "id": "PwbCz3XLzEdM",
        "outputId": "ec4ba382-5939-41ad-bcf5-8832da82f24a"
      },
      "execution_count": 122,
      "outputs": [
        {
          "output_type": "stream",
          "name": "stderr",
          "text": [
            "[nltk_data] Downloading package punkt to /root/nltk_data...\n",
            "[nltk_data]   Package punkt is already up-to-date!\n"
          ]
        }
      ]
    },
    {
      "cell_type": "code",
      "source": [
        "long_review = \"\"\"\n",
        "This movie was incredibly well made. The performances were stunning, especially by the lead actor.\n",
        "The direction and writing kept me engaged throughout the film. Some of the scenes were slow-paced, but that helped build tension.\n",
        "The cinematography and soundtrack perfectly matched the tone of the movie. It's a great watch if you enjoy character-driven dramas.\n",
        "Highly recommended.\n",
        "\"\"\" * 10  # Repeat to make it >200 words\n",
        "\n",
        "summary = textrank_summary(long_review, w2v_model.wv, num_sentences=3)\n",
        "print(\"🔹 Summary:\\n\", summary)\n"
      ],
      "metadata": {
        "colab": {
          "base_uri": "https://localhost:8080/"
        },
        "id": "6EK0Jzqb0EMI",
        "outputId": "1ad876ee-3466-4429-f4a8-a976acd0d78f"
      },
      "execution_count": 125,
      "outputs": [
        {
          "output_type": "stream",
          "name": "stdout",
          "text": [
            "🔹 Summary:\n",
            " The cinematography and soundtrack perfectly matched the tone of the movie. The direction and writing kept me engaged throughout the film. This movie was incredibly well made.\n"
          ]
        }
      ]
    },
    {
      "cell_type": "markdown",
      "source": [
        "Summarizing using Pretrained GloVe"
      ],
      "metadata": {
        "id": "NB7mFb2i2yS8"
      }
    },
    {
      "cell_type": "code",
      "source": [
        "print(df['input'].isnull().sum())  # Check for missing reviews\n",
        "print(type(df['input'].iloc[0]))   # Should be str\n",
        "print(df['input'].apply(lambda x: type(x)).value_counts())"
      ],
      "metadata": {
        "colab": {
          "base_uri": "https://localhost:8080/"
        },
        "id": "TYTVqrILzEaM",
        "outputId": "704fee5e-4e17-41fe-c1c4-b51f6b0f16ce"
      },
      "execution_count": 128,
      "outputs": [
        {
          "output_type": "stream",
          "name": "stdout",
          "text": [
            "0\n",
            "<class 'str'>\n",
            "input\n",
            "<class 'str'>    50000\n",
            "Name: count, dtype: int64\n"
          ]
        }
      ]
    },
    {
      "cell_type": "code",
      "source": [
        "df['input'] = df['input'].astype(str)\n",
        "df['input'] = df['input'].fillna('')\n"
      ],
      "metadata": {
        "id": "Jue0CDfpzEWM"
      },
      "execution_count": 129,
      "outputs": []
    },
    {
      "cell_type": "code",
      "source": [
        "long_reviews = df[df['input'].apply(lambda x: len(x.split()) >= 200)].copy()\n",
        "print(\"Filtered reviews:\", len(long_reviews))\n"
      ],
      "metadata": {
        "colab": {
          "base_uri": "https://localhost:8080/"
        },
        "id": "-VSwp2PE2NoR",
        "outputId": "89890258-3718-435c-a4fa-925b7c0e3da7"
      },
      "execution_count": 132,
      "outputs": [
        {
          "output_type": "stream",
          "name": "stdout",
          "text": [
            "Filtered reviews: 6908\n"
          ]
        }
      ]
    },
    {
      "cell_type": "code",
      "source": [
        "sample = long_reviews.iloc[0]['input']\n",
        "tokens = sample.lower().split()\n",
        "hits = sum(1 for w in tokens if w in w2v_model.wv)\n",
        "print(f\"Word2Vec matched {hits} / {len(tokens)} words\")\n"
      ],
      "metadata": {
        "colab": {
          "base_uri": "https://localhost:8080/"
        },
        "id": "8gJbXKEh2RvC",
        "outputId": "9fd3ba6a-a59d-4afb-b959-925947d8d9e3"
      },
      "execution_count": 133,
      "outputs": [
        {
          "output_type": "stream",
          "name": "stdout",
          "text": [
            "Word2Vec matched 218 / 226 words\n"
          ]
        }
      ]
    },
    {
      "cell_type": "code",
      "source": [
        "!wget http://nlp.stanford.edu/data/glove.6B.zip\n",
        "!unzip glove.6B.zip\n"
      ],
      "metadata": {
        "colab": {
          "base_uri": "https://localhost:8080/"
        },
        "collapsed": true,
        "id": "0CbhHXTI2UC-",
        "outputId": "6a03f5c3-0422-43b7-be61-0bd31a4ace89"
      },
      "execution_count": 134,
      "outputs": [
        {
          "output_type": "stream",
          "name": "stdout",
          "text": [
            "--2025-07-03 15:12:59--  http://nlp.stanford.edu/data/glove.6B.zip\n",
            "Resolving nlp.stanford.edu (nlp.stanford.edu)... 171.64.67.140\n",
            "Connecting to nlp.stanford.edu (nlp.stanford.edu)|171.64.67.140|:80... connected.\n",
            "HTTP request sent, awaiting response... 302 Found\n",
            "Location: https://nlp.stanford.edu/data/glove.6B.zip [following]\n",
            "--2025-07-03 15:12:59--  https://nlp.stanford.edu/data/glove.6B.zip\n",
            "Connecting to nlp.stanford.edu (nlp.stanford.edu)|171.64.67.140|:443... connected.\n",
            "HTTP request sent, awaiting response... 301 Moved Permanently\n",
            "Location: https://downloads.cs.stanford.edu/nlp/data/glove.6B.zip [following]\n",
            "--2025-07-03 15:13:00--  https://downloads.cs.stanford.edu/nlp/data/glove.6B.zip\n",
            "Resolving downloads.cs.stanford.edu (downloads.cs.stanford.edu)... 171.64.64.22\n",
            "Connecting to downloads.cs.stanford.edu (downloads.cs.stanford.edu)|171.64.64.22|:443... connected.\n",
            "HTTP request sent, awaiting response... 200 OK\n",
            "Length: 862182613 (822M) [application/zip]\n",
            "Saving to: ‘glove.6B.zip’\n",
            "\n",
            "glove.6B.zip        100%[===================>] 822.24M  5.02MB/s    in 2m 39s  \n",
            "\n",
            "2025-07-03 15:15:40 (5.17 MB/s) - ‘glove.6B.zip’ saved [862182613/862182613]\n",
            "\n",
            "Archive:  glove.6B.zip\n",
            "  inflating: glove.6B.50d.txt        \n",
            "  inflating: glove.6B.100d.txt       \n",
            "  inflating: glove.6B.200d.txt       \n",
            "  inflating: glove.6B.300d.txt       \n"
          ]
        }
      ]
    },
    {
      "cell_type": "code",
      "source": [
        "def load_glove(path='glove.6B.100d.txt'):\n",
        "    embeddings = {}\n",
        "    with open(path, encoding='utf8') as f:\n",
        "        for line in f:\n",
        "            values = line.split()\n",
        "            word = values[0]\n",
        "            vector = np.asarray(values[1:], dtype='float32')\n",
        "            embeddings[word] = vector\n",
        "    return embeddings\n",
        "\n",
        "glove_vectors = load_glove()\n"
      ],
      "metadata": {
        "id": "tUr6Sa5M2WHn"
      },
      "execution_count": 135,
      "outputs": []
    },
    {
      "cell_type": "code",
      "source": [
        "long_reviews['summary'] = long_reviews['input'].apply(lambda x: textrank_summary(str(x), glove_vectors, num_sentences=3))"
      ],
      "metadata": {
        "id": "hxTwOYNF2YFS"
      },
      "execution_count": 136,
      "outputs": []
    },
    {
      "cell_type": "code",
      "source": [
        "print(\"Review:\\n\", long_reviews.iloc[0]['input'][:500])\n",
        "print(\"\\nSummary:\\n\", long_reviews.iloc[0]['summary'])"
      ],
      "metadata": {
        "colab": {
          "base_uri": "https://localhost:8080/"
        },
        "id": "PBkMUyCP2qkA",
        "outputId": "9e2e64cb-65b6-4c83-aa79-a06804bc1bab"
      },
      "execution_count": 138,
      "outputs": [
        {
          "output_type": "stream",
          "name": "stdout",
          "text": [
            "Review:\n",
            " im big fan boll work many enjoyed movie postal maybe im one boll apparently bought rights use far cry long ago even game even finsished people enjoyed killing mercs infiltrating secret research labs located tropical island warned far cry something mr boll schemed together along legion schmucks feeling loneley set mr boll invites three countrymen play players go names til schweiger udo kier ralf moeller three names actually made selfs pretty big movie biz tale goes like jack carver played til sch\n",
            "\n",
            "Summary:\n",
            " im big fan boll work many enjoyed movie postal maybe im one boll apparently bought rights use far cry long ago even game even finsished people enjoyed killing mercs infiltrating secret research labs located tropical island warned far cry something mr boll schemed together along legion schmucks feeling loneley set mr boll invites three countrymen play players go names til schweiger udo kier ralf moeller three names actually made selfs pretty big movie biz tale goes like jack carver played til schweiger yes carver german hail bratwurst eating dudes however find tils acting movie pretty badass people complained really staying true whole carver agenda saw carver first person perspective really know looked like kicking however storyline film beyond demented see evil mad scientist dr krieger played udo kier making genetically mutated soldiers gms called performing top secret research island reminds spoiler vancouver reason thats right palm trees instead got nice rich lumberjack woods even gone far started cry mehehe cannot go wanna stay true bolls shenanigans go see movie disappointed delivers true boll experience meaning suck things worth mentioning would imply boll good work areas film nice boat fighting scenes whole cromed albino gms squad enters scene everything makes laugh movie far cry reeks scheisse poop simpletons fa r wanna take wiff go ahead btw carver gets annoying sidekick makes wanna shoot first three minutes screen\n"
          ]
        }
      ]
    }
  ]
}