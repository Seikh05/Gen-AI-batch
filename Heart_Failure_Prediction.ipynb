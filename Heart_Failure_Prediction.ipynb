{
  "nbformat": 4,
  "nbformat_minor": 0,
  "metadata": {
    "colab": {
      "provenance": []
    },
    "kernelspec": {
      "name": "python3",
      "display_name": "Python 3"
    },
    "language_info": {
      "name": "python"
    }
  },
  "cells": [
    {
      "cell_type": "code",
      "source": [
        "import numpy as np\n",
        "import pandas as pd\n",
        "import matplotlib.pyplot as plt"
      ],
      "metadata": {
        "id": "9zLtpbMX12KH"
      },
      "execution_count": 39,
      "outputs": []
    },
    {
      "cell_type": "code",
      "execution_count": 40,
      "metadata": {
        "colab": {
          "base_uri": "https://localhost:8080/"
        },
        "id": "-KU3g_EL1dOv",
        "outputId": "9e2b50ad-711b-4268-af49-7f869c40b0d0"
      },
      "outputs": [
        {
          "output_type": "stream",
          "name": "stdout",
          "text": [
            "2.18.0\n"
          ]
        }
      ],
      "source": [
        "import tensorflow as tf\n",
        "tensorflow__version__ = tf.__version__\n",
        "print(tensorflow__version__)"
      ]
    },
    {
      "cell_type": "code",
      "source": [
        "dataset = pd.read_csv('heart.csv')"
      ],
      "metadata": {
        "id": "vKfm4tFI16x9"
      },
      "execution_count": 41,
      "outputs": []
    },
    {
      "cell_type": "code",
      "source": [
        "dataset.shape"
      ],
      "metadata": {
        "colab": {
          "base_uri": "https://localhost:8080/"
        },
        "id": "_8UnpHiS2k-1",
        "outputId": "8a8b95d2-b56b-41ba-ccf6-3a81df7aa850"
      },
      "execution_count": 42,
      "outputs": [
        {
          "output_type": "execute_result",
          "data": {
            "text/plain": [
              "(918, 12)"
            ]
          },
          "metadata": {},
          "execution_count": 42
        }
      ]
    },
    {
      "cell_type": "code",
      "source": [
        "dataset.head()"
      ],
      "metadata": {
        "colab": {
          "base_uri": "https://localhost:8080/",
          "height": 206
        },
        "id": "RDaKQDDe2Gvt",
        "outputId": "f4e3700c-b2e0-4749-bd32-61093fe0f0fe"
      },
      "execution_count": 43,
      "outputs": [
        {
          "output_type": "execute_result",
          "data": {
            "text/plain": [
              "   Age Sex ChestPainType  RestingBP  Cholesterol  FastingBS RestingECG  MaxHR  \\\n",
              "0   40   M           ATA        140          289          0     Normal    172   \n",
              "1   49   F           NAP        160          180          0     Normal    156   \n",
              "2   37   M           ATA        130          283          0         ST     98   \n",
              "3   48   F           ASY        138          214          0     Normal    108   \n",
              "4   54   M           NAP        150          195          0     Normal    122   \n",
              "\n",
              "  ExerciseAngina  Oldpeak ST_Slope  HeartDisease  \n",
              "0              N      0.0       Up             0  \n",
              "1              N      1.0     Flat             1  \n",
              "2              N      0.0       Up             0  \n",
              "3              Y      1.5     Flat             1  \n",
              "4              N      0.0       Up             0  "
            ],
            "text/html": [
              "\n",
              "  <div id=\"df-f7675ecc-27e5-4758-9e19-4f15cfc11952\" class=\"colab-df-container\">\n",
              "    <div>\n",
              "<style scoped>\n",
              "    .dataframe tbody tr th:only-of-type {\n",
              "        vertical-align: middle;\n",
              "    }\n",
              "\n",
              "    .dataframe tbody tr th {\n",
              "        vertical-align: top;\n",
              "    }\n",
              "\n",
              "    .dataframe thead th {\n",
              "        text-align: right;\n",
              "    }\n",
              "</style>\n",
              "<table border=\"1\" class=\"dataframe\">\n",
              "  <thead>\n",
              "    <tr style=\"text-align: right;\">\n",
              "      <th></th>\n",
              "      <th>Age</th>\n",
              "      <th>Sex</th>\n",
              "      <th>ChestPainType</th>\n",
              "      <th>RestingBP</th>\n",
              "      <th>Cholesterol</th>\n",
              "      <th>FastingBS</th>\n",
              "      <th>RestingECG</th>\n",
              "      <th>MaxHR</th>\n",
              "      <th>ExerciseAngina</th>\n",
              "      <th>Oldpeak</th>\n",
              "      <th>ST_Slope</th>\n",
              "      <th>HeartDisease</th>\n",
              "    </tr>\n",
              "  </thead>\n",
              "  <tbody>\n",
              "    <tr>\n",
              "      <th>0</th>\n",
              "      <td>40</td>\n",
              "      <td>M</td>\n",
              "      <td>ATA</td>\n",
              "      <td>140</td>\n",
              "      <td>289</td>\n",
              "      <td>0</td>\n",
              "      <td>Normal</td>\n",
              "      <td>172</td>\n",
              "      <td>N</td>\n",
              "      <td>0.0</td>\n",
              "      <td>Up</td>\n",
              "      <td>0</td>\n",
              "    </tr>\n",
              "    <tr>\n",
              "      <th>1</th>\n",
              "      <td>49</td>\n",
              "      <td>F</td>\n",
              "      <td>NAP</td>\n",
              "      <td>160</td>\n",
              "      <td>180</td>\n",
              "      <td>0</td>\n",
              "      <td>Normal</td>\n",
              "      <td>156</td>\n",
              "      <td>N</td>\n",
              "      <td>1.0</td>\n",
              "      <td>Flat</td>\n",
              "      <td>1</td>\n",
              "    </tr>\n",
              "    <tr>\n",
              "      <th>2</th>\n",
              "      <td>37</td>\n",
              "      <td>M</td>\n",
              "      <td>ATA</td>\n",
              "      <td>130</td>\n",
              "      <td>283</td>\n",
              "      <td>0</td>\n",
              "      <td>ST</td>\n",
              "      <td>98</td>\n",
              "      <td>N</td>\n",
              "      <td>0.0</td>\n",
              "      <td>Up</td>\n",
              "      <td>0</td>\n",
              "    </tr>\n",
              "    <tr>\n",
              "      <th>3</th>\n",
              "      <td>48</td>\n",
              "      <td>F</td>\n",
              "      <td>ASY</td>\n",
              "      <td>138</td>\n",
              "      <td>214</td>\n",
              "      <td>0</td>\n",
              "      <td>Normal</td>\n",
              "      <td>108</td>\n",
              "      <td>Y</td>\n",
              "      <td>1.5</td>\n",
              "      <td>Flat</td>\n",
              "      <td>1</td>\n",
              "    </tr>\n",
              "    <tr>\n",
              "      <th>4</th>\n",
              "      <td>54</td>\n",
              "      <td>M</td>\n",
              "      <td>NAP</td>\n",
              "      <td>150</td>\n",
              "      <td>195</td>\n",
              "      <td>0</td>\n",
              "      <td>Normal</td>\n",
              "      <td>122</td>\n",
              "      <td>N</td>\n",
              "      <td>0.0</td>\n",
              "      <td>Up</td>\n",
              "      <td>0</td>\n",
              "    </tr>\n",
              "  </tbody>\n",
              "</table>\n",
              "</div>\n",
              "    <div class=\"colab-df-buttons\">\n",
              "\n",
              "  <div class=\"colab-df-container\">\n",
              "    <button class=\"colab-df-convert\" onclick=\"convertToInteractive('df-f7675ecc-27e5-4758-9e19-4f15cfc11952')\"\n",
              "            title=\"Convert this dataframe to an interactive table.\"\n",
              "            style=\"display:none;\">\n",
              "\n",
              "  <svg xmlns=\"http://www.w3.org/2000/svg\" height=\"24px\" viewBox=\"0 -960 960 960\">\n",
              "    <path d=\"M120-120v-720h720v720H120Zm60-500h600v-160H180v160Zm220 220h160v-160H400v160Zm0 220h160v-160H400v160ZM180-400h160v-160H180v160Zm440 0h160v-160H620v160ZM180-180h160v-160H180v160Zm440 0h160v-160H620v160Z\"/>\n",
              "  </svg>\n",
              "    </button>\n",
              "\n",
              "  <style>\n",
              "    .colab-df-container {\n",
              "      display:flex;\n",
              "      gap: 12px;\n",
              "    }\n",
              "\n",
              "    .colab-df-convert {\n",
              "      background-color: #E8F0FE;\n",
              "      border: none;\n",
              "      border-radius: 50%;\n",
              "      cursor: pointer;\n",
              "      display: none;\n",
              "      fill: #1967D2;\n",
              "      height: 32px;\n",
              "      padding: 0 0 0 0;\n",
              "      width: 32px;\n",
              "    }\n",
              "\n",
              "    .colab-df-convert:hover {\n",
              "      background-color: #E2EBFA;\n",
              "      box-shadow: 0px 1px 2px rgba(60, 64, 67, 0.3), 0px 1px 3px 1px rgba(60, 64, 67, 0.15);\n",
              "      fill: #174EA6;\n",
              "    }\n",
              "\n",
              "    .colab-df-buttons div {\n",
              "      margin-bottom: 4px;\n",
              "    }\n",
              "\n",
              "    [theme=dark] .colab-df-convert {\n",
              "      background-color: #3B4455;\n",
              "      fill: #D2E3FC;\n",
              "    }\n",
              "\n",
              "    [theme=dark] .colab-df-convert:hover {\n",
              "      background-color: #434B5C;\n",
              "      box-shadow: 0px 1px 3px 1px rgba(0, 0, 0, 0.15);\n",
              "      filter: drop-shadow(0px 1px 2px rgba(0, 0, 0, 0.3));\n",
              "      fill: #FFFFFF;\n",
              "    }\n",
              "  </style>\n",
              "\n",
              "    <script>\n",
              "      const buttonEl =\n",
              "        document.querySelector('#df-f7675ecc-27e5-4758-9e19-4f15cfc11952 button.colab-df-convert');\n",
              "      buttonEl.style.display =\n",
              "        google.colab.kernel.accessAllowed ? 'block' : 'none';\n",
              "\n",
              "      async function convertToInteractive(key) {\n",
              "        const element = document.querySelector('#df-f7675ecc-27e5-4758-9e19-4f15cfc11952');\n",
              "        const dataTable =\n",
              "          await google.colab.kernel.invokeFunction('convertToInteractive',\n",
              "                                                    [key], {});\n",
              "        if (!dataTable) return;\n",
              "\n",
              "        const docLinkHtml = 'Like what you see? Visit the ' +\n",
              "          '<a target=\"_blank\" href=https://colab.research.google.com/notebooks/data_table.ipynb>data table notebook</a>'\n",
              "          + ' to learn more about interactive tables.';\n",
              "        element.innerHTML = '';\n",
              "        dataTable['output_type'] = 'display_data';\n",
              "        await google.colab.output.renderOutput(dataTable, element);\n",
              "        const docLink = document.createElement('div');\n",
              "        docLink.innerHTML = docLinkHtml;\n",
              "        element.appendChild(docLink);\n",
              "      }\n",
              "    </script>\n",
              "  </div>\n",
              "\n",
              "\n",
              "    <div id=\"df-0f20ca32-4897-4ff7-9027-c56f97ac9d47\">\n",
              "      <button class=\"colab-df-quickchart\" onclick=\"quickchart('df-0f20ca32-4897-4ff7-9027-c56f97ac9d47')\"\n",
              "                title=\"Suggest charts\"\n",
              "                style=\"display:none;\">\n",
              "\n",
              "<svg xmlns=\"http://www.w3.org/2000/svg\" height=\"24px\"viewBox=\"0 0 24 24\"\n",
              "     width=\"24px\">\n",
              "    <g>\n",
              "        <path d=\"M19 3H5c-1.1 0-2 .9-2 2v14c0 1.1.9 2 2 2h14c1.1 0 2-.9 2-2V5c0-1.1-.9-2-2-2zM9 17H7v-7h2v7zm4 0h-2V7h2v10zm4 0h-2v-4h2v4z\"/>\n",
              "    </g>\n",
              "</svg>\n",
              "      </button>\n",
              "\n",
              "<style>\n",
              "  .colab-df-quickchart {\n",
              "      --bg-color: #E8F0FE;\n",
              "      --fill-color: #1967D2;\n",
              "      --hover-bg-color: #E2EBFA;\n",
              "      --hover-fill-color: #174EA6;\n",
              "      --disabled-fill-color: #AAA;\n",
              "      --disabled-bg-color: #DDD;\n",
              "  }\n",
              "\n",
              "  [theme=dark] .colab-df-quickchart {\n",
              "      --bg-color: #3B4455;\n",
              "      --fill-color: #D2E3FC;\n",
              "      --hover-bg-color: #434B5C;\n",
              "      --hover-fill-color: #FFFFFF;\n",
              "      --disabled-bg-color: #3B4455;\n",
              "      --disabled-fill-color: #666;\n",
              "  }\n",
              "\n",
              "  .colab-df-quickchart {\n",
              "    background-color: var(--bg-color);\n",
              "    border: none;\n",
              "    border-radius: 50%;\n",
              "    cursor: pointer;\n",
              "    display: none;\n",
              "    fill: var(--fill-color);\n",
              "    height: 32px;\n",
              "    padding: 0;\n",
              "    width: 32px;\n",
              "  }\n",
              "\n",
              "  .colab-df-quickchart:hover {\n",
              "    background-color: var(--hover-bg-color);\n",
              "    box-shadow: 0 1px 2px rgba(60, 64, 67, 0.3), 0 1px 3px 1px rgba(60, 64, 67, 0.15);\n",
              "    fill: var(--button-hover-fill-color);\n",
              "  }\n",
              "\n",
              "  .colab-df-quickchart-complete:disabled,\n",
              "  .colab-df-quickchart-complete:disabled:hover {\n",
              "    background-color: var(--disabled-bg-color);\n",
              "    fill: var(--disabled-fill-color);\n",
              "    box-shadow: none;\n",
              "  }\n",
              "\n",
              "  .colab-df-spinner {\n",
              "    border: 2px solid var(--fill-color);\n",
              "    border-color: transparent;\n",
              "    border-bottom-color: var(--fill-color);\n",
              "    animation:\n",
              "      spin 1s steps(1) infinite;\n",
              "  }\n",
              "\n",
              "  @keyframes spin {\n",
              "    0% {\n",
              "      border-color: transparent;\n",
              "      border-bottom-color: var(--fill-color);\n",
              "      border-left-color: var(--fill-color);\n",
              "    }\n",
              "    20% {\n",
              "      border-color: transparent;\n",
              "      border-left-color: var(--fill-color);\n",
              "      border-top-color: var(--fill-color);\n",
              "    }\n",
              "    30% {\n",
              "      border-color: transparent;\n",
              "      border-left-color: var(--fill-color);\n",
              "      border-top-color: var(--fill-color);\n",
              "      border-right-color: var(--fill-color);\n",
              "    }\n",
              "    40% {\n",
              "      border-color: transparent;\n",
              "      border-right-color: var(--fill-color);\n",
              "      border-top-color: var(--fill-color);\n",
              "    }\n",
              "    60% {\n",
              "      border-color: transparent;\n",
              "      border-right-color: var(--fill-color);\n",
              "    }\n",
              "    80% {\n",
              "      border-color: transparent;\n",
              "      border-right-color: var(--fill-color);\n",
              "      border-bottom-color: var(--fill-color);\n",
              "    }\n",
              "    90% {\n",
              "      border-color: transparent;\n",
              "      border-bottom-color: var(--fill-color);\n",
              "    }\n",
              "  }\n",
              "</style>\n",
              "\n",
              "      <script>\n",
              "        async function quickchart(key) {\n",
              "          const quickchartButtonEl =\n",
              "            document.querySelector('#' + key + ' button');\n",
              "          quickchartButtonEl.disabled = true;  // To prevent multiple clicks.\n",
              "          quickchartButtonEl.classList.add('colab-df-spinner');\n",
              "          try {\n",
              "            const charts = await google.colab.kernel.invokeFunction(\n",
              "                'suggestCharts', [key], {});\n",
              "          } catch (error) {\n",
              "            console.error('Error during call to suggestCharts:', error);\n",
              "          }\n",
              "          quickchartButtonEl.classList.remove('colab-df-spinner');\n",
              "          quickchartButtonEl.classList.add('colab-df-quickchart-complete');\n",
              "        }\n",
              "        (() => {\n",
              "          let quickchartButtonEl =\n",
              "            document.querySelector('#df-0f20ca32-4897-4ff7-9027-c56f97ac9d47 button');\n",
              "          quickchartButtonEl.style.display =\n",
              "            google.colab.kernel.accessAllowed ? 'block' : 'none';\n",
              "        })();\n",
              "      </script>\n",
              "    </div>\n",
              "\n",
              "    </div>\n",
              "  </div>\n"
            ],
            "application/vnd.google.colaboratory.intrinsic+json": {
              "type": "dataframe",
              "variable_name": "dataset",
              "summary": "{\n  \"name\": \"dataset\",\n  \"rows\": 918,\n  \"fields\": [\n    {\n      \"column\": \"Age\",\n      \"properties\": {\n        \"dtype\": \"number\",\n        \"std\": 9,\n        \"min\": 28,\n        \"max\": 77,\n        \"num_unique_values\": 50,\n        \"samples\": [\n          44,\n          68,\n          66\n        ],\n        \"semantic_type\": \"\",\n        \"description\": \"\"\n      }\n    },\n    {\n      \"column\": \"Sex\",\n      \"properties\": {\n        \"dtype\": \"category\",\n        \"num_unique_values\": 2,\n        \"samples\": [\n          \"F\",\n          \"M\"\n        ],\n        \"semantic_type\": \"\",\n        \"description\": \"\"\n      }\n    },\n    {\n      \"column\": \"ChestPainType\",\n      \"properties\": {\n        \"dtype\": \"category\",\n        \"num_unique_values\": 4,\n        \"samples\": [\n          \"NAP\",\n          \"TA\"\n        ],\n        \"semantic_type\": \"\",\n        \"description\": \"\"\n      }\n    },\n    {\n      \"column\": \"RestingBP\",\n      \"properties\": {\n        \"dtype\": \"number\",\n        \"std\": 18,\n        \"min\": 0,\n        \"max\": 200,\n        \"num_unique_values\": 67,\n        \"samples\": [\n          165,\n          118\n        ],\n        \"semantic_type\": \"\",\n        \"description\": \"\"\n      }\n    },\n    {\n      \"column\": \"Cholesterol\",\n      \"properties\": {\n        \"dtype\": \"number\",\n        \"std\": 109,\n        \"min\": 0,\n        \"max\": 603,\n        \"num_unique_values\": 222,\n        \"samples\": [\n          305,\n          321\n        ],\n        \"semantic_type\": \"\",\n        \"description\": \"\"\n      }\n    },\n    {\n      \"column\": \"FastingBS\",\n      \"properties\": {\n        \"dtype\": \"number\",\n        \"std\": 0,\n        \"min\": 0,\n        \"max\": 1,\n        \"num_unique_values\": 2,\n        \"samples\": [\n          1,\n          0\n        ],\n        \"semantic_type\": \"\",\n        \"description\": \"\"\n      }\n    },\n    {\n      \"column\": \"RestingECG\",\n      \"properties\": {\n        \"dtype\": \"category\",\n        \"num_unique_values\": 3,\n        \"samples\": [\n          \"Normal\",\n          \"ST\"\n        ],\n        \"semantic_type\": \"\",\n        \"description\": \"\"\n      }\n    },\n    {\n      \"column\": \"MaxHR\",\n      \"properties\": {\n        \"dtype\": \"number\",\n        \"std\": 25,\n        \"min\": 60,\n        \"max\": 202,\n        \"num_unique_values\": 119,\n        \"samples\": [\n          132,\n          157\n        ],\n        \"semantic_type\": \"\",\n        \"description\": \"\"\n      }\n    },\n    {\n      \"column\": \"ExerciseAngina\",\n      \"properties\": {\n        \"dtype\": \"category\",\n        \"num_unique_values\": 2,\n        \"samples\": [\n          \"Y\",\n          \"N\"\n        ],\n        \"semantic_type\": \"\",\n        \"description\": \"\"\n      }\n    },\n    {\n      \"column\": \"Oldpeak\",\n      \"properties\": {\n        \"dtype\": \"number\",\n        \"std\": 1.0665701510493233,\n        \"min\": -2.6,\n        \"max\": 6.2,\n        \"num_unique_values\": 53,\n        \"samples\": [\n          1.3,\n          0.6\n        ],\n        \"semantic_type\": \"\",\n        \"description\": \"\"\n      }\n    },\n    {\n      \"column\": \"ST_Slope\",\n      \"properties\": {\n        \"dtype\": \"category\",\n        \"num_unique_values\": 3,\n        \"samples\": [\n          \"Up\",\n          \"Flat\"\n        ],\n        \"semantic_type\": \"\",\n        \"description\": \"\"\n      }\n    },\n    {\n      \"column\": \"HeartDisease\",\n      \"properties\": {\n        \"dtype\": \"number\",\n        \"std\": 0,\n        \"min\": 0,\n        \"max\": 1,\n        \"num_unique_values\": 2,\n        \"samples\": [\n          1,\n          0\n        ],\n        \"semantic_type\": \"\",\n        \"description\": \"\"\n      }\n    }\n  ]\n}"
            }
          },
          "metadata": {},
          "execution_count": 43
        }
      ]
    },
    {
      "cell_type": "code",
      "source": [
        "dataset.info()"
      ],
      "metadata": {
        "colab": {
          "base_uri": "https://localhost:8080/"
        },
        "id": "Je_GoJxR2dFp",
        "outputId": "b4fd9aa6-55d8-4c69-9fe7-48400b4e71c1"
      },
      "execution_count": 44,
      "outputs": [
        {
          "output_type": "stream",
          "name": "stdout",
          "text": [
            "<class 'pandas.core.frame.DataFrame'>\n",
            "RangeIndex: 918 entries, 0 to 917\n",
            "Data columns (total 12 columns):\n",
            " #   Column          Non-Null Count  Dtype  \n",
            "---  ------          --------------  -----  \n",
            " 0   Age             918 non-null    int64  \n",
            " 1   Sex             918 non-null    object \n",
            " 2   ChestPainType   918 non-null    object \n",
            " 3   RestingBP       918 non-null    int64  \n",
            " 4   Cholesterol     918 non-null    int64  \n",
            " 5   FastingBS       918 non-null    int64  \n",
            " 6   RestingECG      918 non-null    object \n",
            " 7   MaxHR           918 non-null    int64  \n",
            " 8   ExerciseAngina  918 non-null    object \n",
            " 9   Oldpeak         918 non-null    float64\n",
            " 10  ST_Slope        918 non-null    object \n",
            " 11  HeartDisease    918 non-null    int64  \n",
            "dtypes: float64(1), int64(6), object(5)\n",
            "memory usage: 86.2+ KB\n"
          ]
        }
      ]
    },
    {
      "cell_type": "code",
      "source": [
        "dataset.describe()\n"
      ],
      "metadata": {
        "colab": {
          "base_uri": "https://localhost:8080/",
          "height": 300
        },
        "id": "FJZUV0932-5l",
        "outputId": "4ff5d653-963d-4793-c532-977a71a0208a"
      },
      "execution_count": 45,
      "outputs": [
        {
          "output_type": "execute_result",
          "data": {
            "text/plain": [
              "              Age   RestingBP  Cholesterol   FastingBS       MaxHR  \\\n",
              "count  918.000000  918.000000   918.000000  918.000000  918.000000   \n",
              "mean    53.510893  132.396514   198.799564    0.233115  136.809368   \n",
              "std      9.432617   18.514154   109.384145    0.423046   25.460334   \n",
              "min     28.000000    0.000000     0.000000    0.000000   60.000000   \n",
              "25%     47.000000  120.000000   173.250000    0.000000  120.000000   \n",
              "50%     54.000000  130.000000   223.000000    0.000000  138.000000   \n",
              "75%     60.000000  140.000000   267.000000    0.000000  156.000000   \n",
              "max     77.000000  200.000000   603.000000    1.000000  202.000000   \n",
              "\n",
              "          Oldpeak  HeartDisease  \n",
              "count  918.000000    918.000000  \n",
              "mean     0.887364      0.553377  \n",
              "std      1.066570      0.497414  \n",
              "min     -2.600000      0.000000  \n",
              "25%      0.000000      0.000000  \n",
              "50%      0.600000      1.000000  \n",
              "75%      1.500000      1.000000  \n",
              "max      6.200000      1.000000  "
            ],
            "text/html": [
              "\n",
              "  <div id=\"df-e498dcca-b309-4627-ad30-ef5a72599e66\" class=\"colab-df-container\">\n",
              "    <div>\n",
              "<style scoped>\n",
              "    .dataframe tbody tr th:only-of-type {\n",
              "        vertical-align: middle;\n",
              "    }\n",
              "\n",
              "    .dataframe tbody tr th {\n",
              "        vertical-align: top;\n",
              "    }\n",
              "\n",
              "    .dataframe thead th {\n",
              "        text-align: right;\n",
              "    }\n",
              "</style>\n",
              "<table border=\"1\" class=\"dataframe\">\n",
              "  <thead>\n",
              "    <tr style=\"text-align: right;\">\n",
              "      <th></th>\n",
              "      <th>Age</th>\n",
              "      <th>RestingBP</th>\n",
              "      <th>Cholesterol</th>\n",
              "      <th>FastingBS</th>\n",
              "      <th>MaxHR</th>\n",
              "      <th>Oldpeak</th>\n",
              "      <th>HeartDisease</th>\n",
              "    </tr>\n",
              "  </thead>\n",
              "  <tbody>\n",
              "    <tr>\n",
              "      <th>count</th>\n",
              "      <td>918.000000</td>\n",
              "      <td>918.000000</td>\n",
              "      <td>918.000000</td>\n",
              "      <td>918.000000</td>\n",
              "      <td>918.000000</td>\n",
              "      <td>918.000000</td>\n",
              "      <td>918.000000</td>\n",
              "    </tr>\n",
              "    <tr>\n",
              "      <th>mean</th>\n",
              "      <td>53.510893</td>\n",
              "      <td>132.396514</td>\n",
              "      <td>198.799564</td>\n",
              "      <td>0.233115</td>\n",
              "      <td>136.809368</td>\n",
              "      <td>0.887364</td>\n",
              "      <td>0.553377</td>\n",
              "    </tr>\n",
              "    <tr>\n",
              "      <th>std</th>\n",
              "      <td>9.432617</td>\n",
              "      <td>18.514154</td>\n",
              "      <td>109.384145</td>\n",
              "      <td>0.423046</td>\n",
              "      <td>25.460334</td>\n",
              "      <td>1.066570</td>\n",
              "      <td>0.497414</td>\n",
              "    </tr>\n",
              "    <tr>\n",
              "      <th>min</th>\n",
              "      <td>28.000000</td>\n",
              "      <td>0.000000</td>\n",
              "      <td>0.000000</td>\n",
              "      <td>0.000000</td>\n",
              "      <td>60.000000</td>\n",
              "      <td>-2.600000</td>\n",
              "      <td>0.000000</td>\n",
              "    </tr>\n",
              "    <tr>\n",
              "      <th>25%</th>\n",
              "      <td>47.000000</td>\n",
              "      <td>120.000000</td>\n",
              "      <td>173.250000</td>\n",
              "      <td>0.000000</td>\n",
              "      <td>120.000000</td>\n",
              "      <td>0.000000</td>\n",
              "      <td>0.000000</td>\n",
              "    </tr>\n",
              "    <tr>\n",
              "      <th>50%</th>\n",
              "      <td>54.000000</td>\n",
              "      <td>130.000000</td>\n",
              "      <td>223.000000</td>\n",
              "      <td>0.000000</td>\n",
              "      <td>138.000000</td>\n",
              "      <td>0.600000</td>\n",
              "      <td>1.000000</td>\n",
              "    </tr>\n",
              "    <tr>\n",
              "      <th>75%</th>\n",
              "      <td>60.000000</td>\n",
              "      <td>140.000000</td>\n",
              "      <td>267.000000</td>\n",
              "      <td>0.000000</td>\n",
              "      <td>156.000000</td>\n",
              "      <td>1.500000</td>\n",
              "      <td>1.000000</td>\n",
              "    </tr>\n",
              "    <tr>\n",
              "      <th>max</th>\n",
              "      <td>77.000000</td>\n",
              "      <td>200.000000</td>\n",
              "      <td>603.000000</td>\n",
              "      <td>1.000000</td>\n",
              "      <td>202.000000</td>\n",
              "      <td>6.200000</td>\n",
              "      <td>1.000000</td>\n",
              "    </tr>\n",
              "  </tbody>\n",
              "</table>\n",
              "</div>\n",
              "    <div class=\"colab-df-buttons\">\n",
              "\n",
              "  <div class=\"colab-df-container\">\n",
              "    <button class=\"colab-df-convert\" onclick=\"convertToInteractive('df-e498dcca-b309-4627-ad30-ef5a72599e66')\"\n",
              "            title=\"Convert this dataframe to an interactive table.\"\n",
              "            style=\"display:none;\">\n",
              "\n",
              "  <svg xmlns=\"http://www.w3.org/2000/svg\" height=\"24px\" viewBox=\"0 -960 960 960\">\n",
              "    <path d=\"M120-120v-720h720v720H120Zm60-500h600v-160H180v160Zm220 220h160v-160H400v160Zm0 220h160v-160H400v160ZM180-400h160v-160H180v160Zm440 0h160v-160H620v160ZM180-180h160v-160H180v160Zm440 0h160v-160H620v160Z\"/>\n",
              "  </svg>\n",
              "    </button>\n",
              "\n",
              "  <style>\n",
              "    .colab-df-container {\n",
              "      display:flex;\n",
              "      gap: 12px;\n",
              "    }\n",
              "\n",
              "    .colab-df-convert {\n",
              "      background-color: #E8F0FE;\n",
              "      border: none;\n",
              "      border-radius: 50%;\n",
              "      cursor: pointer;\n",
              "      display: none;\n",
              "      fill: #1967D2;\n",
              "      height: 32px;\n",
              "      padding: 0 0 0 0;\n",
              "      width: 32px;\n",
              "    }\n",
              "\n",
              "    .colab-df-convert:hover {\n",
              "      background-color: #E2EBFA;\n",
              "      box-shadow: 0px 1px 2px rgba(60, 64, 67, 0.3), 0px 1px 3px 1px rgba(60, 64, 67, 0.15);\n",
              "      fill: #174EA6;\n",
              "    }\n",
              "\n",
              "    .colab-df-buttons div {\n",
              "      margin-bottom: 4px;\n",
              "    }\n",
              "\n",
              "    [theme=dark] .colab-df-convert {\n",
              "      background-color: #3B4455;\n",
              "      fill: #D2E3FC;\n",
              "    }\n",
              "\n",
              "    [theme=dark] .colab-df-convert:hover {\n",
              "      background-color: #434B5C;\n",
              "      box-shadow: 0px 1px 3px 1px rgba(0, 0, 0, 0.15);\n",
              "      filter: drop-shadow(0px 1px 2px rgba(0, 0, 0, 0.3));\n",
              "      fill: #FFFFFF;\n",
              "    }\n",
              "  </style>\n",
              "\n",
              "    <script>\n",
              "      const buttonEl =\n",
              "        document.querySelector('#df-e498dcca-b309-4627-ad30-ef5a72599e66 button.colab-df-convert');\n",
              "      buttonEl.style.display =\n",
              "        google.colab.kernel.accessAllowed ? 'block' : 'none';\n",
              "\n",
              "      async function convertToInteractive(key) {\n",
              "        const element = document.querySelector('#df-e498dcca-b309-4627-ad30-ef5a72599e66');\n",
              "        const dataTable =\n",
              "          await google.colab.kernel.invokeFunction('convertToInteractive',\n",
              "                                                    [key], {});\n",
              "        if (!dataTable) return;\n",
              "\n",
              "        const docLinkHtml = 'Like what you see? Visit the ' +\n",
              "          '<a target=\"_blank\" href=https://colab.research.google.com/notebooks/data_table.ipynb>data table notebook</a>'\n",
              "          + ' to learn more about interactive tables.';\n",
              "        element.innerHTML = '';\n",
              "        dataTable['output_type'] = 'display_data';\n",
              "        await google.colab.output.renderOutput(dataTable, element);\n",
              "        const docLink = document.createElement('div');\n",
              "        docLink.innerHTML = docLinkHtml;\n",
              "        element.appendChild(docLink);\n",
              "      }\n",
              "    </script>\n",
              "  </div>\n",
              "\n",
              "\n",
              "    <div id=\"df-f2c83139-d539-439e-b0b4-161a7d970869\">\n",
              "      <button class=\"colab-df-quickchart\" onclick=\"quickchart('df-f2c83139-d539-439e-b0b4-161a7d970869')\"\n",
              "                title=\"Suggest charts\"\n",
              "                style=\"display:none;\">\n",
              "\n",
              "<svg xmlns=\"http://www.w3.org/2000/svg\" height=\"24px\"viewBox=\"0 0 24 24\"\n",
              "     width=\"24px\">\n",
              "    <g>\n",
              "        <path d=\"M19 3H5c-1.1 0-2 .9-2 2v14c0 1.1.9 2 2 2h14c1.1 0 2-.9 2-2V5c0-1.1-.9-2-2-2zM9 17H7v-7h2v7zm4 0h-2V7h2v10zm4 0h-2v-4h2v4z\"/>\n",
              "    </g>\n",
              "</svg>\n",
              "      </button>\n",
              "\n",
              "<style>\n",
              "  .colab-df-quickchart {\n",
              "      --bg-color: #E8F0FE;\n",
              "      --fill-color: #1967D2;\n",
              "      --hover-bg-color: #E2EBFA;\n",
              "      --hover-fill-color: #174EA6;\n",
              "      --disabled-fill-color: #AAA;\n",
              "      --disabled-bg-color: #DDD;\n",
              "  }\n",
              "\n",
              "  [theme=dark] .colab-df-quickchart {\n",
              "      --bg-color: #3B4455;\n",
              "      --fill-color: #D2E3FC;\n",
              "      --hover-bg-color: #434B5C;\n",
              "      --hover-fill-color: #FFFFFF;\n",
              "      --disabled-bg-color: #3B4455;\n",
              "      --disabled-fill-color: #666;\n",
              "  }\n",
              "\n",
              "  .colab-df-quickchart {\n",
              "    background-color: var(--bg-color);\n",
              "    border: none;\n",
              "    border-radius: 50%;\n",
              "    cursor: pointer;\n",
              "    display: none;\n",
              "    fill: var(--fill-color);\n",
              "    height: 32px;\n",
              "    padding: 0;\n",
              "    width: 32px;\n",
              "  }\n",
              "\n",
              "  .colab-df-quickchart:hover {\n",
              "    background-color: var(--hover-bg-color);\n",
              "    box-shadow: 0 1px 2px rgba(60, 64, 67, 0.3), 0 1px 3px 1px rgba(60, 64, 67, 0.15);\n",
              "    fill: var(--button-hover-fill-color);\n",
              "  }\n",
              "\n",
              "  .colab-df-quickchart-complete:disabled,\n",
              "  .colab-df-quickchart-complete:disabled:hover {\n",
              "    background-color: var(--disabled-bg-color);\n",
              "    fill: var(--disabled-fill-color);\n",
              "    box-shadow: none;\n",
              "  }\n",
              "\n",
              "  .colab-df-spinner {\n",
              "    border: 2px solid var(--fill-color);\n",
              "    border-color: transparent;\n",
              "    border-bottom-color: var(--fill-color);\n",
              "    animation:\n",
              "      spin 1s steps(1) infinite;\n",
              "  }\n",
              "\n",
              "  @keyframes spin {\n",
              "    0% {\n",
              "      border-color: transparent;\n",
              "      border-bottom-color: var(--fill-color);\n",
              "      border-left-color: var(--fill-color);\n",
              "    }\n",
              "    20% {\n",
              "      border-color: transparent;\n",
              "      border-left-color: var(--fill-color);\n",
              "      border-top-color: var(--fill-color);\n",
              "    }\n",
              "    30% {\n",
              "      border-color: transparent;\n",
              "      border-left-color: var(--fill-color);\n",
              "      border-top-color: var(--fill-color);\n",
              "      border-right-color: var(--fill-color);\n",
              "    }\n",
              "    40% {\n",
              "      border-color: transparent;\n",
              "      border-right-color: var(--fill-color);\n",
              "      border-top-color: var(--fill-color);\n",
              "    }\n",
              "    60% {\n",
              "      border-color: transparent;\n",
              "      border-right-color: var(--fill-color);\n",
              "    }\n",
              "    80% {\n",
              "      border-color: transparent;\n",
              "      border-right-color: var(--fill-color);\n",
              "      border-bottom-color: var(--fill-color);\n",
              "    }\n",
              "    90% {\n",
              "      border-color: transparent;\n",
              "      border-bottom-color: var(--fill-color);\n",
              "    }\n",
              "  }\n",
              "</style>\n",
              "\n",
              "      <script>\n",
              "        async function quickchart(key) {\n",
              "          const quickchartButtonEl =\n",
              "            document.querySelector('#' + key + ' button');\n",
              "          quickchartButtonEl.disabled = true;  // To prevent multiple clicks.\n",
              "          quickchartButtonEl.classList.add('colab-df-spinner');\n",
              "          try {\n",
              "            const charts = await google.colab.kernel.invokeFunction(\n",
              "                'suggestCharts', [key], {});\n",
              "          } catch (error) {\n",
              "            console.error('Error during call to suggestCharts:', error);\n",
              "          }\n",
              "          quickchartButtonEl.classList.remove('colab-df-spinner');\n",
              "          quickchartButtonEl.classList.add('colab-df-quickchart-complete');\n",
              "        }\n",
              "        (() => {\n",
              "          let quickchartButtonEl =\n",
              "            document.querySelector('#df-f2c83139-d539-439e-b0b4-161a7d970869 button');\n",
              "          quickchartButtonEl.style.display =\n",
              "            google.colab.kernel.accessAllowed ? 'block' : 'none';\n",
              "        })();\n",
              "      </script>\n",
              "    </div>\n",
              "\n",
              "    </div>\n",
              "  </div>\n"
            ],
            "application/vnd.google.colaboratory.intrinsic+json": {
              "type": "dataframe",
              "summary": "{\n  \"name\": \"dataset\",\n  \"rows\": 8,\n  \"fields\": [\n    {\n      \"column\": \"Age\",\n      \"properties\": {\n        \"dtype\": \"number\",\n        \"std\": 308.627347039806,\n        \"min\": 9.432616506732007,\n        \"max\": 918.0,\n        \"num_unique_values\": 8,\n        \"samples\": [\n          53.510893246187365,\n          54.0,\n          918.0\n        ],\n        \"semantic_type\": \"\",\n        \"description\": \"\"\n      }\n    },\n    {\n      \"column\": \"RestingBP\",\n      \"properties\": {\n        \"dtype\": \"number\",\n        \"std\": 294.5935541913639,\n        \"min\": 0.0,\n        \"max\": 918.0,\n        \"num_unique_values\": 8,\n        \"samples\": [\n          132.39651416122004,\n          130.0,\n          918.0\n        ],\n        \"semantic_type\": \"\",\n        \"description\": \"\"\n      }\n    },\n    {\n      \"column\": \"Cholesterol\",\n      \"properties\": {\n        \"dtype\": \"number\",\n        \"std\": 300.55294190735805,\n        \"min\": 0.0,\n        \"max\": 918.0,\n        \"num_unique_values\": 8,\n        \"samples\": [\n          198.7995642701525,\n          223.0,\n          918.0\n        ],\n        \"semantic_type\": \"\",\n        \"description\": \"\"\n      }\n    },\n    {\n      \"column\": \"FastingBS\",\n      \"properties\": {\n        \"dtype\": \"number\",\n        \"std\": 324.4785490336432,\n        \"min\": 0.0,\n        \"max\": 918.0,\n        \"num_unique_values\": 5,\n        \"samples\": [\n          0.23311546840958605,\n          1.0,\n          0.423045624739302\n        ],\n        \"semantic_type\": \"\",\n        \"description\": \"\"\n      }\n    },\n    {\n      \"column\": \"MaxHR\",\n      \"properties\": {\n        \"dtype\": \"number\",\n        \"std\": 287.52953225319146,\n        \"min\": 25.460334138250293,\n        \"max\": 918.0,\n        \"num_unique_values\": 8,\n        \"samples\": [\n          136.80936819172112,\n          138.0,\n          918.0\n        ],\n        \"semantic_type\": \"\",\n        \"description\": \"\"\n      }\n    },\n    {\n      \"column\": \"Oldpeak\",\n      \"properties\": {\n        \"dtype\": \"number\",\n        \"std\": 324.18454495166225,\n        \"min\": -2.6,\n        \"max\": 918.0,\n        \"num_unique_values\": 8,\n        \"samples\": [\n          0.8873638344226579,\n          0.6,\n          918.0\n        ],\n        \"semantic_type\": \"\",\n        \"description\": \"\"\n      }\n    },\n    {\n      \"column\": \"HeartDisease\",\n      \"properties\": {\n        \"dtype\": \"number\",\n        \"std\": 324.35768309524013,\n        \"min\": 0.0,\n        \"max\": 918.0,\n        \"num_unique_values\": 5,\n        \"samples\": [\n          0.5533769063180828,\n          1.0,\n          0.4974137382845986\n        ],\n        \"semantic_type\": \"\",\n        \"description\": \"\"\n      }\n    }\n  ]\n}"
            }
          },
          "metadata": {},
          "execution_count": 45
        }
      ]
    },
    {
      "cell_type": "code",
      "source": [
        "print(dataset.isnull().sum())"
      ],
      "metadata": {
        "colab": {
          "base_uri": "https://localhost:8080/"
        },
        "id": "ACPMmaOo3l2x",
        "outputId": "519166c1-a8a9-4bad-f20a-2e60833c3339"
      },
      "execution_count": 46,
      "outputs": [
        {
          "output_type": "stream",
          "name": "stdout",
          "text": [
            "Age               0\n",
            "Sex               0\n",
            "ChestPainType     0\n",
            "RestingBP         0\n",
            "Cholesterol       0\n",
            "FastingBS         0\n",
            "RestingECG        0\n",
            "MaxHR             0\n",
            "ExerciseAngina    0\n",
            "Oldpeak           0\n",
            "ST_Slope          0\n",
            "HeartDisease      0\n",
            "dtype: int64\n"
          ]
        }
      ]
    },
    {
      "cell_type": "code",
      "source": [
        "# One-hot encode categorical columns\n",
        "categorical_cols = ['Sex', 'ChestPainType', 'RestingECG', 'ExerciseAngina', 'ST_Slope']\n",
        "dataset_encoded = pd.get_dummies(dataset, columns=categorical_cols, drop_first=True)"
      ],
      "metadata": {
        "id": "D3Cix55E69qO"
      },
      "execution_count": 47,
      "outputs": []
    },
    {
      "cell_type": "code",
      "source": [
        "# Separate features and target\n",
        "x = dataset_encoded.drop('HeartDisease', axis=1)\n",
        "y = dataset_encoded['HeartDisease']"
      ],
      "metadata": {
        "id": "DMdxRQ_U65qh"
      },
      "execution_count": 48,
      "outputs": []
    },
    {
      "cell_type": "code",
      "source": [
        "from sklearn.model_selection import train_test_split\n",
        "\n",
        "x_traink,x_testk,y_traink,y_testk = train_test_split(x,y,test_size=0.2,random_state=0)"
      ],
      "metadata": {
        "id": "aH8TkwV15mAe"
      },
      "execution_count": 49,
      "outputs": []
    },
    {
      "cell_type": "code",
      "source": [
        "from sklearn.preprocessing import StandardScaler\n",
        "sc = StandardScaler()"
      ],
      "metadata": {
        "id": "dSuPa7WO7q4a"
      },
      "execution_count": 50,
      "outputs": []
    },
    {
      "cell_type": "code",
      "source": [
        "x_traink = sc.fit_transform(x_traink)\n",
        "x_testk = sc.transform(x_testk)"
      ],
      "metadata": {
        "id": "fspdkir37uAS"
      },
      "execution_count": 51,
      "outputs": []
    },
    {
      "cell_type": "code",
      "source": [
        "x_traink"
      ],
      "metadata": {
        "colab": {
          "base_uri": "https://localhost:8080/"
        },
        "id": "EE2zJc5j5lrh",
        "outputId": "6435de62-9f44-422f-c122-7c31d8c2a893"
      },
      "execution_count": 52,
      "outputs": [
        {
          "output_type": "execute_result",
          "data": {
            "text/plain": [
              "array([[ 1.75354017,  0.40398537, -1.85006457, ...,  1.19939076,\n",
              "         1.00820807, -0.87431292],\n",
              "       [-0.81787111, -0.95050604, -1.85006457, ...,  1.19939076,\n",
              "         1.00820807, -0.87431292],\n",
              "       [ 1.21782949,  1.48757849,  1.49894114, ..., -0.83375663,\n",
              "        -0.99185875,  1.14375526],\n",
              "       ...,\n",
              "       [ 0.3606924 , -0.24617051,  0.9686819 , ..., -0.83375663,\n",
              "        -0.99185875,  1.14375526],\n",
              "       [ 1.11068735,  0.07890743,  0.6895981 , ...,  1.19939076,\n",
              "        -0.99185875, -0.87431292],\n",
              "       [-0.71072897, -1.32976364,  0.41051429, ..., -0.83375663,\n",
              "        -0.99185875,  1.14375526]])"
            ]
          },
          "metadata": {},
          "execution_count": 52
        }
      ]
    },
    {
      "cell_type": "code",
      "source": [
        "x_testk"
      ],
      "metadata": {
        "colab": {
          "base_uri": "https://localhost:8080/"
        },
        "id": "hB9MZmVS3gEh",
        "outputId": "bd719903-874d-4b6a-b2f4-4959d143dea3"
      },
      "execution_count": 53,
      "outputs": [
        {
          "output_type": "execute_result",
          "data": {
            "text/plain": [
              "array([[ 0.14640812, -0.95050604, -1.85006457, ..., -0.83375663,\n",
              "         1.00820807, -0.87431292],\n",
              "       [ 1.32497163, -0.67960776,  0.95937911, ..., -0.83375663,\n",
              "         1.00820807, -0.87431292],\n",
              "       [-0.28216042, -1.22140432, -1.85006457, ..., -0.83375663,\n",
              "         1.00820807, -0.87431292],\n",
              "       ...,\n",
              "       [-0.17501829, -1.11304501,  0.28957797, ..., -0.83375663,\n",
              "        -0.99185875,  1.14375526],\n",
              "       [-1.78215034, -0.1378112 ,  0.78262603, ..., -0.83375663,\n",
              "        -0.99185875,  1.14375526],\n",
              "       [-0.06787615,  1.48757849, -1.85006457, ...,  1.19939076,\n",
              "         1.00820807, -0.87431292]])"
            ]
          },
          "metadata": {},
          "execution_count": 53
        }
      ]
    },
    {
      "cell_type": "code",
      "source": [
        "x_traink.shape"
      ],
      "metadata": {
        "colab": {
          "base_uri": "https://localhost:8080/"
        },
        "id": "2m_GQDob3f_R",
        "outputId": "ea2118c0-ca0e-4199-ee59-734f2169b4df"
      },
      "execution_count": 54,
      "outputs": [
        {
          "output_type": "execute_result",
          "data": {
            "text/plain": [
              "(734, 15)"
            ]
          },
          "metadata": {},
          "execution_count": 54
        }
      ]
    },
    {
      "cell_type": "code",
      "source": [
        "x_testk.shape"
      ],
      "metadata": {
        "colab": {
          "base_uri": "https://localhost:8080/"
        },
        "id": "Mr2JTUJP3f9D",
        "outputId": "a0d2cd52-0aa2-415a-86bf-793e748ace99"
      },
      "execution_count": 55,
      "outputs": [
        {
          "output_type": "execute_result",
          "data": {
            "text/plain": [
              "(184, 15)"
            ]
          },
          "metadata": {},
          "execution_count": 55
        }
      ]
    },
    {
      "cell_type": "code",
      "source": [
        "#lets create ANN\n",
        "#library tensorflow\n",
        "from tensorflow.keras.models import Sequential\n",
        "from tensorflow.keras.layers import Dense\n",
        "from tensorflow.keras.layers import LeakyReLU,PReLU,ELU,ReLU\n",
        "from tensorflow.keras.layers import Dropout"
      ],
      "metadata": {
        "id": "Gy4D8e8v3f6R"
      },
      "execution_count": 56,
      "outputs": []
    },
    {
      "cell_type": "code",
      "source": [
        "# Initialize the model\n",
        "model = Sequential()\n",
        "model.add(Dense(64, activation='relu'))\n",
        "model.add(Dropout(0.2))\n",
        "model.add(Dense(32, activation='relu'))\n",
        "model.add(Dropout(0.1))\n",
        "model.add(Dense(1, activation='sigmoid'))"
      ],
      "metadata": {
        "id": "RUPbFGvu9zO-"
      },
      "execution_count": 61,
      "outputs": []
    },
    {
      "cell_type": "code",
      "source": [
        "model.summary()"
      ],
      "metadata": {
        "colab": {
          "base_uri": "https://localhost:8080/",
          "height": 305
        },
        "collapsed": true,
        "id": "1yz861Kd9Yk6",
        "outputId": "386f1a4c-08de-4ce2-cf75-3e2dfdc1bd84"
      },
      "execution_count": 68,
      "outputs": [
        {
          "output_type": "display_data",
          "data": {
            "text/plain": [
              "\u001b[1mModel: \"sequential_2\"\u001b[0m\n"
            ],
            "text/html": [
              "<pre style=\"white-space:pre;overflow-x:auto;line-height:normal;font-family:Menlo,'DejaVu Sans Mono',consolas,'Courier New',monospace\"><span style=\"font-weight: bold\">Model: \"sequential_2\"</span>\n",
              "</pre>\n"
            ]
          },
          "metadata": {}
        },
        {
          "output_type": "display_data",
          "data": {
            "text/plain": [
              "┏━━━━━━━━━━━━━━━━━━━━━━━━━━━━━━━━━┳━━━━━━━━━━━━━━━━━━━━━━━━┳━━━━━━━━━━━━━━━┓\n",
              "┃\u001b[1m \u001b[0m\u001b[1mLayer (type)                   \u001b[0m\u001b[1m \u001b[0m┃\u001b[1m \u001b[0m\u001b[1mOutput Shape          \u001b[0m\u001b[1m \u001b[0m┃\u001b[1m \u001b[0m\u001b[1m      Param #\u001b[0m\u001b[1m \u001b[0m┃\n",
              "┡━━━━━━━━━━━━━━━━━━━━━━━━━━━━━━━━━╇━━━━━━━━━━━━━━━━━━━━━━━━╇━━━━━━━━━━━━━━━┩\n",
              "│ dense_9 (\u001b[38;5;33mDense\u001b[0m)                 │ (\u001b[38;5;45mNone\u001b[0m, \u001b[38;5;34m64\u001b[0m)             │         \u001b[38;5;34m1,024\u001b[0m │\n",
              "├─────────────────────────────────┼────────────────────────┼───────────────┤\n",
              "│ dropout_2 (\u001b[38;5;33mDropout\u001b[0m)             │ (\u001b[38;5;45mNone\u001b[0m, \u001b[38;5;34m64\u001b[0m)             │             \u001b[38;5;34m0\u001b[0m │\n",
              "├─────────────────────────────────┼────────────────────────┼───────────────┤\n",
              "│ dense_10 (\u001b[38;5;33mDense\u001b[0m)                │ (\u001b[38;5;45mNone\u001b[0m, \u001b[38;5;34m32\u001b[0m)             │         \u001b[38;5;34m2,080\u001b[0m │\n",
              "├─────────────────────────────────┼────────────────────────┼───────────────┤\n",
              "│ dropout_3 (\u001b[38;5;33mDropout\u001b[0m)             │ (\u001b[38;5;45mNone\u001b[0m, \u001b[38;5;34m32\u001b[0m)             │             \u001b[38;5;34m0\u001b[0m │\n",
              "├─────────────────────────────────┼────────────────────────┼───────────────┤\n",
              "│ dense_11 (\u001b[38;5;33mDense\u001b[0m)                │ (\u001b[38;5;45mNone\u001b[0m, \u001b[38;5;34m1\u001b[0m)              │            \u001b[38;5;34m33\u001b[0m │\n",
              "└─────────────────────────────────┴────────────────────────┴───────────────┘\n"
            ],
            "text/html": [
              "<pre style=\"white-space:pre;overflow-x:auto;line-height:normal;font-family:Menlo,'DejaVu Sans Mono',consolas,'Courier New',monospace\">┏━━━━━━━━━━━━━━━━━━━━━━━━━━━━━━━━━┳━━━━━━━━━━━━━━━━━━━━━━━━┳━━━━━━━━━━━━━━━┓\n",
              "┃<span style=\"font-weight: bold\"> Layer (type)                    </span>┃<span style=\"font-weight: bold\"> Output Shape           </span>┃<span style=\"font-weight: bold\">       Param # </span>┃\n",
              "┡━━━━━━━━━━━━━━━━━━━━━━━━━━━━━━━━━╇━━━━━━━━━━━━━━━━━━━━━━━━╇━━━━━━━━━━━━━━━┩\n",
              "│ dense_9 (<span style=\"color: #0087ff; text-decoration-color: #0087ff\">Dense</span>)                 │ (<span style=\"color: #00d7ff; text-decoration-color: #00d7ff\">None</span>, <span style=\"color: #00af00; text-decoration-color: #00af00\">64</span>)             │         <span style=\"color: #00af00; text-decoration-color: #00af00\">1,024</span> │\n",
              "├─────────────────────────────────┼────────────────────────┼───────────────┤\n",
              "│ dropout_2 (<span style=\"color: #0087ff; text-decoration-color: #0087ff\">Dropout</span>)             │ (<span style=\"color: #00d7ff; text-decoration-color: #00d7ff\">None</span>, <span style=\"color: #00af00; text-decoration-color: #00af00\">64</span>)             │             <span style=\"color: #00af00; text-decoration-color: #00af00\">0</span> │\n",
              "├─────────────────────────────────┼────────────────────────┼───────────────┤\n",
              "│ dense_10 (<span style=\"color: #0087ff; text-decoration-color: #0087ff\">Dense</span>)                │ (<span style=\"color: #00d7ff; text-decoration-color: #00d7ff\">None</span>, <span style=\"color: #00af00; text-decoration-color: #00af00\">32</span>)             │         <span style=\"color: #00af00; text-decoration-color: #00af00\">2,080</span> │\n",
              "├─────────────────────────────────┼────────────────────────┼───────────────┤\n",
              "│ dropout_3 (<span style=\"color: #0087ff; text-decoration-color: #0087ff\">Dropout</span>)             │ (<span style=\"color: #00d7ff; text-decoration-color: #00d7ff\">None</span>, <span style=\"color: #00af00; text-decoration-color: #00af00\">32</span>)             │             <span style=\"color: #00af00; text-decoration-color: #00af00\">0</span> │\n",
              "├─────────────────────────────────┼────────────────────────┼───────────────┤\n",
              "│ dense_11 (<span style=\"color: #0087ff; text-decoration-color: #0087ff\">Dense</span>)                │ (<span style=\"color: #00d7ff; text-decoration-color: #00d7ff\">None</span>, <span style=\"color: #00af00; text-decoration-color: #00af00\">1</span>)              │            <span style=\"color: #00af00; text-decoration-color: #00af00\">33</span> │\n",
              "└─────────────────────────────────┴────────────────────────┴───────────────┘\n",
              "</pre>\n"
            ]
          },
          "metadata": {}
        },
        {
          "output_type": "display_data",
          "data": {
            "text/plain": [
              "\u001b[1m Total params: \u001b[0m\u001b[38;5;34m9,413\u001b[0m (36.77 KB)\n"
            ],
            "text/html": [
              "<pre style=\"white-space:pre;overflow-x:auto;line-height:normal;font-family:Menlo,'DejaVu Sans Mono',consolas,'Courier New',monospace\"><span style=\"font-weight: bold\"> Total params: </span><span style=\"color: #00af00; text-decoration-color: #00af00\">9,413</span> (36.77 KB)\n",
              "</pre>\n"
            ]
          },
          "metadata": {}
        },
        {
          "output_type": "display_data",
          "data": {
            "text/plain": [
              "\u001b[1m Trainable params: \u001b[0m\u001b[38;5;34m3,137\u001b[0m (12.25 KB)\n"
            ],
            "text/html": [
              "<pre style=\"white-space:pre;overflow-x:auto;line-height:normal;font-family:Menlo,'DejaVu Sans Mono',consolas,'Courier New',monospace\"><span style=\"font-weight: bold\"> Trainable params: </span><span style=\"color: #00af00; text-decoration-color: #00af00\">3,137</span> (12.25 KB)\n",
              "</pre>\n"
            ]
          },
          "metadata": {}
        },
        {
          "output_type": "display_data",
          "data": {
            "text/plain": [
              "\u001b[1m Non-trainable params: \u001b[0m\u001b[38;5;34m0\u001b[0m (0.00 B)\n"
            ],
            "text/html": [
              "<pre style=\"white-space:pre;overflow-x:auto;line-height:normal;font-family:Menlo,'DejaVu Sans Mono',consolas,'Courier New',monospace\"><span style=\"font-weight: bold\"> Non-trainable params: </span><span style=\"color: #00af00; text-decoration-color: #00af00\">0</span> (0.00 B)\n",
              "</pre>\n"
            ]
          },
          "metadata": {}
        },
        {
          "output_type": "display_data",
          "data": {
            "text/plain": [
              "\u001b[1m Optimizer params: \u001b[0m\u001b[38;5;34m6,276\u001b[0m (24.52 KB)\n"
            ],
            "text/html": [
              "<pre style=\"white-space:pre;overflow-x:auto;line-height:normal;font-family:Menlo,'DejaVu Sans Mono',consolas,'Courier New',monospace\"><span style=\"font-weight: bold\"> Optimizer params: </span><span style=\"color: #00af00; text-decoration-color: #00af00\">6,276</span> (24.52 KB)\n",
              "</pre>\n"
            ]
          },
          "metadata": {}
        }
      ]
    },
    {
      "cell_type": "code",
      "source": [
        "model.compile(optimizer='adam',\n",
        "              loss='binary_crossentropy',\n",
        "              metrics=['accuracy',\n",
        "                      tf.keras.metrics.Precision(name='precision'),\n",
        "                      tf.keras.metrics.Recall(name='recall')])"
      ],
      "metadata": {
        "id": "ohAFP0iE984H"
      },
      "execution_count": 63,
      "outputs": []
    },
    {
      "cell_type": "code",
      "source": [
        "from tensorflow.keras.callbacks import EarlyStopping\n",
        "\n",
        "early_stop = EarlyStopping(monitor='val_loss', patience=10, restore_best_weights=True)\n",
        "history = model.fit(x_traink, y_traink, epochs=100, batch_size=32, validation_split=0.2, callbacks=[early_stop])"
      ],
      "metadata": {
        "colab": {
          "base_uri": "https://localhost:8080/"
        },
        "collapsed": true,
        "id": "GHUlECw0-lAE",
        "outputId": "5ec2f7eb-5d37-49ad-f79a-7821f3e510f3"
      },
      "execution_count": 65,
      "outputs": [
        {
          "output_type": "stream",
          "name": "stdout",
          "text": [
            "Epoch 1/100\n",
            "\u001b[1m19/19\u001b[0m \u001b[32m━━━━━━━━━━━━━━━━━━━━\u001b[0m\u001b[37m\u001b[0m \u001b[1m3s\u001b[0m 30ms/step - accuracy: 0.4131 - loss: 0.7372 - precision: 0.4720 - recall: 0.5070 - val_accuracy: 0.7211 - val_loss: 0.5911 - val_precision: 0.6932 - val_recall: 0.8133\n",
            "Epoch 2/100\n",
            "\u001b[1m19/19\u001b[0m \u001b[32m━━━━━━━━━━━━━━━━━━━━\u001b[0m\u001b[37m\u001b[0m \u001b[1m1s\u001b[0m 6ms/step - accuracy: 0.7723 - loss: 0.5465 - precision: 0.7709 - recall: 0.8487 - val_accuracy: 0.8299 - val_loss: 0.4783 - val_precision: 0.7976 - val_recall: 0.8933\n",
            "Epoch 3/100\n",
            "\u001b[1m19/19\u001b[0m \u001b[32m━━━━━━━━━━━━━━━━━━━━\u001b[0m\u001b[37m\u001b[0m \u001b[1m0s\u001b[0m 8ms/step - accuracy: 0.8352 - loss: 0.4560 - precision: 0.8278 - recall: 0.8965 - val_accuracy: 0.8776 - val_loss: 0.4101 - val_precision: 0.8608 - val_recall: 0.9067\n",
            "Epoch 4/100\n",
            "\u001b[1m19/19\u001b[0m \u001b[32m━━━━━━━━━━━━━━━━━━━━\u001b[0m\u001b[37m\u001b[0m \u001b[1m0s\u001b[0m 7ms/step - accuracy: 0.8589 - loss: 0.3677 - precision: 0.8716 - recall: 0.8874 - val_accuracy: 0.8707 - val_loss: 0.3775 - val_precision: 0.8590 - val_recall: 0.8933\n",
            "Epoch 5/100\n",
            "\u001b[1m19/19\u001b[0m \u001b[32m━━━━━━━━━━━━━━━━━━━━\u001b[0m\u001b[37m\u001b[0m \u001b[1m0s\u001b[0m 6ms/step - accuracy: 0.8569 - loss: 0.3650 - precision: 0.8734 - recall: 0.8714 - val_accuracy: 0.8776 - val_loss: 0.3629 - val_precision: 0.8701 - val_recall: 0.8933\n",
            "Epoch 6/100\n",
            "\u001b[1m19/19\u001b[0m \u001b[32m━━━━━━━━━━━━━━━━━━━━\u001b[0m\u001b[37m\u001b[0m \u001b[1m0s\u001b[0m 6ms/step - accuracy: 0.8637 - loss: 0.3187 - precision: 0.8801 - recall: 0.8736 - val_accuracy: 0.8776 - val_loss: 0.3580 - val_precision: 0.8800 - val_recall: 0.8800\n",
            "Epoch 7/100\n",
            "\u001b[1m19/19\u001b[0m \u001b[32m━━━━━━━━━━━━━━━━━━━━\u001b[0m\u001b[37m\u001b[0m \u001b[1m0s\u001b[0m 12ms/step - accuracy: 0.8841 - loss: 0.2810 - precision: 0.8909 - recall: 0.9017 - val_accuracy: 0.8776 - val_loss: 0.3549 - val_precision: 0.8800 - val_recall: 0.8800\n",
            "Epoch 8/100\n",
            "\u001b[1m19/19\u001b[0m \u001b[32m━━━━━━━━━━━━━━━━━━━━\u001b[0m\u001b[37m\u001b[0m \u001b[1m0s\u001b[0m 8ms/step - accuracy: 0.8777 - loss: 0.2956 - precision: 0.8916 - recall: 0.8952 - val_accuracy: 0.8707 - val_loss: 0.3520 - val_precision: 0.8784 - val_recall: 0.8667\n",
            "Epoch 9/100\n",
            "\u001b[1m19/19\u001b[0m \u001b[32m━━━━━━━━━━━━━━━━━━━━\u001b[0m\u001b[37m\u001b[0m \u001b[1m0s\u001b[0m 6ms/step - accuracy: 0.9103 - loss: 0.2449 - precision: 0.9162 - recall: 0.9268 - val_accuracy: 0.8707 - val_loss: 0.3500 - val_precision: 0.8784 - val_recall: 0.8667\n",
            "Epoch 10/100\n",
            "\u001b[1m19/19\u001b[0m \u001b[32m━━━━━━━━━━━━━━━━━━━━\u001b[0m\u001b[37m\u001b[0m \u001b[1m0s\u001b[0m 6ms/step - accuracy: 0.8892 - loss: 0.2564 - precision: 0.8854 - recall: 0.9151 - val_accuracy: 0.8776 - val_loss: 0.3491 - val_precision: 0.8800 - val_recall: 0.8800\n",
            "Epoch 11/100\n",
            "\u001b[1m19/19\u001b[0m \u001b[32m━━━━━━━━━━━━━━━━━━━━\u001b[0m\u001b[37m\u001b[0m \u001b[1m0s\u001b[0m 6ms/step - accuracy: 0.9078 - loss: 0.2639 - precision: 0.8890 - recall: 0.9493 - val_accuracy: 0.8844 - val_loss: 0.3494 - val_precision: 0.8816 - val_recall: 0.8933\n",
            "Epoch 12/100\n",
            "\u001b[1m19/19\u001b[0m \u001b[32m━━━━━━━━━━━━━━━━━━━━\u001b[0m\u001b[37m\u001b[0m \u001b[1m0s\u001b[0m 6ms/step - accuracy: 0.8992 - loss: 0.2854 - precision: 0.8907 - recall: 0.9330 - val_accuracy: 0.8844 - val_loss: 0.3472 - val_precision: 0.8816 - val_recall: 0.8933\n",
            "Epoch 13/100\n",
            "\u001b[1m19/19\u001b[0m \u001b[32m━━━━━━━━━━━━━━━━━━━━\u001b[0m\u001b[37m\u001b[0m \u001b[1m0s\u001b[0m 6ms/step - accuracy: 0.8859 - loss: 0.2669 - precision: 0.8761 - recall: 0.9204 - val_accuracy: 0.8912 - val_loss: 0.3467 - val_precision: 0.8933 - val_recall: 0.8933\n",
            "Epoch 14/100\n",
            "\u001b[1m19/19\u001b[0m \u001b[32m━━━━━━━━━━━━━━━━━━━━\u001b[0m\u001b[37m\u001b[0m \u001b[1m0s\u001b[0m 8ms/step - accuracy: 0.8967 - loss: 0.2704 - precision: 0.8868 - recall: 0.9289 - val_accuracy: 0.8844 - val_loss: 0.3489 - val_precision: 0.8816 - val_recall: 0.8933\n",
            "Epoch 15/100\n",
            "\u001b[1m19/19\u001b[0m \u001b[32m━━━━━━━━━━━━━━━━━━━━\u001b[0m\u001b[37m\u001b[0m \u001b[1m0s\u001b[0m 6ms/step - accuracy: 0.8643 - loss: 0.3112 - precision: 0.8543 - recall: 0.9058 - val_accuracy: 0.8707 - val_loss: 0.3495 - val_precision: 0.8590 - val_recall: 0.8933\n",
            "Epoch 16/100\n",
            "\u001b[1m19/19\u001b[0m \u001b[32m━━━━━━━━━━━━━━━━━━━━\u001b[0m\u001b[37m\u001b[0m \u001b[1m0s\u001b[0m 6ms/step - accuracy: 0.8674 - loss: 0.3382 - precision: 0.8672 - recall: 0.9027 - val_accuracy: 0.8776 - val_loss: 0.3491 - val_precision: 0.8608 - val_recall: 0.9067\n",
            "Epoch 17/100\n",
            "\u001b[1m19/19\u001b[0m \u001b[32m━━━━━━━━━━━━━━━━━━━━\u001b[0m\u001b[37m\u001b[0m \u001b[1m0s\u001b[0m 13ms/step - accuracy: 0.9039 - loss: 0.2413 - precision: 0.8953 - recall: 0.9409 - val_accuracy: 0.8707 - val_loss: 0.3530 - val_precision: 0.8590 - val_recall: 0.8933\n",
            "Epoch 18/100\n",
            "\u001b[1m19/19\u001b[0m \u001b[32m━━━━━━━━━━━━━━━━━━━━\u001b[0m\u001b[37m\u001b[0m \u001b[1m0s\u001b[0m 8ms/step - accuracy: 0.8705 - loss: 0.2835 - precision: 0.8769 - recall: 0.8849 - val_accuracy: 0.8707 - val_loss: 0.3476 - val_precision: 0.8590 - val_recall: 0.8933\n",
            "Epoch 19/100\n",
            "\u001b[1m19/19\u001b[0m \u001b[32m━━━━━━━━━━━━━━━━━━━━\u001b[0m\u001b[37m\u001b[0m \u001b[1m0s\u001b[0m 12ms/step - accuracy: 0.9007 - loss: 0.2506 - precision: 0.8901 - recall: 0.9295 - val_accuracy: 0.8707 - val_loss: 0.3504 - val_precision: 0.8590 - val_recall: 0.8933\n",
            "Epoch 20/100\n",
            "\u001b[1m19/19\u001b[0m \u001b[32m━━━━━━━━━━━━━━━━━━━━\u001b[0m\u001b[37m\u001b[0m \u001b[1m1s\u001b[0m 25ms/step - accuracy: 0.9117 - loss: 0.2425 - precision: 0.8966 - recall: 0.9530 - val_accuracy: 0.8707 - val_loss: 0.3473 - val_precision: 0.8590 - val_recall: 0.8933\n",
            "Epoch 21/100\n",
            "\u001b[1m19/19\u001b[0m \u001b[32m━━━━━━━━━━━━━━━━━━━━\u001b[0m\u001b[37m\u001b[0m \u001b[1m0s\u001b[0m 18ms/step - accuracy: 0.8971 - loss: 0.2525 - precision: 0.8884 - recall: 0.9339 - val_accuracy: 0.8707 - val_loss: 0.3468 - val_precision: 0.8590 - val_recall: 0.8933\n",
            "Epoch 22/100\n",
            "\u001b[1m19/19\u001b[0m \u001b[32m━━━━━━━━━━━━━━━━━━━━\u001b[0m\u001b[37m\u001b[0m \u001b[1m0s\u001b[0m 18ms/step - accuracy: 0.8995 - loss: 0.2334 - precision: 0.8936 - recall: 0.9310 - val_accuracy: 0.8707 - val_loss: 0.3499 - val_precision: 0.8590 - val_recall: 0.8933\n",
            "Epoch 23/100\n",
            "\u001b[1m19/19\u001b[0m \u001b[32m━━━━━━━━━━━━━━━━━━━━\u001b[0m\u001b[37m\u001b[0m \u001b[1m1s\u001b[0m 30ms/step - accuracy: 0.9044 - loss: 0.2144 - precision: 0.9107 - recall: 0.9216 - val_accuracy: 0.8707 - val_loss: 0.3507 - val_precision: 0.8590 - val_recall: 0.8933\n"
          ]
        }
      ]
    },
    {
      "cell_type": "code",
      "source": [
        "classifier.get_weights()"
      ],
      "metadata": {
        "colab": {
          "base_uri": "https://localhost:8080/"
        },
        "collapsed": true,
        "id": "Riys7aAv-k9i",
        "outputId": "49745e83-7b6d-4d3c-82e4-33801bac4a8b"
      },
      "execution_count": 67,
      "outputs": [
        {
          "output_type": "execute_result",
          "data": {
            "text/plain": [
              "[array([[ 5.04499495e-01, -5.20319998e-01, -4.11193162e-01,\n",
              "          3.61176491e-01,  5.92265725e-02, -5.99429905e-02,\n",
              "         -4.71073687e-02,  1.23079181e-01, -1.46623760e-01,\n",
              "          2.49685049e-02, -6.34074807e-02, -2.34352291e-01,\n",
              "         -3.85698348e-01, -4.41667736e-01,  3.85664999e-01,\n",
              "          5.19354939e-02],\n",
              "        [ 5.03450572e-01,  4.72153425e-02, -2.97857404e-01,\n",
              "          8.62737298e-02, -1.45465136e-03,  2.33093619e-01,\n",
              "          3.48520160e-01, -5.23799658e-03,  7.00911880e-02,\n",
              "          7.33004212e-02,  1.35384738e-01,  3.68490458e-01,\n",
              "         -1.40405238e-01,  2.08640099e-01, -4.60319340e-01,\n",
              "          2.21601605e-01],\n",
              "        [-4.37353849e-02, -4.31418419e-04, -4.54342365e-01,\n",
              "          4.37796712e-01,  1.54319882e-01, -2.56100953e-01,\n",
              "          5.04625738e-01, -4.36163515e-01,  2.50249743e-01,\n",
              "          2.38122821e-01,  4.90507901e-01,  1.41052544e-01,\n",
              "          4.19787467e-01,  2.25030780e-02, -4.17002738e-02,\n",
              "          1.67486310e-01],\n",
              "        [-1.95994109e-01, -1.47177845e-01,  3.40910614e-01,\n",
              "         -4.40225035e-01,  7.62460828e-02,  3.54394317e-02,\n",
              "         -2.37307668e-01, -4.09615874e-01, -8.48906934e-02,\n",
              "          1.17458642e-01, -1.44317150e-02,  5.06665528e-01,\n",
              "         -3.03280056e-01, -3.33538741e-01,  3.17268968e-02,\n",
              "         -3.11012626e-01],\n",
              "        [ 4.93652523e-01,  9.39654708e-02, -3.99429440e-01,\n",
              "          4.74070251e-01, -3.27873886e-01, -1.08036250e-01,\n",
              "          3.62111032e-01, -8.54738951e-02,  1.04555309e-01,\n",
              "          2.96800792e-01,  2.70126164e-01, -3.93731743e-01,\n",
              "         -1.28057837e-01, -1.39194757e-01, -4.18874174e-01,\n",
              "          1.63036168e-01],\n",
              "        [ 2.64588535e-01,  2.83535779e-01,  1.98026121e-01,\n",
              "         -2.99602151e-02,  4.84926641e-01, -2.99794137e-01,\n",
              "         -6.54133260e-02, -2.27084905e-01,  3.15269887e-01,\n",
              "         -2.63922304e-01, -5.17823040e-01, -3.17972362e-01,\n",
              "          5.22012651e-01, -4.35691774e-02,  2.70586312e-01,\n",
              "          3.45886528e-01],\n",
              "        [-1.48115784e-01,  3.34143341e-01, -6.25229776e-02,\n",
              "          2.06681788e-01, -3.29454839e-02,  2.75969505e-01,\n",
              "          4.94752705e-01, -2.96227187e-01,  4.55575645e-01,\n",
              "          1.33679330e-01, -3.76734018e-01,  7.96668530e-02,\n",
              "         -2.98306763e-01,  1.99455619e-01,  2.68456221e-01,\n",
              "         -3.55390847e-01],\n",
              "        [-2.30067521e-01,  2.11336613e-01, -6.65585697e-02,\n",
              "         -4.70670462e-02,  3.32123160e-01, -2.11086482e-01,\n",
              "         -1.11306906e-02, -4.55541521e-01,  3.72969091e-01,\n",
              "          4.91762698e-01,  9.88864899e-02, -3.99090767e-01,\n",
              "          3.45490217e-01, -3.99904072e-01, -4.91410732e-01,\n",
              "         -4.76464927e-01],\n",
              "        [-2.71594524e-03, -2.20666766e-01,  1.22520745e-01,\n",
              "          3.68995190e-01, -3.68265569e-01, -4.96829301e-01,\n",
              "         -3.96524012e-01,  3.59924793e-01, -3.21862429e-01,\n",
              "          1.30124688e-01, -3.86711955e-02, -3.55346680e-01,\n",
              "          2.19449461e-01, -1.55602306e-01,  3.02359164e-01,\n",
              "          3.33236396e-01],\n",
              "        [ 4.18319225e-01, -7.09126890e-02,  4.72755551e-01,\n",
              "         -4.80637252e-02, -3.83378506e-01, -1.72460467e-01,\n",
              "          4.31222916e-02, -9.56010520e-02,  2.19440341e-01,\n",
              "          2.25229204e-01,  4.22616959e-01,  3.41052532e-01,\n",
              "         -5.23126423e-02, -6.65560961e-02,  1.43556595e-02,\n",
              "         -3.55812311e-02],\n",
              "        [-3.52599472e-01, -2.06573606e-01, -1.22432113e-02,\n",
              "         -9.48218703e-02,  1.74255669e-01,  1.04719639e-01,\n",
              "          3.16915512e-02,  4.95800555e-01, -4.38929260e-01,\n",
              "         -1.72839344e-01,  4.78170812e-01,  8.05528760e-02,\n",
              "         -4.82910305e-01,  1.87203705e-01,  4.09852684e-01,\n",
              "          4.85938251e-01],\n",
              "        [-1.19368523e-01, -2.69582778e-01,  5.10418475e-01,\n",
              "         -4.31395173e-01, -3.39381099e-01, -3.96683753e-01,\n",
              "         -2.60144800e-01, -3.08398187e-01, -1.17452681e-01,\n",
              "          2.33434141e-01, -4.95242894e-01, -4.21385467e-02,\n",
              "         -2.85530508e-01,  2.01411784e-01, -1.39133006e-01,\n",
              "         -5.17749071e-01],\n",
              "        [ 1.94020987e-01,  4.36730802e-01,  2.57448137e-01,\n",
              "          2.75047004e-01, -2.86755443e-01,  4.84496951e-02,\n",
              "          3.63342106e-01,  3.66722167e-01, -2.35309392e-01,\n",
              "         -2.95749426e-01,  4.84963477e-01,  2.66781032e-01,\n",
              "         -4.92135018e-01,  2.94702709e-01, -2.49369949e-01,\n",
              "          1.44694209e-01],\n",
              "        [-2.60931462e-01, -2.18481004e-01,  1.51175499e-01,\n",
              "          2.00395525e-01, -4.53618079e-01, -3.60360324e-01,\n",
              "         -7.80987740e-03, -3.22482109e-01, -2.70033777e-02,\n",
              "         -5.13236105e-01, -2.49636024e-01,  2.24813819e-02,\n",
              "          1.58182263e-01, -1.40836775e-01, -7.70560205e-02,\n",
              "          3.30329478e-01],\n",
              "        [ 3.79604578e-01,  1.44503355e-01,  1.52176559e-01,\n",
              "          2.15341628e-01,  4.38914716e-01,  4.67406809e-01,\n",
              "          2.01873839e-01, -3.31030369e-01,  1.91968083e-02,\n",
              "         -4.61083323e-01, -2.33655155e-01, -2.71305621e-01,\n",
              "          1.22600317e-01,  1.71689510e-01, -5.93692362e-02,\n",
              "         -2.78390378e-01],\n",
              "        [ 4.56056714e-01,  2.13139057e-02,  1.29757285e-01,\n",
              "         -5.01114666e-01,  2.71017492e-01,  3.30873728e-01,\n",
              "         -3.76319647e-01, -1.64403170e-01,  3.97283256e-01,\n",
              "          4.65523362e-01, -7.51861334e-02, -1.28073901e-01,\n",
              "         -1.39537781e-01, -2.65920460e-01,  2.91053176e-01,\n",
              "          2.88110375e-01],\n",
              "        [-1.81667238e-01, -1.57665431e-01,  2.22762048e-01,\n",
              "         -9.22960639e-02, -5.81896305e-02, -6.45376742e-02,\n",
              "         -3.36503088e-01,  1.42134190e-01,  1.40118241e-01,\n",
              "         -6.80238307e-02,  1.56044960e-01,  2.33150542e-01,\n",
              "          7.60204792e-02,  2.57459760e-01,  3.25172186e-01,\n",
              "          8.45254064e-02],\n",
              "        [ 4.68042076e-01,  8.76536965e-02, -1.15133077e-01,\n",
              "         -2.24554539e-03,  3.35794747e-01,  1.08609378e-01,\n",
              "         -1.47664428e-01,  4.98807728e-01, -2.52852738e-01,\n",
              "          7.94363022e-03,  3.40869367e-01, -2.65589744e-01,\n",
              "         -4.33288962e-01, -4.09088552e-01, -4.20481354e-01,\n",
              "         -3.82219166e-01],\n",
              "        [-2.72383153e-01,  3.37767839e-01, -3.15869510e-01,\n",
              "         -5.15497625e-02, -2.65505582e-01, -3.90575051e-01,\n",
              "          3.14759731e-01,  9.77056623e-02,  9.15965438e-02,\n",
              "         -1.99526101e-01,  4.98168170e-01, -2.43604630e-01,\n",
              "         -5.03264844e-01, -2.57434577e-01, -4.78212059e-01,\n",
              "          1.32735670e-01],\n",
              "        [ 1.16491616e-01, -3.17462623e-01,  1.60112679e-01,\n",
              "          1.13037586e-01, -2.07556725e-01, -1.53953791e-01,\n",
              "         -3.40974599e-01,  8.70353580e-02,  8.79705548e-02,\n",
              "          1.04188919e-04, -4.02923703e-01, -4.14068341e-01,\n",
              "          4.30630147e-01,  1.13746285e-01, -5.55662215e-02,\n",
              "         -3.01217794e-01],\n",
              "        [ 3.13136578e-02,  1.97570145e-01, -8.57780874e-02,\n",
              "          2.36273587e-01,  5.03659427e-01,  3.72850418e-01,\n",
              "         -4.86887783e-01,  1.26746714e-01, -4.27175403e-01,\n",
              "         -6.53189719e-02, -5.20764470e-01, -4.70585555e-01,\n",
              "         -4.25621510e-01,  9.60744619e-02, -6.35933876e-02,\n",
              "         -8.76469612e-02],\n",
              "        [-1.67141527e-01, -2.42508441e-01,  4.04892802e-01,\n",
              "         -4.50023353e-01,  6.31939769e-02, -5.08466601e-01,\n",
              "         -4.49391335e-01,  6.81363940e-02, -2.19799697e-01,\n",
              "         -4.43068981e-01, -2.03356147e-01,  9.46252346e-02,\n",
              "          1.61802649e-01,  2.50804543e-01, -3.48640203e-01,\n",
              "          2.23834336e-01]], dtype=float32),\n",
              " array([0., 0., 0., 0., 0., 0., 0., 0., 0., 0., 0., 0., 0., 0., 0., 0.],\n",
              "       dtype=float32),\n",
              " array([[ 0.5887647 , -0.2627546 , -0.20147288,  0.32788312,  0.14009643,\n",
              "          0.5551782 , -0.439341  ,  0.17987597],\n",
              "        [ 0.09358209,  0.09518242,  0.2388202 , -0.45182002, -0.58594996,\n",
              "          0.06573445,  0.14591861, -0.22980976],\n",
              "        [-0.19038555, -0.349199  , -0.22583023, -0.12486267,  0.32395852,\n",
              "         -0.2551694 , -0.5055812 ,  0.4446444 ],\n",
              "        [-0.23812044,  0.18376398, -0.12006143, -0.2799535 ,  0.28208774,\n",
              "          0.06873536,  0.517863  ,  0.41150302],\n",
              "        [ 0.48437697, -0.439991  ,  0.43069953,  0.39136785, -0.5051634 ,\n",
              "         -0.57499313, -0.03221571, -0.00652802],\n",
              "        [-0.41342306, -0.03438598, -0.21076277,  0.5171973 ,  0.29903626,\n",
              "          0.24672383,  0.2700771 ,  0.47427088],\n",
              "        [ 0.1736486 ,  0.3524773 ,  0.44060642,  0.5221291 , -0.447374  ,\n",
              "         -0.4437101 ,  0.30475968, -0.6096178 ],\n",
              "        [-0.2951151 ,  0.5849746 ,  0.0243715 , -0.15403396, -0.5019026 ,\n",
              "          0.45387775, -0.5560158 ,  0.4344687 ],\n",
              "        [ 0.46338075,  0.2952137 , -0.50196445, -0.4009029 ,  0.19942462,\n",
              "         -0.23449829,  0.36520362,  0.28721124],\n",
              "        [ 0.3018027 , -0.26105046, -0.3022112 ,  0.11667377,  0.2574371 ,\n",
              "         -0.06022203, -0.00852472,  0.21645302],\n",
              "        [ 0.36765075, -0.47697204, -0.2804931 ,  0.47993165, -0.11394849,\n",
              "         -0.05347037, -0.09287864,  0.48466653],\n",
              "        [-0.44928527,  0.09612268, -0.4535665 ,  0.4347499 , -0.39981753,\n",
              "          0.1058678 ,  0.50769323,  0.21244103],\n",
              "        [-0.04147553, -0.3094997 ,  0.3409136 ,  0.40141803,  0.34041983,\n",
              "         -0.4403954 ,  0.45126885, -0.36939138],\n",
              "        [ 0.43912882,  0.4901548 ,  0.61204296,  0.2939093 , -0.44388896,\n",
              "         -0.37267655, -0.15510297, -0.18529522],\n",
              "        [-0.31539187,  0.32861853,  0.03038806, -0.0963164 , -0.37661666,\n",
              "         -0.16250083,  0.44030112, -0.53689814],\n",
              "        [ 0.13647264,  0.37369734, -0.11580724, -0.3713574 ,  0.3636363 ,\n",
              "          0.218755  ,  0.16205347,  0.08312798]], dtype=float32),\n",
              " array([0., 0., 0., 0., 0., 0., 0., 0.], dtype=float32),\n",
              " array([[-0.1195606 ],\n",
              "        [-0.09645367],\n",
              "        [ 0.2612598 ],\n",
              "        [ 0.59992504],\n",
              "        [ 0.78367424],\n",
              "        [-0.51939595],\n",
              "        [-0.18610609],\n",
              "        [-0.5178051 ]], dtype=float32),\n",
              " array([0.], dtype=float32),\n",
              " array([[ 0.33150053, -0.90971863,  2.0892293 ,  1.4803967 , -1.9470153 ,\n",
              "          0.48534632,  1.0339835 , -1.8777277 ,  1.9846618 , -0.9157672 ,\n",
              "         -2.2321563 , -2.2171707 ,  0.8807883 ,  0.67767334,  1.0306482 ,\n",
              "          1.665158  ]], dtype=float32),\n",
              " array([0., 0., 0., 0., 0., 0., 0., 0., 0., 0., 0., 0., 0., 0., 0., 0.],\n",
              "       dtype=float32),\n",
              " array([[-0.22131893, -0.3317059 , -0.27862766, -0.29288042,  0.27290416,\n",
              "          0.37956297,  0.38829905, -0.3490679 ],\n",
              "        [ 0.4378044 ,  0.52704436,  0.15106076,  0.46972042,  0.15680271,\n",
              "          0.49441296,  0.21801215,  0.37668133],\n",
              "        [ 0.3166225 ,  0.45025307,  0.21944499, -0.3267223 ,  0.26462692,\n",
              "         -0.50935084,  0.3893401 , -0.3297743 ],\n",
              "        [-0.46735466, -0.38304844, -0.18740669,  0.5135265 , -0.4290592 ,\n",
              "         -0.00075412,  0.28851235, -0.5169598 ],\n",
              "        [ 0.02478194, -0.41626102,  0.51721364,  0.17032152,  0.26856822,\n",
              "         -0.21178931,  0.38007396, -0.31737852],\n",
              "        [-0.16175476,  0.2768041 ,  0.29893917, -0.19419399,  0.2070952 ,\n",
              "          0.5830938 ,  0.46083456,  0.4858846 ],\n",
              "        [-0.43713814, -0.29745975, -0.5432864 , -0.50019115, -0.15789115,\n",
              "         -0.5678128 , -0.4774105 ,  0.22161984],\n",
              "        [ 0.6002684 ,  0.30791867,  0.21386367,  0.37288284, -0.35727665,\n",
              "         -0.36191508, -0.0504778 ,  0.02276593],\n",
              "        [ 0.36712575,  0.30427772,  0.10130304,  0.55025023, -0.21082848,\n",
              "         -0.49172515, -0.03142905, -0.02404988],\n",
              "        [-0.39346194,  0.5246777 ,  0.55574614, -0.19521514,  0.47325283,\n",
              "         -0.5734356 , -0.567721  , -0.539532  ],\n",
              "        [-0.24162096, -0.07467496, -0.46524042, -0.34731805,  0.11342466,\n",
              "          0.5615819 ,  0.4274668 , -0.5919623 ],\n",
              "        [-0.4633475 ,  0.37596095,  0.44494838,  0.32491362, -0.4759373 ,\n",
              "          0.14241838,  0.25738305, -0.2348687 ],\n",
              "        [ 0.05508822,  0.24446678, -0.2584423 , -0.02428478, -0.3366864 ,\n",
              "          0.40160066, -0.06740177,  0.41211754],\n",
              "        [ 0.4988274 ,  0.5621348 , -0.375982  , -0.31473866, -0.30228612,\n",
              "          0.24709994, -0.09033912,  0.38112545],\n",
              "        [ 0.2926572 , -0.10435128, -0.3718176 ,  0.36425245,  0.31909025,\n",
              "          0.07467586, -0.43272805, -0.19334704],\n",
              "        [ 0.33035582, -0.40042078,  0.2524119 , -0.5491844 ,  0.38068044,\n",
              "         -0.09176368,  0.13330036, -0.22565603]], dtype=float32),\n",
              " array([0., 0., 0., 0., 0., 0., 0., 0.], dtype=float32),\n",
              " array([[ 0.69557786],\n",
              "        [ 0.6372403 ],\n",
              "        [ 0.23172474],\n",
              "        [ 0.12506461],\n",
              "        [ 0.3696009 ],\n",
              "        [ 0.20751822],\n",
              "        [-0.5693213 ],\n",
              "        [-0.6336573 ]], dtype=float32),\n",
              " array([0.], dtype=float32)]"
            ]
          },
          "metadata": {},
          "execution_count": 67
        }
      ]
    },
    {
      "cell_type": "code",
      "source": [
        "from sklearn.metrics import accuracy_score, precision_score, recall_score, classification_report\n",
        "\n",
        "# Predict on the test set\n",
        "y_pred_prob = model.predict(x_testk)\n",
        "y_pred = (y_pred_prob > 0.5).astype(int)\n",
        "\n",
        "# Metrics\n",
        "print(\"Accuracy:\", accuracy_score(y_testk, y_pred))\n",
        "print(\"Precision:\", precision_score(y_testk, y_pred))\n",
        "print(\"Recall:\", recall_score(y_testk, y_pred))\n",
        "print(classification_report(y_testk, y_pred))"
      ],
      "metadata": {
        "colab": {
          "base_uri": "https://localhost:8080/"
        },
        "id": "ED0YzSJ2-kyT",
        "outputId": "a269fd35-a3b7-4044-f24b-1fe0586541b5"
      },
      "execution_count": 69,
      "outputs": [
        {
          "output_type": "stream",
          "name": "stdout",
          "text": [
            "\u001b[1m6/6\u001b[0m \u001b[32m━━━━━━━━━━━━━━━━━━━━\u001b[0m\u001b[37m\u001b[0m \u001b[1m0s\u001b[0m 19ms/step\n",
            "Accuracy: 0.8478260869565217\n",
            "Precision: 0.8495575221238938\n",
            "Recall: 0.897196261682243\n",
            "              precision    recall  f1-score   support\n",
            "\n",
            "           0       0.85      0.78      0.81        77\n",
            "           1       0.85      0.90      0.87       107\n",
            "\n",
            "    accuracy                           0.85       184\n",
            "   macro avg       0.85      0.84      0.84       184\n",
            "weighted avg       0.85      0.85      0.85       184\n",
            "\n"
          ]
        }
      ]
    },
    {
      "cell_type": "code",
      "source": [
        "from sklearn.metrics import confusion_matrix\n",
        "import seaborn as sns\n",
        "cm = confusion_matrix(y_testk, y_pred)\n",
        "print(\"Confusion Matrix:\\n\", cm)\n",
        "\n",
        "# Plotting the Confusion Matrix\n",
        "plt.figure(figsize=(8, 6))\n",
        "sns.heatmap(cm, annot=True, fmt=\"d\", cmap=\"Blues\", xticklabels=['Predicted Negative', 'Predicted Positive'], yticklabels=['Actual Negative', 'Actual Positive'])\n",
        "plt.xlabel('Predicted label')\n",
        "plt.ylabel('True label')\n",
        "plt.title('Confusion Matrix')\n",
        "plt.show()\n"
      ],
      "metadata": {
        "colab": {
          "base_uri": "https://localhost:8080/",
          "height": 616
        },
        "id": "oeeX_uCkANb3",
        "outputId": "98e8e303-201f-4578-b05a-3f55b5d854df"
      },
      "execution_count": 74,
      "outputs": [
        {
          "output_type": "stream",
          "name": "stdout",
          "text": [
            "Confusion Matrix:\n",
            " [[60 17]\n",
            " [11 96]]\n"
          ]
        },
        {
          "output_type": "display_data",
          "data": {
            "text/plain": [
              "<Figure size 800x600 with 2 Axes>"
            ],
            "image/png": "[encoded data removed]"
          },
          "metadata": {}
        }
      ]
    },
    {
      "cell_type": "code",
      "source": [
        "# Accuracy\n",
        "plt.plot(history.history['accuracy'], label='Train Accuracy')\n",
        "plt.plot(history.history['val_accuracy'], label='Val Accuracy')\n",
        "plt.title('Model Accuracy')\n",
        "plt.xlabel('Epochs')\n",
        "plt.ylabel('Accuracy')\n",
        "plt.legend()\n",
        "plt.grid(True)\n",
        "plt.show()\n",
        "\n"
      ],
      "metadata": {
        "colab": {
          "base_uri": "https://localhost:8080/",
          "height": 472
        },
        "id": "HsdD9N9y-kvz",
        "outputId": "ec702f54-1862-4b92-fbc6-9ff1072884c7"
      },
      "execution_count": 70,
      "outputs": [
        {
          "output_type": "display_data",
          "data": {
            "text/plain": [
              "<Figure size 640x480 with 1 Axes>"
            ],
            "image/png": "[encoded data removed]"
          },
          "metadata": {}
        }
      ]
    },
    {
      "cell_type": "code",
      "source": [
        "# Loss\n",
        "plt.plot(history.history['loss'], label='Train Loss')\n",
        "plt.plot(history.history['val_loss'], label='Val Loss')\n",
        "plt.title('Model Loss')\n",
        "plt.xlabel('Epochs')\n",
        "plt.ylabel('Loss')\n",
        "plt.legend()\n",
        "plt.grid(True)\n",
        "plt.show()"
      ],
      "metadata": {
        "colab": {
          "base_uri": "https://localhost:8080/",
          "height": 472
        },
        "id": "YD5YuvaK-krS",
        "outputId": "8dcbe41b-e592-49a3-b387-106922098cef"
      },
      "execution_count": 71,
      "outputs": [
        {
          "output_type": "display_data",
          "data": {
            "text/plain": [
              "<Figure size 640x480 with 1 Axes>"
            ],
            "image/png": "[encoded data removed]"
          },
          "metadata": {}
        }
      ]
    },
    {
      "cell_type": "code",
      "source": [
        "!pip install visualkeras pydot graphviz"
      ],
      "metadata": {
        "colab": {
          "base_uri": "https://localhost:8080/"
        },
        "id": "gxuMtwat-ko-",
        "outputId": "a13b1217-7baf-488b-d55c-6c95fea0f93f"
      },
      "execution_count": 72,
      "outputs": [
        {
          "output_type": "stream",
          "name": "stdout",
          "text": [
            "Collecting visualkeras\n",
            "  Downloading visualkeras-0.1.4-py3-none-any.whl.metadata (11 kB)\n",
            "Requirement already satisfied: pydot in /usr/local/lib/python3.11/dist-packages (3.0.4)\n",
            "Requirement already satisfied: graphviz in /usr/local/lib/python3.11/dist-packages (0.21)\n",
            "Requirement already satisfied: pillow>=6.2.0 in /usr/local/lib/python3.11/dist-packages (from visualkeras) (11.2.1)\n",
            "Requirement already satisfied: numpy>=1.18.1 in /usr/local/lib/python3.11/dist-packages (from visualkeras) (2.0.2)\n",
            "Collecting aggdraw>=1.3.11 (from visualkeras)\n",
            "  Downloading aggdraw-1.3.19-cp311-cp311-manylinux_2_17_x86_64.manylinux2014_x86_64.whl.metadata (655 bytes)\n",
            "Requirement already satisfied: pyparsing>=3.0.9 in /usr/local/lib/python3.11/dist-packages (from pydot) (3.2.3)\n",
            "Downloading visualkeras-0.1.4-py3-none-any.whl (17 kB)\n",
            "Downloading aggdraw-1.3.19-cp311-cp311-manylinux_2_17_x86_64.manylinux2014_x86_64.whl (997 kB)\n",
            "\u001b[2K   \u001b[90m━━━━━━━━━━━━━━━━━━━━━━━━━━━━━━━━━━━━━━━━\u001b[0m \u001b[32m997.4/997.4 kB\u001b[0m \u001b[31m27.5 MB/s\u001b[0m eta \u001b[36m0:00:00\u001b[0m\n",
            "\u001b[?25hInstalling collected packages: aggdraw, visualkeras\n",
            "Successfully installed aggdraw-1.3.19 visualkeras-0.1.4\n"
          ]
        }
      ]
    },
    {
      "cell_type": "code",
      "source": [
        "from tensorflow.keras.utils import plot_model"
      ],
      "metadata": {
        "id": "VvVngGXaAZ0v"
      },
      "execution_count": 75,
      "outputs": []
    }
  ]
}